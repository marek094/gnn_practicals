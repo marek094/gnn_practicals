{
  "cells": [
    {
      "attachments": {},
      "cell_type": "markdown",
      "metadata": {
        "id": "Q2eZvMS3DQF7"
      },
      "source": [
        "# Graph neural networks - Practicals 1\n",
        "\n",
        "### Installation of PyTorch"
      ]
    },
    {
      "cell_type": "code",
      "execution_count": 14,
      "metadata": {
        "colab": {
          "base_uri": "https://localhost:8080/"
        },
        "id": "Iit8X-n79clb",
        "outputId": "d9019870-1798-453b-f305-3e1cf2431838"
      },
      "outputs": [
        {
          "name": "stdout",
          "output_type": "stream",
          "text": [
            "Looking in links: https://pytorch-geometric.com/whl/torch-2.0.1+cpu.html\n",
            "Requirement already satisfied: torch-sparse in /home/mp/miniconda3/envs/gnnp1/lib/python3.10/site-packages (0.6.17)\n",
            "Requirement already satisfied: torch-scatter in /home/mp/miniconda3/envs/gnnp1/lib/python3.10/site-packages (2.1.1)\n",
            "Requirement already satisfied: torch-cluster in /home/mp/miniconda3/envs/gnnp1/lib/python3.10/site-packages (1.6.1+pt20cpu)\n",
            "Requirement already satisfied: torch-spline-conv in /home/mp/miniconda3/envs/gnnp1/lib/python3.10/site-packages (1.2.2+pt20cpu)\n",
            "Requirement already satisfied: scipy in /home/mp/miniconda3/envs/gnnp1/lib/python3.10/site-packages (from torch-sparse) (1.11.1)\n",
            "Requirement already satisfied: numpy<1.28.0,>=1.21.6 in /home/mp/miniconda3/envs/gnnp1/lib/python3.10/site-packages (from scipy->torch-sparse) (1.25.0)\n",
            "Requirement already satisfied: torch-geometric in /home/mp/miniconda3/envs/gnnp1/lib/python3.10/site-packages (2.3.1)\n",
            "Requirement already satisfied: tqdm in /home/mp/miniconda3/envs/gnnp1/lib/python3.10/site-packages (from torch-geometric) (4.65.0)\n",
            "Requirement already satisfied: numpy in /home/mp/miniconda3/envs/gnnp1/lib/python3.10/site-packages (from torch-geometric) (1.25.0)\n",
            "Requirement already satisfied: scipy in /home/mp/miniconda3/envs/gnnp1/lib/python3.10/site-packages (from torch-geometric) (1.11.1)\n",
            "Requirement already satisfied: jinja2 in /home/mp/miniconda3/envs/gnnp1/lib/python3.10/site-packages (from torch-geometric) (3.1.2)\n",
            "Requirement already satisfied: requests in /home/mp/miniconda3/envs/gnnp1/lib/python3.10/site-packages (from torch-geometric) (2.31.0)\n",
            "Requirement already satisfied: pyparsing in /home/mp/miniconda3/envs/gnnp1/lib/python3.10/site-packages (from torch-geometric) (3.1.0)\n",
            "Requirement already satisfied: scikit-learn in /home/mp/miniconda3/envs/gnnp1/lib/python3.10/site-packages (from torch-geometric) (1.3.0)\n",
            "Requirement already satisfied: psutil>=5.8.0 in /home/mp/miniconda3/envs/gnnp1/lib/python3.10/site-packages (from torch-geometric) (5.9.0)\n",
            "Requirement already satisfied: MarkupSafe>=2.0 in /home/mp/miniconda3/envs/gnnp1/lib/python3.10/site-packages (from jinja2->torch-geometric) (2.1.2)\n",
            "Requirement already satisfied: charset-normalizer<4,>=2 in /home/mp/miniconda3/envs/gnnp1/lib/python3.10/site-packages (from requests->torch-geometric) (3.1.0)\n",
            "Requirement already satisfied: idna<4,>=2.5 in /home/mp/miniconda3/envs/gnnp1/lib/python3.10/site-packages (from requests->torch-geometric) (3.4)\n",
            "Requirement already satisfied: urllib3<3,>=1.21.1 in /home/mp/miniconda3/envs/gnnp1/lib/python3.10/site-packages (from requests->torch-geometric) (2.0.3)\n",
            "Requirement already satisfied: certifi>=2017.4.17 in /home/mp/miniconda3/envs/gnnp1/lib/python3.10/site-packages (from requests->torch-geometric) (2023.5.7)\n",
            "Requirement already satisfied: joblib>=1.1.1 in /home/mp/miniconda3/envs/gnnp1/lib/python3.10/site-packages (from scikit-learn->torch-geometric) (1.3.1)\n",
            "Requirement already satisfied: threadpoolctl>=2.0.0 in /home/mp/miniconda3/envs/gnnp1/lib/python3.10/site-packages (from scikit-learn->torch-geometric) (3.1.0)\n",
            "Requirement already satisfied: networkx==3.1 in /home/mp/miniconda3/envs/gnnp1/lib/python3.10/site-packages (3.1)\n",
            "Requirement already satisfied: matplotlib in /home/mp/miniconda3/envs/gnnp1/lib/python3.10/site-packages (3.7.1)\n",
            "Requirement already satisfied: tqdm in /home/mp/miniconda3/envs/gnnp1/lib/python3.10/site-packages (4.65.0)\n",
            "Requirement already satisfied: torchmetrics in /home/mp/miniconda3/envs/gnnp1/lib/python3.10/site-packages (0.11.4)\n",
            "Requirement already satisfied: ipywidgets in /home/mp/miniconda3/envs/gnnp1/lib/python3.10/site-packages (8.0.6)\n",
            "Requirement already satisfied: contourpy>=1.0.1 in /home/mp/miniconda3/envs/gnnp1/lib/python3.10/site-packages (from matplotlib) (1.1.0)\n",
            "Requirement already satisfied: cycler>=0.10 in /home/mp/miniconda3/envs/gnnp1/lib/python3.10/site-packages (from matplotlib) (0.11.0)\n",
            "Requirement already satisfied: fonttools>=4.22.0 in /home/mp/miniconda3/envs/gnnp1/lib/python3.10/site-packages (from matplotlib) (4.40.0)\n",
            "Requirement already satisfied: kiwisolver>=1.0.1 in /home/mp/miniconda3/envs/gnnp1/lib/python3.10/site-packages (from matplotlib) (1.4.4)\n",
            "Requirement already satisfied: numpy>=1.20 in /home/mp/miniconda3/envs/gnnp1/lib/python3.10/site-packages (from matplotlib) (1.25.0)\n",
            "Requirement already satisfied: packaging>=20.0 in /home/mp/miniconda3/envs/gnnp1/lib/python3.10/site-packages (from matplotlib) (23.1)\n",
            "Requirement already satisfied: pillow>=6.2.0 in /home/mp/miniconda3/envs/gnnp1/lib/python3.10/site-packages (from matplotlib) (10.0.0)\n",
            "Requirement already satisfied: pyparsing>=2.3.1 in /home/mp/miniconda3/envs/gnnp1/lib/python3.10/site-packages (from matplotlib) (3.1.0)\n",
            "Requirement already satisfied: python-dateutil>=2.7 in /home/mp/miniconda3/envs/gnnp1/lib/python3.10/site-packages (from matplotlib) (2.8.2)\n",
            "Requirement already satisfied: torch>=1.8.1 in /home/mp/miniconda3/envs/gnnp1/lib/python3.10/site-packages (from torchmetrics) (2.0.1+cpu)\n",
            "Requirement already satisfied: ipykernel>=4.5.1 in /home/mp/miniconda3/envs/gnnp1/lib/python3.10/site-packages (from ipywidgets) (6.15.0)\n",
            "Requirement already satisfied: ipython>=6.1.0 in /home/mp/miniconda3/envs/gnnp1/lib/python3.10/site-packages (from ipywidgets) (8.14.0)\n",
            "Requirement already satisfied: traitlets>=4.3.1 in /home/mp/miniconda3/envs/gnnp1/lib/python3.10/site-packages (from ipywidgets) (5.9.0)\n",
            "Requirement already satisfied: widgetsnbextension~=4.0.7 in /home/mp/miniconda3/envs/gnnp1/lib/python3.10/site-packages (from ipywidgets) (4.0.7)\n",
            "Requirement already satisfied: jupyterlab-widgets~=3.0.7 in /home/mp/miniconda3/envs/gnnp1/lib/python3.10/site-packages (from ipywidgets) (3.0.7)\n",
            "Requirement already satisfied: debugpy>=1.0 in /home/mp/miniconda3/envs/gnnp1/lib/python3.10/site-packages (from ipykernel>=4.5.1->ipywidgets) (1.5.1)\n",
            "Requirement already satisfied: jupyter-client>=6.1.12 in /home/mp/miniconda3/envs/gnnp1/lib/python3.10/site-packages (from ipykernel>=4.5.1->ipywidgets) (8.3.0)\n",
            "Requirement already satisfied: matplotlib-inline>=0.1 in /home/mp/miniconda3/envs/gnnp1/lib/python3.10/site-packages (from ipykernel>=4.5.1->ipywidgets) (0.1.6)\n",
            "Requirement already satisfied: nest-asyncio in /home/mp/miniconda3/envs/gnnp1/lib/python3.10/site-packages (from ipykernel>=4.5.1->ipywidgets) (1.5.6)\n",
            "Requirement already satisfied: psutil in /home/mp/miniconda3/envs/gnnp1/lib/python3.10/site-packages (from ipykernel>=4.5.1->ipywidgets) (5.9.0)\n",
            "Requirement already satisfied: pyzmq>=17 in /home/mp/miniconda3/envs/gnnp1/lib/python3.10/site-packages (from ipykernel>=4.5.1->ipywidgets) (25.1.0)\n",
            "Requirement already satisfied: tornado>=6.1 in /home/mp/miniconda3/envs/gnnp1/lib/python3.10/site-packages (from ipykernel>=4.5.1->ipywidgets) (6.3.2)\n",
            "Requirement already satisfied: backcall in /home/mp/miniconda3/envs/gnnp1/lib/python3.10/site-packages (from ipython>=6.1.0->ipywidgets) (0.2.0)\n",
            "Requirement already satisfied: decorator in /home/mp/miniconda3/envs/gnnp1/lib/python3.10/site-packages (from ipython>=6.1.0->ipywidgets) (5.1.1)\n",
            "Requirement already satisfied: jedi>=0.16 in /home/mp/miniconda3/envs/gnnp1/lib/python3.10/site-packages (from ipython>=6.1.0->ipywidgets) (0.18.2)\n",
            "Requirement already satisfied: pickleshare in /home/mp/miniconda3/envs/gnnp1/lib/python3.10/site-packages (from ipython>=6.1.0->ipywidgets) (0.7.5)\n",
            "Requirement already satisfied: prompt-toolkit!=3.0.37,<3.1.0,>=3.0.30 in /home/mp/miniconda3/envs/gnnp1/lib/python3.10/site-packages (from ipython>=6.1.0->ipywidgets) (3.0.38)\n",
            "Requirement already satisfied: pygments>=2.4.0 in /home/mp/miniconda3/envs/gnnp1/lib/python3.10/site-packages (from ipython>=6.1.0->ipywidgets) (2.15.1)\n",
            "Requirement already satisfied: stack-data in /home/mp/miniconda3/envs/gnnp1/lib/python3.10/site-packages (from ipython>=6.1.0->ipywidgets) (0.6.2)\n",
            "Requirement already satisfied: pexpect>4.3 in /home/mp/miniconda3/envs/gnnp1/lib/python3.10/site-packages (from ipython>=6.1.0->ipywidgets) (4.8.0)\n",
            "Requirement already satisfied: six>=1.5 in /home/mp/miniconda3/envs/gnnp1/lib/python3.10/site-packages (from python-dateutil>=2.7->matplotlib) (1.16.0)\n",
            "Requirement already satisfied: filelock in /home/mp/miniconda3/envs/gnnp1/lib/python3.10/site-packages (from torch>=1.8.1->torchmetrics) (3.9.0)\n",
            "Requirement already satisfied: typing-extensions in /home/mp/miniconda3/envs/gnnp1/lib/python3.10/site-packages (from torch>=1.8.1->torchmetrics) (4.7.1)\n",
            "Requirement already satisfied: sympy in /home/mp/miniconda3/envs/gnnp1/lib/python3.10/site-packages (from torch>=1.8.1->torchmetrics) (1.11.1)\n",
            "Requirement already satisfied: jinja2 in /home/mp/miniconda3/envs/gnnp1/lib/python3.10/site-packages (from torch>=1.8.1->torchmetrics) (3.1.2)\n",
            "Requirement already satisfied: parso<0.9.0,>=0.8.0 in /home/mp/miniconda3/envs/gnnp1/lib/python3.10/site-packages (from jedi>=0.16->ipython>=6.1.0->ipywidgets) (0.8.3)\n",
            "Requirement already satisfied: jupyter-core!=5.0.*,>=4.12 in /home/mp/miniconda3/envs/gnnp1/lib/python3.10/site-packages (from jupyter-client>=6.1.12->ipykernel>=4.5.1->ipywidgets) (5.3.1)\n",
            "Requirement already satisfied: ptyprocess>=0.5 in /home/mp/miniconda3/envs/gnnp1/lib/python3.10/site-packages (from pexpect>4.3->ipython>=6.1.0->ipywidgets) (0.7.0)\n",
            "Requirement already satisfied: wcwidth in /home/mp/miniconda3/envs/gnnp1/lib/python3.10/site-packages (from prompt-toolkit!=3.0.37,<3.1.0,>=3.0.30->ipython>=6.1.0->ipywidgets) (0.2.6)\n",
            "Requirement already satisfied: MarkupSafe>=2.0 in /home/mp/miniconda3/envs/gnnp1/lib/python3.10/site-packages (from jinja2->torch>=1.8.1->torchmetrics) (2.1.2)\n",
            "Requirement already satisfied: executing>=1.2.0 in /home/mp/miniconda3/envs/gnnp1/lib/python3.10/site-packages (from stack-data->ipython>=6.1.0->ipywidgets) (1.2.0)\n",
            "Requirement already satisfied: asttokens>=2.1.0 in /home/mp/miniconda3/envs/gnnp1/lib/python3.10/site-packages (from stack-data->ipython>=6.1.0->ipywidgets) (2.2.1)\n",
            "Requirement already satisfied: pure-eval in /home/mp/miniconda3/envs/gnnp1/lib/python3.10/site-packages (from stack-data->ipython>=6.1.0->ipywidgets) (0.2.2)\n",
            "Requirement already satisfied: mpmath>=0.19 in /home/mp/miniconda3/envs/gnnp1/lib/python3.10/site-packages (from sympy->torch>=1.8.1->torchmetrics) (1.2.1)\n",
            "Requirement already satisfied: platformdirs>=2.5 in /home/mp/miniconda3/envs/gnnp1/lib/python3.10/site-packages (from jupyter-core!=5.0.*,>=4.12->jupyter-client>=6.1.12->ipykernel>=4.5.1->ipywidgets) (3.8.0)\n"
          ]
        }
      ],
      "source": [
        "import torch\n",
        "TORCH = torch.__version__.split('+')[0]\n",
        "DEVICE = 'cu' + torch.version.cuda.replace('.', '') if torch.cuda.is_available() else 'cpu'\n",
        "\n",
        "!pip install torch-sparse torch-scatter torch-cluster torch-spline-conv -f https://pytorch-geometric.com/whl/torch-{TORCH}+{DEVICE}.html\n",
        "!pip install torch-geometric\n",
        "!pip install networkx==3.1 matplotlib tqdm torchmetrics ipywidgets"
      ]
    },
    {
      "cell_type": "code",
      "execution_count": 15,
      "metadata": {
        "id": "3xoH_W36DFZ9"
      },
      "outputs": [],
      "source": [
        "import torch.nn as nn\n",
        "import torch.nn.functional as F\n",
        "import torchmetrics\n",
        "import torch_geometric.nn as gnn\n",
        "import torch_geometric as tg\n",
        "from torch_geometric.data import Dataset\n",
        "from torch_geometric.loader import DataLoader\n",
        "from torch_geometric.datasets import TUDataset\n",
        "import networkx as nx\n",
        "import matplotlib.pyplot as plt\n",
        "from typing import Tuple\n",
        "# from tqdm.notebook import tqdm\n",
        "from tqdm import tqdm\n",
        "\n",
        "\n",
        "def train_and_eval(model : nn.Module, dataset : Dataset) -> Tuple[nn.Module, float]:\n",
        "    \"\"\"\n",
        "    Train and evaluate the model on the dataset.\n",
        "    A boilerplate for training and evaluating a neural network.\n",
        "\n",
        "    Args:\n",
        "        model (nn.Module): The model to train and evaluate.\n",
        "        dataset (Dataset): The dataset to train and evaluate on.\n",
        "\n",
        "    Returns:\n",
        "        nn.Module: The trained model with the best validation accuracy.\n",
        "        float: The best validation accuracy.\n",
        "    \"\"\"\n",
        "\n",
        "    # init training and validation dataloaders\n",
        "    dataloader_train = DataLoader(dataset[:150], batch_size=16, shuffle=True)\n",
        "    dataloader_val = DataLoader(dataset[150:], batch_size=16, shuffle=True)\n",
        "\n",
        "    # init optimizer and loss\n",
        "    optimizer = torch.optim.Adam(model.parameters(), lr=0.01)\n",
        "    criterion = nn.CrossEntropyLoss()\n",
        "\n",
        "    # init metrics\n",
        "    metric_loss_train = torchmetrics.MeanMetric()\n",
        "    metric_accuracy_train = torchmetrics.Accuracy(task=\"multiclass\", num_classes=dataset.num_classes)\n",
        "    metric_accuracy_val = torchmetrics.Accuracy(task=\"multiclass\", num_classes=dataset.num_classes)\n",
        "\n",
        "    best_model_params = None\n",
        "    best_val_acc = 0.0\n",
        "\n",
        "    # training loop\n",
        "    num_epochs = 100\n",
        "    epoch_bar = tqdm(list(range(num_epochs)), desc=\"Epochs\" + \" \"*100)\n",
        "    for epoch in epoch_bar:\n",
        "\n",
        "        # training loop\n",
        "        for data in dataloader_train:\n",
        "            model.train()\n",
        "            optimizer.zero_grad()\n",
        "            logits = model(data.x, data.edge_index, data.batch)\n",
        "            loss = criterion(logits, data.y)\n",
        "            loss.backward()\n",
        "            optimizer.step()\n",
        "\n",
        "            metric_loss_train(loss)\n",
        "            metric_accuracy_train(logits.argmax(dim=1), data.y)\n",
        "\n",
        "        # evaluation loop\n",
        "        for data in dataloader_val:\n",
        "            model.eval()\n",
        "            with torch.no_grad():\n",
        "                logits = model(data.x, data.edge_index, data.batch)\n",
        "                pred = logits.argmax(dim=1)\n",
        "                metric_accuracy_val(pred, data.y)\n",
        "\n",
        "\n",
        "        train_loss = metric_loss_train.compute().item()\n",
        "        train_acc = metric_accuracy_train.compute().item()\n",
        "        val_acc = metric_accuracy_val.compute().item()\n",
        "\n",
        "        # progress bar\n",
        "        epoch_bar.set_description(\"\".join([\n",
        "            f'Epoch: {epoch+1:03d} | ',\n",
        "            f'Val Acc: {val_acc:.3f} | ',\n",
        "            f'Train Acc: {train_acc:.3f} | ',\n",
        "            f'Train Loss: {train_loss:.3f} | ',\n",
        "            ]))\n",
        "\n",
        "        # update best model\n",
        "        if val_acc > best_val_acc:\n",
        "            best_val_acc = val_acc\n",
        "            best_model_state = model.state_dict()\n",
        "\n",
        "    best_model = model\n",
        "    best_model.load_state_dict(best_model_state)\n",
        "\n",
        "    return best_model, best_val_acc"
      ]
    },
    {
      "attachments": {},
      "cell_type": "markdown",
      "metadata": {
        "id": "9g4f01pgDW3v"
      },
      "source": [
        "### Download training data\n",
        "\n",
        "**Datasets**\n",
        "\n",
        "Comparing to other Fully-Connected Neural Networks (NNs) or Convolutional Neural Networks (CNNs),\n",
        "\n",
        "Graph neural networks (GNNs) require have two basic datapoints: a graph structure and a feature matrix."
      ]
    },
    {
      "cell_type": "code",
      "execution_count": 16,
      "metadata": {
        "colab": {
          "base_uri": "https://localhost:8080/"
        },
        "id": "5dfqiBpBDS2g",
        "outputId": "197bcc7e-4d45-464c-bad5-ba57a83c7cfb"
      },
      "outputs": [],
      "source": [
        "from torch_geometric.datasets import TUDataset\n",
        "\n",
        "dataset = TUDataset(root='data/TUDataset', name='MUTAG')"
      ]
    },
    {
      "attachments": {},
      "cell_type": "markdown",
      "metadata": {
        "id": "ap0EHntz5kLI"
      },
      "source": [
        "### Define our model\n",
        "\n",
        "We will use the `nn.Module` class from PyTorch to define our model.\n",
        "Since having multiple datapoints we need to define a model that has multiple inputs in the `forward` function.\n",
        "\n"
      ]
    },
    {
      "cell_type": "code",
      "execution_count": 17,
      "metadata": {
        "id": "ZLlNwk-3DZu7"
      },
      "outputs": [],
      "source": [
        "class GraphNetModel(nn.Module):\n",
        "\n",
        "    def __init__(self, num_features, num_classes, gnnLayer=None):\n",
        "        super().__init__()\n",
        "\n",
        "        # in case no gnnLayer is provided, use GraphConv\n",
        "        if gnnLayer is None:\n",
        "            gnnLayer = gnn.SGConv\n",
        "\n",
        "        # first graph covolutional layer\n",
        "        self.conv1 = gnnLayer(num_features, 32)\n",
        "\n",
        "        # TODO🚀(optional):\n",
        "        # - add more conv layers\n",
        "\n",
        "        # last graph convolutional layer\n",
        "        self.convL = gnnLayer(32, 32)\n",
        "\n",
        "        # TODO🚀(optional):\n",
        "        # - in many tutorials, the stantard dropout layer\n",
        "        #    on **features** is used which can help\n",
        "        #    with overfitting. Simlarly, the standard\n",
        "        #    batch normalization can be used as well.\n",
        "        # - `self.dropout = nn.Dropout(0.5)`\n",
        "        # - `self.batchnorm = nn.BatchNorm1d(32)`\n",
        "\n",
        "        self.linear = nn.Linear(32, num_classes)\n",
        "\n",
        "    def forward(self, x, edge_index, batch):\n",
        "\n",
        "        # apply first layer and follow with ReLU\n",
        "        x = self.conv1(x, edge_index).relu()\n",
        "\n",
        "        # TODO🚀(optional):\n",
        "        # - apply more conv layers\n",
        "\n",
        "        x = self.convL(x, edge_index).relu()\n",
        "\n",
        "        # this (set) pooling makes the function\n",
        "        # invariant to the order of the nodes\n",
        "        x = gnn.global_mean_pool(x, batch)\n",
        "\n",
        "        # TODO🚀(optional):\n",
        "        # add dropout or batchnorm of features\n",
        "        # - `x = self.dropout(x)`\n",
        "\n",
        "        # apply linear layer\n",
        "        x = self.linear(x)\n",
        "\n",
        "        return x"
      ]
    },
    {
      "attachments": {},
      "cell_type": "markdown",
      "metadata": {
        "id": "6M2kk0J45kLO"
      },
      "source": [
        "### Perform training and evaluation"
      ]
    },
    {
      "cell_type": "code",
      "execution_count": 18,
      "metadata": {
        "colab": {
          "base_uri": "https://localhost:8080/"
        },
        "id": "vsxGpG_tDuoV",
        "outputId": "14b3c496-1008-4d5a-c291-794ac351dd67"
      },
      "outputs": [
        {
          "name": "stderr",
          "output_type": "stream",
          "text": [
            "Epoch: 002 | Val Acc: 0.684 | Train Acc: 0.650 | Train Loss: 0.644 | :   2%|▏         | 2/100 [00:00<00:20,  4.75it/s]                             "
          ]
        },
        {
          "name": "stderr",
          "output_type": "stream",
          "text": [
            "Epoch: 100 | Val Acc: 0.690 | Train Acc: 0.754 | Train Loss: 0.506 | : 100%|██████████| 100/100 [00:09<00:00, 10.21it/s]"
          ]
        },
        {
          "name": "stdout",
          "output_type": "stream",
          "text": [
            "Model size: 1378\n",
            "Validation Accuracy: 0.7017543911933899\n"
          ]
        },
        {
          "name": "stderr",
          "output_type": "stream",
          "text": [
            "\n"
          ]
        }
      ],
      "source": [
        "model = GraphNetModel(dataset.num_features, dataset.num_classes)\n",
        "model, val_accuracy = train_and_eval(model, dataset)\n",
        "\n",
        "print(\"Model size:\", sum(p.numel() for p in model.parameters()))\n",
        "print(\"Validation Accuracy:\", val_accuracy)"
      ]
    },
    {
      "attachments": {},
      "cell_type": "markdown",
      "metadata": {
        "id": "XAkNqEZp5kLO"
      },
      "source": [
        "### [Task 1] Implementing the (simple) Graph Convolutional Layer (GCN)\n",
        "\n",
        "\n",
        "$$\n",
        "\\begin{align}\n",
        "\\hat{D} &= D + I \\\\\n",
        "\\hat{A} &= A + I \\\\\n",
        "\\tilde{A} &= \\hat{D}^{-1/2} \\hat{A} \\hat{D}^{-1/2} \\\\\n",
        "F^{(t+1)} &= \\sigma(\\tilde{A} F^{(t)} W^{(t)} + b^{(t)})\n",
        "\\end{align}\n",
        "$$"
      ]
    },
    {
      "cell_type": "code",
      "execution_count": 19,
      "metadata": {
        "id": "geQowNX0D11G"
      },
      "outputs": [],
      "source": [
        "class OurGCNLayer(nn.Module):\n",
        "\n",
        "    def __init__(self, in_channels, out_channels):\n",
        "        super().__init__()\n",
        "\n",
        "        # initialize linear layer with weight `W` and bias `b`\n",
        "        self.linear = nn.Linear(in_channels, out_channels)\n",
        "\n",
        "    def forward(self, x, edge_index):\n",
        "        nx = x.shape[0]\n",
        "\n",
        "        # create abstraction of sparse adjacency matrix from edge_index\n",
        "        A = torch.sparse_coo_tensor(edge_index, torch.ones_like(edge_index[0]).float(), size=(nx, nx))\n",
        "\n",
        "        # also sparse identity matrix\n",
        "        I = torch.sparse_coo_tensor(torch.stack([torch.arange(nx), torch.arange(nx)]), torch.ones(nx).float(), size=(nx, nx))\n",
        "\n",
        "        # add self-loops\n",
        "        A_hat = A + I\n",
        "\n",
        "        # degree vector\n",
        "        deg_inv_sqrt = A_hat.sum(dim=1).to_dense().pow(-0.5)\n",
        "        deg_inv_sqrt[deg_inv_sqrt == float('inf')] = 0.0\n",
        "\n",
        "        # normalized inverse degree matrix\n",
        "        Di = I * deg_inv_sqrt\n",
        "        assert Di.is_sparse\n",
        "\n",
        "        # using bias and weight of linear layer\n",
        "        W = self.linear.weight.T\n",
        "        b = self.linear.bias\n",
        "\n",
        "        # normalize adjacency matrix\n",
        "        A_norm = Di @ A_hat @ Di\n",
        "        assert A_norm.is_sparse\n",
        "\n",
        "        x = A_norm @ x @ W + b\n",
        "        return x\n"
      ]
    },
    {
      "attachments": {},
      "cell_type": "markdown",
      "metadata": {
        "id": "ENmzuvhd5kLP"
      },
      "source": [
        "**train model with GCN Layer:**"
      ]
    },
    {
      "cell_type": "code",
      "execution_count": 20,
      "metadata": {
        "colab": {
          "base_uri": "https://localhost:8080/"
        },
        "id": "BJHNkF2z5kLP",
        "outputId": "d5d8eb96-7d2f-44dd-f3e3-3ade5eecc0bf"
      },
      "outputs": [
        {
          "name": "stderr",
          "output_type": "stream",
          "text": [
            "Epoch: 001 | Val Acc: 0.684 | Train Acc: 0.540 | Train Loss: 0.695 | :   1%|          | 1/100 [00:00<00:11,  8.29it/s]                             "
          ]
        },
        {
          "name": "stderr",
          "output_type": "stream",
          "text": [
            "Epoch: 100 | Val Acc: 0.702 | Train Acc: 0.762 | Train Loss: 0.502 | : 100%|██████████| 100/100 [00:11<00:00,  8.60it/s]"
          ]
        },
        {
          "name": "stdout",
          "output_type": "stream",
          "text": [
            "Model size: 1378\n",
            "Validation Accuracy: 0.7021052837371826\n"
          ]
        },
        {
          "name": "stderr",
          "output_type": "stream",
          "text": [
            "\n"
          ]
        }
      ],
      "source": [
        "model_our1 = GraphNetModel(dataset.num_features, dataset.num_classes, gnnLayer=OurGCNLayer)\n",
        "trained_model_our1, val_accuracy_our1 = train_and_eval(model_our1, dataset)\n",
        "\n",
        "print(\"Model size:\", sum(p.numel() for p in model_our1.parameters()))\n",
        "print(\"Validation Accuracy:\", val_accuracy_our1)"
      ]
    },
    {
      "cell_type": "code",
      "execution_count": 21,
      "metadata": {
        "id": "ZWDEraPK5kLP"
      },
      "outputs": [],
      "source": [
        "#  Following is just for debugging purposes\n",
        "\n",
        "\n",
        "# from collections import OrderedDict\n",
        "\n",
        "# loader = DataLoader(dataset, batch_size=16, shuffle=True)\n",
        "# for data in loader:\n",
        "#     break\n",
        "\n",
        "# layer1 = OurGCNLayer(dataset.num_features, dataset.num_classes)\n",
        "# layer0 = gnn.GCNConv(dataset.num_features, dataset.num_classes, add_self_loops=True, normalize=True, improved=False)\n",
        "\n",
        "# sd0 = layer0.state_dict()\n",
        "# sd1 = OrderedDict([\n",
        "#     ('linear.weight', sd0['lin.weight']),\n",
        "#     ('linear.bias', sd0['bias']),\n",
        "# ])\n",
        "\n",
        "# layer0.load_state_dict(sd0)\n",
        "# layer1.load_state_dict(sd1)\n",
        "\n",
        "\n",
        "# y1 = layer1(data.x, data.edge_index)\n",
        "# y0 = layer0(data.x, data.edge_index)\n",
        "\n",
        "# print(\"Difference between our implementation and PyG:\", (y1 - y0).abs().mean().item())"
      ]
    },
    {
      "attachments": {},
      "cell_type": "markdown",
      "metadata": {
        "id": "bcbxEfye5kLP"
      },
      "source": [
        "### But what structures are our models really capturing?\n",
        "\n",
        "Consider the following graphs:"
      ]
    },
    {
      "cell_type": "code",
      "execution_count": 22,
      "metadata": {
        "colab": {
          "base_uri": "https://localhost:8080/",
          "height": 444
        },
        "id": "miuc51C75kLP",
        "outputId": "fce2f770-16ab-4c03-a4ee-4edcb159f602"
      },
      "outputs": [
        {
          "data": {
            "image/png": "[encoded data removed]",
            "text/plain": [
              "<Figure size 1000x500 with 2 Axes>"
            ]
          },
          "metadata": {},
          "output_type": "display_data"
        }
      ],
      "source": [
        "graph_G = nx.from_edgelist([(0,1), (1,2), (2,0), (3,4), (4,5), (5,3), (1,4)])\n",
        "graph_H = nx.from_edgelist([(0,1), (1,2), (2,3), (3,4), (4,5), (5,0), (1,4)])\n",
        "\n",
        "def to_edge_index(graph):\n",
        "    return torch.tensor(list(nx.to_directed(graph).edges)).T\n",
        "\n",
        "options = {\n",
        "    \"font_size\": 18,\n",
        "    \"node_size\": 500,\n",
        "    \"node_color\": \"white\",\n",
        "    \"edgecolors\": \"black\",\n",
        "    \"linewidths\": 2,\n",
        "    \"width\": 2,\n",
        "}\n",
        "\n",
        "plt.subplots(1,2, figsize=(10,5))\n",
        "plt.subplot(121)\n",
        "plt.title(\"G\")\n",
        "nx.draw_networkx(graph_G, **options)\n",
        "plt.subplot(122)\n",
        "plt.title(\"H\")\n",
        "nx.draw_networkx(graph_H, **options)\n",
        "plt.show()"
      ]
    },
    {
      "attachments": {},
      "cell_type": "markdown",
      "metadata": {
        "id": "bGXaizmP5kLP"
      },
      "source": [
        "### So why are outputs identical if the graphs are clearly not isomorphic?\n",
        "\"... because of 1-WL\""
      ]
    },
    {
      "cell_type": "code",
      "execution_count": 23,
      "metadata": {
        "colab": {
          "base_uri": "https://localhost:8080/"
        },
        "id": "sPTfBnox5kLP",
        "outputId": "73f7a510-6b17-4d9e-a220-0fe3ee605dfe"
      },
      "outputs": [
        {
          "name": "stdout",
          "output_type": "stream",
          "text": [
            "Prediction for G:  [[ 14.820637 -13.990431]]\n",
            "Prediction for H: [[ 14.820636 -13.990431]]\n"
          ]
        }
      ],
      "source": [
        "model_our1.eval()\n",
        "\n",
        "# simple features to test the model\n",
        "features = torch.ones(6, 7).float()\n",
        "batch = torch.zeros(6).long()\n",
        "\n",
        "logits_G = model_our1(features, to_edge_index(graph_G), batch)\n",
        "logits_H = model_our1(features, to_edge_index(graph_H), batch)\n",
        "\n",
        "print(\"Prediction for G: \", logits_G.detach().numpy())\n",
        "print(\"Prediction for H:\", logits_H.detach().numpy())"
      ]
    },
    {
      "attachments": {},
      "cell_type": "markdown",
      "metadata": {
        "id": "ItXFtDxM5kLP"
      },
      "source": [
        "### However,\n",
        "\n",
        "we can still try to break this symetry by permutation invariant operations such as node deletion.\n",
        "Clearly, the following sets of graphs are not even have the same degree sequences."
      ]
    },
    {
      "cell_type": "code",
      "execution_count": 24,
      "metadata": {
        "colab": {
          "base_uri": "https://localhost:8080/",
          "height": 521
        },
        "id": "ml8JOdUL5kLP",
        "outputId": "654ead99-68b7-4c07-ace1-4a1664be408b"
      },
      "outputs": [
        {
          "data": {
            "image/png": "[encoded data removed]",
            "text/plain": [
              "<Figure size 1800x600 with 12 Axes>"
            ]
          },
          "metadata": {},
          "output_type": "display_data"
        }
      ],
      "source": [
        "def bag_subgraphs(x, edge_index, batch, no_concat=False):\n",
        "    \"\"\"similar method as delete_node_from_graph_invariantly\n",
        "    \"\"\"\n",
        "    bagged_x, bagged_edge_index, bagged_batch = [], [], []\n",
        "\n",
        "    indices = torch.arange(x.size(0))\n",
        "    lower_bound = 0\n",
        "\n",
        "    # for all graphs in a batch\n",
        "    for batch_i in torch.unique(batch):\n",
        "        vertex_mask = batch == batch_i\n",
        "        x_i = x[vertex_mask]\n",
        "        nx_i = x_i.size(0)\n",
        "        vertex_idcs = indices[vertex_mask]\n",
        "        min_idx, max_idx = vertex_idcs.min(), vertex_idcs.max()\n",
        "        edge_index_i = edge_index[:, torch.logical_and(\n",
        "            edge_index[0] >= min_idx,\n",
        "            edge_index[0] <= max_idx)] - min_idx\n",
        "\n",
        "        # delete j-th vertex\n",
        "        for j in range(nx_i):\n",
        "            x_ij = torch.cat([x_i[:j], x_i[j+1:]])\n",
        "            bagged_x.append(x_ij)\n",
        "\n",
        "            edge_index_ij = edge_index_i[:, torch.logical_and(\n",
        "                    edge_index_i[0] != j,\n",
        "                    edge_index_i[1] != j)]\n",
        "            edge_index_ij[0][edge_index_ij[0] > j] -= 1\n",
        "            edge_index_ij[1][edge_index_ij[1] > j] -= 1\n",
        "            bagged_edge_index.append(edge_index_ij + lower_bound)\n",
        "\n",
        "            lower_bound += nx_i - 1\n",
        "\n",
        "        bagged_batch.append(torch.zeros((nx_i - 1) * nx_i, dtype=torch.long) + batch_i)\n",
        "\n",
        "    if no_concat:\n",
        "        return (\n",
        "            bagged_x,\n",
        "            bagged_edge_index,\n",
        "            bagged_batch\n",
        "        )\n",
        "\n",
        "    return (\n",
        "        torch.cat(bagged_x),\n",
        "        torch.cat(bagged_edge_index, dim=1),\n",
        "        torch.cat(bagged_batch)\n",
        "    )\n",
        "\n",
        "\n",
        "def delete_node_from_graph_invariantly(graph : nx.Graph):\n",
        "    n = graph.number_of_nodes()\n",
        "    x, edge_index, _ = bag_subgraphs(\n",
        "        torch.arange(n),\n",
        "        to_edge_index(graph),\n",
        "        torch.zeros(n),\n",
        "        no_concat=True\n",
        "    )\n",
        "\n",
        "    graphs = []\n",
        "    for x_i, edge_index_i in zip(x, edge_index):\n",
        "        g = nx.from_edgelist((edge_index_i-edge_index_i.min()).T.tolist())\n",
        "        nx.relabel_nodes(g, dict(enumerate(x_i.tolist())), copy=False)\n",
        "        graphs.append(g)\n",
        "\n",
        "    return graphs\n",
        "\n",
        "sett = dict(node_color=\"white\", edgecolors=\"lightgrey\", width=0, with_labels=False)\n",
        "plt.subplots(2,6, figsize=(18,6))\n",
        "pos = nx.spring_layout(graph_G, seed=42)\n",
        "subgraphs = delete_node_from_graph_invariantly(graph_G)\n",
        "for ci, g in enumerate(subgraphs):\n",
        "    plt.subplot(2,6,ci+1)\n",
        "    plt.title(f\"G \\ {{{ci}}}\")\n",
        "    nx.draw_networkx(graph_G, pos, **sett)\n",
        "    nx.draw_networkx(g, pos)\n",
        "pos = nx.spring_layout(graph_H, seed=42)\n",
        "subgraphs = delete_node_from_graph_invariantly(graph_H)\n",
        "for ci, g in enumerate(subgraphs):\n",
        "    plt.subplot(2,6,ci+7)\n",
        "    plt.title(f\"H \\ {{{ci}}}\")\n",
        "    nx.draw_networkx(graph_G, pos, **sett)\n",
        "    nx.draw_networkx(g, pos)\n",
        "\n",
        "plt.show()\n"
      ]
    },
    {
      "cell_type": "code",
      "execution_count": 25,
      "metadata": {
        "id": "29FhT4cd5kLQ"
      },
      "outputs": [],
      "source": [
        "class OrderedSubgraphAggregationModel(GraphNetModel):\n",
        "\n",
        "    def forward(self, x, edge_index, batch):\n",
        "\n",
        "        # blow up the graphs into all possible vertex deletion subgraphs\n",
        "        x, edge_index, batch = bag_subgraphs(x, edge_index, batch)\n",
        "\n",
        "        # TODO🚀(optional):\n",
        "        # - one can theoreticaly the previs line multiple times\n",
        "        #   to get all possible subgraphs of subgraphs (k-OSAN)\n",
        "        #   however other hyperparameters need to be\n",
        "        #   adjusted as well since the time complexity explodes\n",
        "        # - `x, edge_index, batch = bag_subgraphs(x, edge_index, batch)`\n",
        "\n",
        "        return super().forward(x, edge_index, batch)"
      ]
    },
    {
      "cell_type": "code",
      "execution_count": 26,
      "metadata": {
        "colab": {
          "base_uri": "https://localhost:8080/"
        },
        "id": "pfNHD5R85kLQ",
        "outputId": "ee29f4f6-0266-4776-a346-7c6c9d2678aa"
      },
      "outputs": [
        {
          "name": "stderr",
          "output_type": "stream",
          "text": [
            "Epoch: 100 | Val Acc: 0.713 | Train Acc: 0.762 | Train Loss: 0.487 | : 100%|██████████| 100/100 [00:51<00:00,  1.96it/s]                           "
          ]
        },
        {
          "name": "stdout",
          "output_type": "stream",
          "text": [
            "Model size: 1378\n",
            "Validation Accuracy: 0.7128947377204895\n"
          ]
        },
        {
          "name": "stderr",
          "output_type": "stream",
          "text": [
            "\n"
          ]
        }
      ],
      "source": [
        "model_our2 = OrderedSubgraphAggregationModel(dataset.num_features, dataset.num_classes, OurGCNLayer)\n",
        "trained_model_our2, val_accuracy_our2 = train_and_eval(model_our2, dataset)\n",
        "\n",
        "print(\"Model size:\", sum(p.numel() for p in model_our2.parameters()))\n",
        "print(\"Validation Accuracy:\", val_accuracy_our2)"
      ]
    },
    {
      "attachments": {},
      "cell_type": "markdown",
      "metadata": {
        "id": "Lap0L-ay5kLQ"
      },
      "source": [
        "Hey! Now our model not only has a better accuracy, but also is\n",
        "\n",
        "### More expressive ?!"
      ]
    },
    {
      "cell_type": "code",
      "execution_count": 27,
      "metadata": {
        "colab": {
          "base_uri": "https://localhost:8080/"
        },
        "id": "-n5XbpE45kLQ",
        "outputId": "0ffba6d3-3654-4960-f100-cdd15336f123"
      },
      "outputs": [
        {
          "name": "stdout",
          "output_type": "stream",
          "text": [
            "Prediction for G:  [[-1.394305  -2.8376994]]\n",
            "Prediction for H: [[-1.3939359 -2.8205943]]\n"
          ]
        }
      ],
      "source": [
        "model_our2.eval()\n",
        "\n",
        "# simple features to test the model\n",
        "features = torch.ones(6, 7).float()\n",
        "batch = torch.zeros(6).long()\n",
        "\n",
        "logits_G = model_our2(features, to_edge_index(graph_G), batch)\n",
        "logits_H = model_our2(features, to_edge_index(graph_H), batch)\n",
        "\n",
        "print(\"Prediction for G: \", logits_G.detach().numpy())\n",
        "print(\"Prediction for H:\", logits_H.detach().numpy())"
      ]
    },
    {
      "attachments": {},
      "cell_type": "markdown",
      "metadata": {
        "id": "zy6EyHa65kLQ"
      },
      "source": []
    }
  ],
  "metadata": {
    "colab": {
      "provenance": []
    },
    "kernelspec": {
      "display_name": "Python 3",
      "name": "python3"
    },
    "language_info": {
      "codemirror_mode": {
        "name": "ipython",
        "version": 3
      },
      "file_extension": ".py",
      "mimetype": "text/x-python",
      "name": "python",
      "nbconvert_exporter": "python",
      "pygments_lexer": "ipython3",
      "version": "3.10.11"
    }
  },
  "nbformat": 4,
  "nbformat_minor": 0
}
