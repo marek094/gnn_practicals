{
  "cells": [
    {
      "attachments": {},
      "cell_type": "markdown",
      "metadata": {
        "id": "Q2eZvMS3DQF7"
      },
      "source": [
        "# Graph neural networks - Practicals 2\n",
        "\n",
        "### Installation of PyTorch"
      ]
    },
    {
      "cell_type": "code",
      "execution_count": 1,
      "metadata": {
        "colab": {
          "base_uri": "https://localhost:8080/"
        },
        "id": "Iit8X-n79clb",
        "outputId": "d9019870-1798-453b-f305-3e1cf2431838"
      },
      "outputs": [
        {
          "name": "stdout",
          "output_type": "stream",
          "text": [
            "Looking in links: https://pytorch-geometric.com/whl/torch-2.0.1+cpu.html\n",
            "Requirement already satisfied: torch-sparse in /home/mp/miniconda3/envs/gnnp1/lib/python3.10/site-packages (0.6.17)\n",
            "Requirement already satisfied: torch-scatter in /home/mp/miniconda3/envs/gnnp1/lib/python3.10/site-packages (2.1.1)\n",
            "Requirement already satisfied: torch-cluster in /home/mp/miniconda3/envs/gnnp1/lib/python3.10/site-packages (1.6.1+pt20cpu)\n",
            "Requirement already satisfied: torch-spline-conv in /home/mp/miniconda3/envs/gnnp1/lib/python3.10/site-packages (1.2.2+pt20cpu)\n",
            "Requirement already satisfied: scipy in /home/mp/miniconda3/envs/gnnp1/lib/python3.10/site-packages (from torch-sparse) (1.11.1)\n",
            "Requirement already satisfied: numpy<1.28.0,>=1.21.6 in /home/mp/miniconda3/envs/gnnp1/lib/python3.10/site-packages (from scipy->torch-sparse) (1.25.0)\n",
            "Requirement already satisfied: torch-geometric in /home/mp/miniconda3/envs/gnnp1/lib/python3.10/site-packages (2.3.1)\n",
            "Requirement already satisfied: tqdm in /home/mp/miniconda3/envs/gnnp1/lib/python3.10/site-packages (from torch-geometric) (4.65.0)\n",
            "Requirement already satisfied: numpy in /home/mp/miniconda3/envs/gnnp1/lib/python3.10/site-packages (from torch-geometric) (1.25.0)\n",
            "Requirement already satisfied: scipy in /home/mp/miniconda3/envs/gnnp1/lib/python3.10/site-packages (from torch-geometric) (1.11.1)\n",
            "Requirement already satisfied: jinja2 in /home/mp/miniconda3/envs/gnnp1/lib/python3.10/site-packages (from torch-geometric) (3.1.2)\n",
            "Requirement already satisfied: requests in /home/mp/miniconda3/envs/gnnp1/lib/python3.10/site-packages (from torch-geometric) (2.31.0)\n",
            "Requirement already satisfied: pyparsing in /home/mp/miniconda3/envs/gnnp1/lib/python3.10/site-packages (from torch-geometric) (3.1.0)\n",
            "Requirement already satisfied: scikit-learn in /home/mp/miniconda3/envs/gnnp1/lib/python3.10/site-packages (from torch-geometric) (1.3.0)\n",
            "Requirement already satisfied: psutil>=5.8.0 in /home/mp/miniconda3/envs/gnnp1/lib/python3.10/site-packages (from torch-geometric) (5.9.0)\n",
            "Requirement already satisfied: MarkupSafe>=2.0 in /home/mp/miniconda3/envs/gnnp1/lib/python3.10/site-packages (from jinja2->torch-geometric) (2.1.2)\n",
            "Requirement already satisfied: charset-normalizer<4,>=2 in /home/mp/miniconda3/envs/gnnp1/lib/python3.10/site-packages (from requests->torch-geometric) (3.1.0)\n",
            "Requirement already satisfied: idna<4,>=2.5 in /home/mp/miniconda3/envs/gnnp1/lib/python3.10/site-packages (from requests->torch-geometric) (3.4)\n",
            "Requirement already satisfied: urllib3<3,>=1.21.1 in /home/mp/miniconda3/envs/gnnp1/lib/python3.10/site-packages (from requests->torch-geometric) (2.0.3)\n",
            "Requirement already satisfied: certifi>=2017.4.17 in /home/mp/miniconda3/envs/gnnp1/lib/python3.10/site-packages (from requests->torch-geometric) (2023.5.7)\n",
            "Requirement already satisfied: joblib>=1.1.1 in /home/mp/miniconda3/envs/gnnp1/lib/python3.10/site-packages (from scikit-learn->torch-geometric) (1.3.1)\n",
            "Requirement already satisfied: threadpoolctl>=2.0.0 in /home/mp/miniconda3/envs/gnnp1/lib/python3.10/site-packages (from scikit-learn->torch-geometric) (3.1.0)\n",
            "Requirement already satisfied: networkx==3.1 in /home/mp/miniconda3/envs/gnnp1/lib/python3.10/site-packages (3.1)\n",
            "Requirement already satisfied: matplotlib in /home/mp/miniconda3/envs/gnnp1/lib/python3.10/site-packages (3.7.1)\n",
            "Requirement already satisfied: tqdm in /home/mp/miniconda3/envs/gnnp1/lib/python3.10/site-packages (4.65.0)\n",
            "Requirement already satisfied: torchmetrics in /home/mp/miniconda3/envs/gnnp1/lib/python3.10/site-packages (0.11.4)\n",
            "Requirement already satisfied: ipywidgets in /home/mp/miniconda3/envs/gnnp1/lib/python3.10/site-packages (8.0.6)\n",
            "Requirement already satisfied: contourpy>=1.0.1 in /home/mp/miniconda3/envs/gnnp1/lib/python3.10/site-packages (from matplotlib) (1.1.0)\n",
            "Requirement already satisfied: cycler>=0.10 in /home/mp/miniconda3/envs/gnnp1/lib/python3.10/site-packages (from matplotlib) (0.11.0)\n",
            "Requirement already satisfied: fonttools>=4.22.0 in /home/mp/miniconda3/envs/gnnp1/lib/python3.10/site-packages (from matplotlib) (4.40.0)\n",
            "Requirement already satisfied: kiwisolver>=1.0.1 in /home/mp/miniconda3/envs/gnnp1/lib/python3.10/site-packages (from matplotlib) (1.4.4)\n",
            "Requirement already satisfied: numpy>=1.20 in /home/mp/miniconda3/envs/gnnp1/lib/python3.10/site-packages (from matplotlib) (1.25.0)\n",
            "Requirement already satisfied: packaging>=20.0 in /home/mp/miniconda3/envs/gnnp1/lib/python3.10/site-packages (from matplotlib) (23.1)\n",
            "Requirement already satisfied: pillow>=6.2.0 in /home/mp/miniconda3/envs/gnnp1/lib/python3.10/site-packages (from matplotlib) (10.0.0)\n",
            "Requirement already satisfied: pyparsing>=2.3.1 in /home/mp/miniconda3/envs/gnnp1/lib/python3.10/site-packages (from matplotlib) (3.1.0)\n",
            "Requirement already satisfied: python-dateutil>=2.7 in /home/mp/miniconda3/envs/gnnp1/lib/python3.10/site-packages (from matplotlib) (2.8.2)\n",
            "Requirement already satisfied: torch>=1.8.1 in /home/mp/miniconda3/envs/gnnp1/lib/python3.10/site-packages (from torchmetrics) (2.0.1+cpu)\n",
            "Requirement already satisfied: ipykernel>=4.5.1 in /home/mp/miniconda3/envs/gnnp1/lib/python3.10/site-packages (from ipywidgets) (6.15.0)\n",
            "Requirement already satisfied: ipython>=6.1.0 in /home/mp/miniconda3/envs/gnnp1/lib/python3.10/site-packages (from ipywidgets) (8.14.0)\n",
            "Requirement already satisfied: traitlets>=4.3.1 in /home/mp/miniconda3/envs/gnnp1/lib/python3.10/site-packages (from ipywidgets) (5.9.0)\n",
            "Requirement already satisfied: widgetsnbextension~=4.0.7 in /home/mp/miniconda3/envs/gnnp1/lib/python3.10/site-packages (from ipywidgets) (4.0.7)\n",
            "Requirement already satisfied: jupyterlab-widgets~=3.0.7 in /home/mp/miniconda3/envs/gnnp1/lib/python3.10/site-packages (from ipywidgets) (3.0.7)\n",
            "Requirement already satisfied: debugpy>=1.0 in /home/mp/miniconda3/envs/gnnp1/lib/python3.10/site-packages (from ipykernel>=4.5.1->ipywidgets) (1.5.1)\n",
            "Requirement already satisfied: jupyter-client>=6.1.12 in /home/mp/miniconda3/envs/gnnp1/lib/python3.10/site-packages (from ipykernel>=4.5.1->ipywidgets) (8.3.0)\n",
            "Requirement already satisfied: matplotlib-inline>=0.1 in /home/mp/miniconda3/envs/gnnp1/lib/python3.10/site-packages (from ipykernel>=4.5.1->ipywidgets) (0.1.6)\n",
            "Requirement already satisfied: nest-asyncio in /home/mp/miniconda3/envs/gnnp1/lib/python3.10/site-packages (from ipykernel>=4.5.1->ipywidgets) (1.5.6)\n",
            "Requirement already satisfied: psutil in /home/mp/miniconda3/envs/gnnp1/lib/python3.10/site-packages (from ipykernel>=4.5.1->ipywidgets) (5.9.0)\n",
            "Requirement already satisfied: pyzmq>=17 in /home/mp/miniconda3/envs/gnnp1/lib/python3.10/site-packages (from ipykernel>=4.5.1->ipywidgets) (25.1.0)\n",
            "Requirement already satisfied: tornado>=6.1 in /home/mp/miniconda3/envs/gnnp1/lib/python3.10/site-packages (from ipykernel>=4.5.1->ipywidgets) (6.3.2)\n",
            "Requirement already satisfied: backcall in /home/mp/miniconda3/envs/gnnp1/lib/python3.10/site-packages (from ipython>=6.1.0->ipywidgets) (0.2.0)\n",
            "Requirement already satisfied: decorator in /home/mp/miniconda3/envs/gnnp1/lib/python3.10/site-packages (from ipython>=6.1.0->ipywidgets) (5.1.1)\n",
            "Requirement already satisfied: jedi>=0.16 in /home/mp/miniconda3/envs/gnnp1/lib/python3.10/site-packages (from ipython>=6.1.0->ipywidgets) (0.18.2)\n",
            "Requirement already satisfied: pickleshare in /home/mp/miniconda3/envs/gnnp1/lib/python3.10/site-packages (from ipython>=6.1.0->ipywidgets) (0.7.5)\n",
            "Requirement already satisfied: prompt-toolkit!=3.0.37,<3.1.0,>=3.0.30 in /home/mp/miniconda3/envs/gnnp1/lib/python3.10/site-packages (from ipython>=6.1.0->ipywidgets) (3.0.38)\n",
            "Requirement already satisfied: pygments>=2.4.0 in /home/mp/miniconda3/envs/gnnp1/lib/python3.10/site-packages (from ipython>=6.1.0->ipywidgets) (2.15.1)\n",
            "Requirement already satisfied: stack-data in /home/mp/miniconda3/envs/gnnp1/lib/python3.10/site-packages (from ipython>=6.1.0->ipywidgets) (0.6.2)\n",
            "Requirement already satisfied: pexpect>4.3 in /home/mp/miniconda3/envs/gnnp1/lib/python3.10/site-packages (from ipython>=6.1.0->ipywidgets) (4.8.0)\n",
            "Requirement already satisfied: six>=1.5 in /home/mp/miniconda3/envs/gnnp1/lib/python3.10/site-packages (from python-dateutil>=2.7->matplotlib) (1.16.0)\n",
            "Requirement already satisfied: filelock in /home/mp/miniconda3/envs/gnnp1/lib/python3.10/site-packages (from torch>=1.8.1->torchmetrics) (3.9.0)\n",
            "Requirement already satisfied: typing-extensions in /home/mp/miniconda3/envs/gnnp1/lib/python3.10/site-packages (from torch>=1.8.1->torchmetrics) (4.7.1)\n",
            "Requirement already satisfied: sympy in /home/mp/miniconda3/envs/gnnp1/lib/python3.10/site-packages (from torch>=1.8.1->torchmetrics) (1.11.1)\n",
            "Requirement already satisfied: jinja2 in /home/mp/miniconda3/envs/gnnp1/lib/python3.10/site-packages (from torch>=1.8.1->torchmetrics) (3.1.2)\n",
            "Requirement already satisfied: parso<0.9.0,>=0.8.0 in /home/mp/miniconda3/envs/gnnp1/lib/python3.10/site-packages (from jedi>=0.16->ipython>=6.1.0->ipywidgets) (0.8.3)\n",
            "Requirement already satisfied: jupyter-core!=5.0.*,>=4.12 in /home/mp/miniconda3/envs/gnnp1/lib/python3.10/site-packages (from jupyter-client>=6.1.12->ipykernel>=4.5.1->ipywidgets) (5.3.1)\n",
            "Requirement already satisfied: ptyprocess>=0.5 in /home/mp/miniconda3/envs/gnnp1/lib/python3.10/site-packages (from pexpect>4.3->ipython>=6.1.0->ipywidgets) (0.7.0)\n",
            "Requirement already satisfied: wcwidth in /home/mp/miniconda3/envs/gnnp1/lib/python3.10/site-packages (from prompt-toolkit!=3.0.37,<3.1.0,>=3.0.30->ipython>=6.1.0->ipywidgets) (0.2.6)\n",
            "Requirement already satisfied: MarkupSafe>=2.0 in /home/mp/miniconda3/envs/gnnp1/lib/python3.10/site-packages (from jinja2->torch>=1.8.1->torchmetrics) (2.1.2)\n",
            "Requirement already satisfied: executing>=1.2.0 in /home/mp/miniconda3/envs/gnnp1/lib/python3.10/site-packages (from stack-data->ipython>=6.1.0->ipywidgets) (1.2.0)\n",
            "Requirement already satisfied: asttokens>=2.1.0 in /home/mp/miniconda3/envs/gnnp1/lib/python3.10/site-packages (from stack-data->ipython>=6.1.0->ipywidgets) (2.2.1)\n",
            "Requirement already satisfied: pure-eval in /home/mp/miniconda3/envs/gnnp1/lib/python3.10/site-packages (from stack-data->ipython>=6.1.0->ipywidgets) (0.2.2)\n",
            "Requirement already satisfied: mpmath>=0.19 in /home/mp/miniconda3/envs/gnnp1/lib/python3.10/site-packages (from sympy->torch>=1.8.1->torchmetrics) (1.2.1)\n",
            "Requirement already satisfied: platformdirs>=2.5 in /home/mp/miniconda3/envs/gnnp1/lib/python3.10/site-packages (from jupyter-core!=5.0.*,>=4.12->jupyter-client>=6.1.12->ipykernel>=4.5.1->ipywidgets) (3.8.0)\n"
          ]
        }
      ],
      "source": [
        "import torch\n",
        "TORCH = torch.__version__.split('+')[0]\n",
        "DEVICE = 'cu' + torch.version.cuda.replace('.', '') if torch.cuda.is_available() else 'cpu'\n",
        "\n",
        "!pip install torch-sparse torch-scatter torch-cluster torch-spline-conv -f https://pytorch-geometric.com/whl/torch-{TORCH}+{DEVICE}.html\n",
        "!pip install torch-geometric\n",
        "!pip install networkx==3.1 matplotlib tqdm torchmetrics ipywidgets"
      ]
    },
    {
      "cell_type": "code",
      "execution_count": 2,
      "metadata": {
        "id": "3xoH_W36DFZ9"
      },
      "outputs": [],
      "source": [
        "import torch.nn as nn\n",
        "import torch.nn.functional as F\n",
        "import torchmetrics\n",
        "import torch_geometric.nn as gnn\n",
        "import torch_geometric as tg\n",
        "from torch_geometric.data import Dataset\n",
        "from torch_geometric.loader import DataLoader\n",
        "import networkx as nx\n",
        "import matplotlib.pyplot as plt\n",
        "from typing import Tuple\n",
        "# from tqdm.notebook import tqdm\n",
        "from tqdm import tqdm\n",
        "\n",
        "\n",
        "def train_and_eval(model : nn.Module, dataset : Dataset) -> Tuple[nn.Module, float]:\n",
        "    \"\"\"\n",
        "    Train and evaluate the model on the dataset.\n",
        "    A boilerplate for training and evaluating a neural network.\n",
        "\n",
        "    Args:\n",
        "        model (nn.Module): The model to train and evaluate.\n",
        "        dataset (Dataset): The dataset to train and evaluate on.\n",
        "\n",
        "    Returns:\n",
        "        nn.Module: The trained model with the best validation accuracy.\n",
        "        float: The best validation accuracy.\n",
        "    \"\"\"\n",
        "\n",
        "    # init training and validation dataloaders\n",
        "    dataloader_train = DataLoader(dataset[:150], batch_size=16, shuffle=True)\n",
        "    dataloader_val = DataLoader(dataset[150:], batch_size=16, shuffle=False)\n",
        "\n",
        "    # init optimizer and loss\n",
        "    optimizer = torch.optim.Adam(model.parameters(), lr=0.01)\n",
        "    criterion = nn.CrossEntropyLoss()\n",
        "\n",
        "    # init metrics\n",
        "    metric_loss_train = torchmetrics.MeanMetric()\n",
        "    metric_accuracy_train = torchmetrics.Accuracy(task=\"multiclass\", num_classes=dataset.num_classes)\n",
        "    metric_accuracy_val = torchmetrics.Accuracy(task=\"multiclass\", num_classes=dataset.num_classes)\n",
        "\n",
        "    best_model_params = None\n",
        "    best_val_acc = 0.0\n",
        "\n",
        "    # training loop\n",
        "    num_epochs = 100\n",
        "    epoch_bar = tqdm(list(range(num_epochs)), desc=\"Epochs\" + \" \"*100)\n",
        "    for epoch in epoch_bar:\n",
        "\n",
        "        # training loop\n",
        "        for data in dataloader_train:\n",
        "            model.train()\n",
        "            optimizer.zero_grad()\n",
        "            logits = model(data.x, data.edge_index, data.batch)\n",
        "            loss = criterion(logits, data.y)\n",
        "            loss.backward()\n",
        "            optimizer.step()\n",
        "\n",
        "            metric_loss_train(loss)\n",
        "            metric_accuracy_train(logits.argmax(dim=1), data.y)\n",
        "\n",
        "        # evaluation loop\n",
        "        for data in dataloader_val:\n",
        "            model.eval()\n",
        "            with torch.no_grad():\n",
        "                logits = model(data.x, data.edge_index, data.batch)\n",
        "                pred = logits.argmax(dim=1)\n",
        "                metric_accuracy_val(pred, data.y)\n",
        "\n",
        "\n",
        "        train_loss = metric_loss_train.compute().item()\n",
        "        train_acc = metric_accuracy_train.compute().item()\n",
        "        val_acc = metric_accuracy_val.compute().item()\n",
        "\n",
        "        # progress bar\n",
        "        epoch_bar.set_description(\"\".join([\n",
        "            f'Epoch: {epoch+1:03d} | ',\n",
        "            f'Val Acc: {val_acc:.3f} | ',\n",
        "            f'Train Acc: {train_acc:.3f} | ',\n",
        "            f'Train Loss: {train_loss:.3f} | ',\n",
        "            ]))\n",
        "\n",
        "        # update best model\n",
        "        if val_acc > best_val_acc:\n",
        "            best_val_acc = val_acc\n",
        "            best_model_state = model.state_dict()\n",
        "\n",
        "    best_model = model\n",
        "    best_model.load_state_dict(best_model_state)\n",
        "\n",
        "    return best_model, best_val_acc"
      ]
    },
    {
      "attachments": {},
      "cell_type": "markdown",
      "metadata": {
        "id": "9g4f01pgDW3v"
      },
      "source": [
        "### Download training data\n",
        "\n",
        "**Datasets**\n",
        "\n",
        "Comparing to other Fully-Connected Neural Networks (NNs) or Convolutional Neural Networks (CNNs),\n",
        "\n",
        "Graph neural networks (GNNs) require have two basic datapoints: a graph structure and a feature matrix."
      ]
    },
    {
      "cell_type": "code",
      "execution_count": 3,
      "metadata": {
        "colab": {
          "base_uri": "https://localhost:8080/"
        },
        "id": "5dfqiBpBDS2g",
        "outputId": "197bcc7e-4d45-464c-bad5-ba57a83c7cfb"
      },
      "outputs": [],
      "source": [
        "from torch_geometric.datasets import TUDataset\n",
        "\n",
        "dataset = TUDataset(root='data/TUDataset', name='MUTAG')"
      ]
    },
    {
      "attachments": {},
      "cell_type": "markdown",
      "metadata": {
        "id": "ap0EHntz5kLI"
      },
      "source": [
        "### [Again] Define our model\n",
        "\n",
        "We will use the `nn.Module` class from PyTorch to define our model.\n",
        "Since having multiple datapoints we need to define a model that has multiple inputs in the `forward` function.\n",
        "\n"
      ]
    },
    {
      "cell_type": "code",
      "execution_count": 15,
      "metadata": {
        "id": "ZLlNwk-3DZu7"
      },
      "outputs": [],
      "source": [
        "class GraphNetModel(nn.Module):\n",
        "\n",
        "    def __init__(self, num_features, num_classes, gnnLayer=None, countingLayer=None):\n",
        "        super().__init__()\n",
        "\n",
        "        # in case no gnnLayer is provided, use GraphConv\n",
        "        if not isinstance(gnnLayer, nn.Module):\n",
        "            gnnLayer = gnn.SGConv\n",
        "\n",
        "        if not isinstance(countingLayer, nn.Module):\n",
        "            self.cnt1 = lambda x, edge_index: x\n",
        "            add_features = 0\n",
        "        else:\n",
        "            self.cnt1 = countingLayer()\n",
        "            add_features = self.cnt1.add_features\n",
        "\n",
        "\n",
        "        # first graph covolutional layer\n",
        "        self.conv1 = gnnLayer(num_features+add_features, 16)\n",
        "\n",
        "        # TODO🚀(optional):\n",
        "        # - add more conv layers\n",
        "\n",
        "        # last graph convolutional layer\n",
        "        self.convL = gnnLayer(16, 16)\n",
        "\n",
        "        # TODO🚀(optional):\n",
        "        # - in many tutorials, the stantard dropout layer\n",
        "        #    on **features** is used which can help\n",
        "        #    with overfitting. Simlarly, the standard\n",
        "        #    batch normalization can be used as well.        \n",
        "        # - `self.batchnorm = nn.BatchNorm1d(32)`\n",
        "\n",
        "        self.dropout = nn.Dropout(0.5)\n",
        "\n",
        "        self.linear = nn.Linear(16, num_classes)\n",
        "\n",
        "    def forward(self, x, edge_index, batch):\n",
        "\n",
        "        # apply counting layer\n",
        "        x = self.cnt1(x, edge_index)\n",
        "\n",
        "        # apply first layer and follow with ReLU\n",
        "        x = self.conv1(x, edge_index).relu()\n",
        "\n",
        "        # TODO🚀(optional):\n",
        "        # - apply more conv layers\n",
        "\n",
        "        x = self.convL(x, edge_index).relu()\n",
        "\n",
        "        # this (set) pooling makes the function\n",
        "        # invariant to the order of the nodes\n",
        "        x = gnn.global_mean_pool(x, batch)\n",
        "\n",
        "        # TODO🚀(optional):\n",
        "        # add dropout or batchnorm of features\n",
        "        x = self.dropout(x)\n",
        "\n",
        "        # apply linear layer\n",
        "        x = self.linear(x)\n",
        "\n",
        "        return x"
      ]
    },
    {
      "attachments": {},
      "cell_type": "markdown",
      "metadata": {
        "id": "6M2kk0J45kLO"
      },
      "source": [
        "### [Again] Perform training and evaluation"
      ]
    },
    {
      "cell_type": "code",
      "execution_count": 16,
      "metadata": {
        "colab": {
          "base_uri": "https://localhost:8080/"
        },
        "id": "vsxGpG_tDuoV",
        "outputId": "14b3c496-1008-4d5a-c291-794ac351dd67"
      },
      "outputs": [
        {
          "name": "stderr",
          "output_type": "stream",
          "text": [
            "Epoch: 100 | Val Acc: 0.658 | Train Acc: 0.734 | Train Loss: 0.553 | : 100%|██████████| 100/100 [00:08<00:00, 11.74it/s]                           "
          ]
        },
        {
          "name": "stdout",
          "output_type": "stream",
          "text": [
            "Model size: 434\n",
            "Validation Accuracy: 0.6904024481773376\n"
          ]
        },
        {
          "name": "stderr",
          "output_type": "stream",
          "text": [
            "\n"
          ]
        }
      ],
      "source": [
        "model = GraphNetModel(dataset.num_features, dataset.num_classes, gnnLayer=gnn.CGConv)\n",
        "model, val_accuracy = train_and_eval(model, dataset)\n",
        "\n",
        "print(\"Model size:\", sum(p.numel() for p in model.parameters()))\n",
        "print(\"Validation Accuracy:\", val_accuracy)"
      ]
    },
    {
      "attachments": {},
      "cell_type": "markdown",
      "metadata": {
        "id": "XAkNqEZp5kLO"
      },
      "source": [
        "### [Task 2] Adding Local Graph Parameters\n",
        "\n"
      ]
    },
    {
      "cell_type": "code",
      "execution_count": 23,
      "metadata": {
        "id": "geQowNX0D11G"
      },
      "outputs": [],
      "source": [
        "class LGPCountingLayer(nn.Module):\n",
        "\n",
        "    def __init__(self):\n",
        "        super().__init__()\n",
        "\n",
        "        # we indicate that we add 2 features in dim=1\n",
        "        self.add_features = 4\n",
        "\n",
        "    def forward(self, x, edge_index):\n",
        "        nx = x.shape[0]\n",
        "\n",
        "        # create abstraction of sparse adjacency matrix from edge_index\n",
        "        A = torch.sparse_coo_tensor(edge_index, torch.ones_like(edge_index[0]).float(), size=(nx, nx))\n",
        "\n",
        "        # also sparse identity matrix\n",
        "        I = torch.sparse_coo_tensor(torch.stack([torch.arange(nx), torch.arange(nx)]), torch.ones(nx).float(), size=(nx, nx))\n",
        "\n",
        "        # walks of length 3\n",
        "        W3 = (A @ A @ A)\n",
        "        # walks of length 4\n",
        "        W4 = W3 @ A\n",
        "        # walks of length 5\n",
        "        W5 = W4 @ A\n",
        "        # walks of length 6\n",
        "        W6 = W5 @ A\n",
        "        # walks of length 7\n",
        "        W7 = W6 @ A\n",
        "        # walks of length 8\n",
        "        W8 = W7 @ A\n",
        "        # walks of length 9\n",
        "        W9 = W8 @ A\n",
        "        # walks of length 10\n",
        "        W10 = W9 @ A\n",
        "        # walks of length 20\n",
        "        W20 = W10 @ W10\n",
        "\n",
        "        # closed walks of length 3\n",
        "        C3 = (W3 * I).sum(dim=1).to_dense().view(-1, 1)\n",
        "        # closed walks of length 4\n",
        "        C4  = (W4 * I).sum(dim=1).to_dense().view(-1, 1)\n",
        "        # closed walks of length 5\n",
        "        C5  = (W5 * I).sum(dim=1).to_dense().view(-1, 1)\n",
        "        # closed walks of length 6\n",
        "        C6  = (W6 * I).sum(dim=1).to_dense().view(-1, 1)\n",
        "        # closed walks of length 7\n",
        "        C7  = (W7 * I).sum(dim=1).to_dense().view(-1, 1)\n",
        "        # closed walks of length 8\n",
        "        C8  = (W8 * I).sum(dim=1).to_dense().view(-1, 1)\n",
        "        # closed walks of length 9\n",
        "        C9  = (W9 * I).sum(dim=1).to_dense().view(-1, 1)\n",
        "        # closed walks of length 10\n",
        "        C10 = (W10 * I).sum(dim=1).to_dense().view(-1, 1)\n",
        "        # closed walks of length 20\n",
        "        C20 = (W20 * I).sum(dim=1).to_dense().view(-1, 1)\n",
        "\n",
        "\n",
        "\n",
        "        # log scale \n",
        "        c3l, c4l = C3.log1p(), C4.log1p()\n",
        "        c5l, c6l = C5.log1p(), C6.log1p()\n",
        "        c7l, c8l = C7.log1p(), C8.log1p()\n",
        "        c9l, c10l = C9.log1p(), C10.log1p()\n",
        "        c20l = C20.log1p()\n",
        "\n",
        "        # concatenate to standard features        \n",
        "        x = torch.cat([\n",
        "            x, \n",
        "            c3l, c4l, c5l, c6l, \n",
        "            c7l, c8l, c9l, c10l,\n",
        "            c20l\n",
        "        ], dim=1)\n",
        "\n",
        "        return x\n",
        "\n"
      ]
    },
    {
      "attachments": {},
      "cell_type": "markdown",
      "metadata": {
        "id": "ENmzuvhd5kLP"
      },
      "source": [
        "**train model with LGPCountingLayer:**"
      ]
    },
    {
      "cell_type": "code",
      "execution_count": 24,
      "metadata": {
        "colab": {
          "base_uri": "https://localhost:8080/"
        },
        "id": "BJHNkF2z5kLP",
        "outputId": "d5d8eb96-7d2f-44dd-f3e3-3ade5eecc0bf"
      },
      "outputs": [
        {
          "name": "stderr",
          "output_type": "stream",
          "text": [
            "Epoch: 100 | Val Acc: 0.682 | Train Acc: 0.717 | Train Loss: 0.553 | : 100%|██████████| 100/100 [00:07<00:00, 14.16it/s]                           "
          ]
        },
        {
          "name": "stdout",
          "output_type": "stream",
          "text": [
            "Model size: 434\n",
            "Validation Accuracy: 0.6968421339988708\n"
          ]
        },
        {
          "name": "stderr",
          "output_type": "stream",
          "text": [
            "\n"
          ]
        }
      ],
      "source": [
        "model_our1 = GraphNetModel(dataset.num_features, dataset.num_classes, gnnLayer=gnn.CGConv, countingLayer=LGPCountingLayer)\n",
        "trained_model_our1, val_accuracy_our1 = train_and_eval(model_our1, dataset)\n",
        "\n",
        "print(\"Model size:\", sum(p.numel() for p in model_our1.parameters()))\n",
        "print(\"Validation Accuracy:\", val_accuracy_our1)"
      ]
    },
    {
      "attachments": {},
      "cell_type": "markdown",
      "metadata": {},
      "source": [
        "## 2-WL-GNNs\n",
        "\n",
        "(2023) [Two-Dimensional Weisfeiler-Lehman Graph Neural Networks for Link Prediction](https://arxiv.org/abs/2206.09567)"
      ]
    },
    {
      "cell_type": "code",
      "execution_count": null,
      "metadata": {},
      "outputs": [],
      "source": []
    }
  ],
  "metadata": {
    "colab": {
      "provenance": []
    },
    "kernelspec": {
      "display_name": "Python 3",
      "name": "python3"
    },
    "language_info": {
      "codemirror_mode": {
        "name": "ipython",
        "version": 3
      },
      "file_extension": ".py",
      "mimetype": "text/x-python",
      "name": "python",
      "nbconvert_exporter": "python",
      "pygments_lexer": "ipython3",
      "version": "3.10.11"
    }
  },
  "nbformat": 4,
  "nbformat_minor": 0
}
