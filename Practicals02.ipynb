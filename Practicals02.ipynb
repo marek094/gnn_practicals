{
  "cells": [
    {
      "cell_type": "markdown",
      "metadata": {
        "id": "Q2eZvMS3DQF7"
      },
      "source": [
        "# Graph Neural Networks - Practicals 2\n"
      ]
    },
    {
      "cell_type": "code",
      "execution_count": 1,
      "metadata": {
        "id": "Iit8X-n79clb"
      },
      "outputs": [],
      "source": [
        "import torch\n",
        "torch.manual_seed(0)\n",
        "TORCH = torch.__version__.split('+')[0]\n",
        "DEVICE = 'cu' + torch.version.cuda.replace('.', '') if torch.cuda.is_available() else 'cpu'\n",
        "\n",
        "!pip install -q torch-sparse torch-scatter torch-cluster torch-spline-conv -f https://pytorch-geometric.com/whl/torch-{TORCH}+{DEVICE}.html\n",
        "!pip install -q torch-geometric\n",
        "!pip install -q networkx==3.1 matplotlib tqdm torchmetrics ipywidgets\n",
        "\n",
        "import torch.nn as nn\n",
        "import torch.nn.functional as F\n",
        "import torchmetrics\n",
        "import torch_geometric.nn as gnn\n",
        "import torch_geometric as tg\n",
        "from torch_geometric.data import Dataset\n",
        "from torch_geometric.loader import DataLoader\n",
        "from torch_geometric.utils import to_networkx\n",
        "import networkx as nx\n",
        "import matplotlib.pyplot as plt\n",
        "from typing import Tuple\n",
        "from tqdm import tqdm"
      ]
    },
    {
      "cell_type": "markdown",
      "metadata": {
        "id": "9g4f01pgDW3v"
      },
      "source": [
        "### [Again] Download Training Data\n",
        "\n",
        "**Datasets**\n",
        "\n",
        "When comparing Graph Neural Networks (GNNs) to other neural network architectures such as Fully-Connected Neural Networks (FCNNs) or Convolutional Neural Networks (CNNs), there are unique requirements for the data used in GNNs.\n",
        "\n",
        "GNNs typically require two fundamental data points: a graph structure, which describes how nodes are connected, and a feature matrix, providing information associated with each node.\n",
        "\n",
        "For the purpose of this tutorial, we aim to keep the focus on benchmarking and comparing various architectures. Therefore, we'll reduce the number of input features with `reduce_features` initially. This step will help us evaluate the efficiency and performance of our models in a more streamlined context."
      ]
    },
    {
      "cell_type": "code",
      "execution_count": 2,
      "metadata": {
        "id": "5dfqiBpBDS2g"
      },
      "outputs": [],
      "source": [
        "from torch_geometric.datasets import TUDataset\n",
        "\n",
        "def reduce_features(data):\n",
        "    data.x = data.x.sum(dim=1, keepdim=True)\n",
        "    return data\n",
        "\n",
        "dataset = TUDataset(root='data/TUDataset', name='MUTAG', pre_transform=reduce_features)"
      ]
    },
    {
      "cell_type": "markdown",
      "metadata": {
        "id": "R7o6k92FIckc"
      },
      "source": [
        "### [Again] Explore dataset\n",
        "\n",
        "The most common task for graph classification is **molecular property prediction**, in which molecules are represented as graphs, and the task may be to infer whether a molecule inhibits HIV virus replication or not.\n",
        "\n",
        "The TU Dortmund University has collected a wide range of different graph classification datasets, known as the [**TUDatasets**](https://chrsmrrs.github.io/datasets/), which are also accessible via [`torch_geometric.datasets.TUDataset`](https://pytorch-geometric.readthedocs.io/en/latest/modules/datasets.html#torch_geometric.datasets.TUDataset) in PyTorch Geometric.\n",
        "Let's load and inspect one of the smaller ones, the **MUTAG dataset**:"
      ]
    },
    {
      "cell_type": "code",
      "execution_count": 3,
      "metadata": {
        "id": "AM4qd9XBIckc",
        "colab": {
          "base_uri": "https://localhost:8080/",
          "height": 460,
          "referenced_widgets": [
            "b180b11fb15543ee91df33d209200f4c",
            "38fe880d3d9c4c8e85723837ec75bd42",
            "6322eec5d1624831a735818b587852b3",
            "b517d1061024449c896e185e2ea4ee4d",
            "22f7898df76646448290c0a53ec18fb1",
            "a927c4f7a08f4144b3ab9abbd753d64e",
            "1c41394769c8409c8a9af21500967cee"
          ]
        },
        "outputId": "db2434d3-a8ae-4946-f7fe-18c5c61588c8"
      },
      "outputs": [
        {
          "output_type": "display_data",
          "data": {
            "text/plain": [
              "interactive(children=(IntSlider(value=0, description='index', max=187), Output()), _dom_classes=('widget-inter…"
            ],
            "application/vnd.jupyter.widget-view+json": {
              "version_major": 2,
              "version_minor": 0,
              "model_id": "b180b11fb15543ee91df33d209200f4c"
            }
          },
          "metadata": {}
        }
      ],
      "source": [
        "from ipywidgets import interact, IntSlider\n",
        "\n",
        "@interact(index=IntSlider(max=len(dataset)-1))\n",
        "def display_dataset_element(index):\n",
        "    g = to_networkx(dataset[index], to_undirected=True)\n",
        "    plt.title(f\"Class: {dataset[index].y.item()}\")\n",
        "    nx.draw(g, with_labels=True)\n",
        "    plt.show()"
      ]
    },
    {
      "cell_type": "markdown",
      "metadata": {
        "id": "L5Aww184Ickd"
      },
      "source": [
        "## [Again] Exploring Graph Classification with Graph Neural Networks\n",
        "\n",
        "In this tutorial session, we will delve into the application of **Graph Neural Networks (GNNs) for graph classification**. Unlike node classification, graph classification is tasked with classifying entire graphs, given a **dataset of graphs**, based on their structural properties. Our aim is to generate embeddings for entire graphs in such a way that they are linearly separable for a given task.\n",
        "\n",
        "A key part of this process is the training and evaluation of our model. We will use the `train_and_eval` function for this purpose:\n"
      ]
    },
    {
      "cell_type": "code",
      "execution_count": 4,
      "metadata": {
        "id": "SWnFhEXEIckf"
      },
      "outputs": [],
      "source": [
        "def train_and_eval(model : nn.Module, dataset : Dataset, hparams: dict = {}) -> Tuple[nn.Module, float]:\n",
        "    \"\"\"\n",
        "    Train and evaluate the model on the dataset.\n",
        "    A boilerplate for training and evaluating a neural network.\n",
        "\n",
        "    Args:\n",
        "        model (nn.Module): The model to train and evaluate.\n",
        "        dataset (Dataset): The dataset to train and evaluate on.\n",
        "        hparams (dict): A dictionary of hyperparameters.\n",
        "\n",
        "    Returns:\n",
        "        nn.Module: The trained model with the best validation accuracy.\n",
        "        float: The best validation accuracy.\n",
        "    \"\"\"\n",
        "\n",
        "    hparams[\"num_epochs\"] = hparams.get(\"num_epochs\", 100)\n",
        "    hparams[\"lr\"] = hparams.get(\"lr\", 0.01)\n",
        "    hparams[\"batch_size\"] = hparams.get(\"batch_size\", 16)\n",
        "\n",
        "    # shuffle dataset\n",
        "    dataset = dataset.shuffle()\n",
        "    train_sizes = {\"ENZYMES\": 540, \"MUTAG\": 150}\n",
        "    sz = train_sizes[dataset.name]\n",
        "\n",
        "    # init training and validation dataloaders\n",
        "    dataloader_train = DataLoader(dataset[:sz], batch_size=hparams[\"batch_size\"], shuffle=True)\n",
        "    dataloader_val = DataLoader(dataset[sz:], batch_size=hparams[\"batch_size\"])\n",
        "\n",
        "    # init optimizer and loss\n",
        "    optimizer = torch.optim.Adam(model.parameters(), lr=hparams[\"lr\"])\n",
        "    criterion = nn.CrossEntropyLoss()\n",
        "\n",
        "    # init metrics\n",
        "    metric_loss_train = torchmetrics.MeanMetric()\n",
        "    metric_accuracy_train = torchmetrics.Accuracy(task=\"multiclass\", num_classes=dataset.num_classes)\n",
        "    metric_accuracy_val = torchmetrics.Accuracy(task=\"multiclass\", num_classes=dataset.num_classes)\n",
        "\n",
        "    best_model_state = None\n",
        "    best_val_acc = 0.0\n",
        "\n",
        "    # training loop\n",
        "    num_epochs = hparams[\"num_epochs\"]\n",
        "    epoch_bar = tqdm(list(range(num_epochs)), desc=\"Epochs\" + \" \"*100)\n",
        "    for epoch in epoch_bar:\n",
        "\n",
        "        # training loop\n",
        "        model.train()\n",
        "        for data in dataloader_train:\n",
        "            optimizer.zero_grad()\n",
        "            logits = model(data.x, data.edge_index, data.batch)\n",
        "            loss = criterion(logits, data.y)\n",
        "            loss.backward()\n",
        "            optimizer.step()\n",
        "\n",
        "            metric_loss_train(loss)\n",
        "            metric_accuracy_train(logits.argmax(dim=1), data.y)\n",
        "\n",
        "\n",
        "        # evaluation loop\n",
        "        model.eval()\n",
        "        for data in dataloader_val:\n",
        "            with torch.no_grad():\n",
        "                logits = model(data.x, data.edge_index, data.batch)\n",
        "                pred = logits.argmax(dim=1)\n",
        "                metric_accuracy_val(pred, data.y)\n",
        "\n",
        "        train_loss = metric_loss_train.compute().item()\n",
        "        train_acc = metric_accuracy_train.compute().item()\n",
        "        val_acc = metric_accuracy_val.compute().item()\n",
        "\n",
        "        # progress bar\n",
        "        epoch_bar.set_description(\"\".join([\n",
        "            f'Epoch: {epoch+1:03d} | ',\n",
        "            f'Val Acc: {val_acc:.3f} | ',\n",
        "            f'Train Acc: {train_acc:.3f} | ',\n",
        "            f'Train Loss: {train_loss:.3f} | ',\n",
        "            ]))\n",
        "\n",
        "        # update best model\n",
        "        if val_acc > best_val_acc:\n",
        "            best_model_state = model.state_dict()\n",
        "            best_val_acc = val_acc\n",
        "\n",
        "    best_model = model\n",
        "    best_model.load_state_dict(best_model_state)\n",
        "\n",
        "    return best_model, best_val_acc"
      ]
    },
    {
      "cell_type": "markdown",
      "metadata": {
        "id": "ap0EHntz5kLI"
      },
      "source": [
        "### [RUN] Define our model"
      ]
    },
    {
      "cell_type": "code",
      "execution_count": 5,
      "metadata": {
        "id": "ZLlNwk-3DZu7"
      },
      "outputs": [],
      "source": [
        "class SetConv(nn.Linear):\n",
        "    \"\"\"\n",
        "    A simple linear layer that performs action on every node feature\n",
        "    \"\"\"\n",
        "\n",
        "    def forward(self, x, edge_index):\n",
        "        return super().forward(x)\n",
        "\n",
        "\n",
        "class GraphNetModel(nn.Module):\n",
        "\n",
        "    def __init__(self, num_features, num_classes, conv_layer_cls=None):\n",
        "        super().__init__()\n",
        "\n",
        "        # in case no gnnLayer is provided, use a simple linear layer\n",
        "        if conv_layer_cls is None:\n",
        "            conv_layer_cls = SetConv\n",
        "\n",
        "        # first graph covolutional layer\n",
        "        self.conv1 = conv_layer_cls(num_features, 32)\n",
        "\n",
        "        # TODO🚀(optional):\n",
        "        # - add more conv layers\n",
        "\n",
        "        # last graph convolutional layer\n",
        "        self.convL = conv_layer_cls(32, 32)\n",
        "\n",
        "        # TODO🚀(optional):\n",
        "        # - in many tutorials, the stantard dropout layer\n",
        "        #    on **features** is used which can help\n",
        "        #    with overfitting. Simlarly, the standard\n",
        "        #    batch normalization can be used as well.\n",
        "        # - `self.dropout = nn.Dropout(0.5)`\n",
        "\n",
        "        # TODO🚀(optional):\n",
        "        # - you might try to add batchnorm on features\n",
        "        #   between the conv layers\n",
        "        # - `self.batchnorm = nn.BatchNorm1d(32)`\n",
        "\n",
        "        self.linear = nn.Linear(32, num_classes)\n",
        "\n",
        "    def forward(self, x, edge_index, batch):\n",
        "\n",
        "        # TODO🚀(optional):\n",
        "        # - in case some number of some large features\n",
        "        #   can by big, you might want to add\n",
        "        #   either batch normalization here if you are familiar\n",
        "        #   and/or logarithm/clamp the input\n",
        "        # - `x = x.log1p()`\n",
        "        # - `x = x.clamp_max(6.0)`\n",
        "\n",
        "        # apply first layer and follow with ReLU\n",
        "        x = self.conv1(x, edge_index).relu()\n",
        "\n",
        "        # TODO🚀(optional):\n",
        "        # - apply more conv layers\n",
        "\n",
        "        x = self.convL(x, edge_index).relu()\n",
        "\n",
        "        # this (set) pooling makes the function\n",
        "        # invariant to the order of the nodes\n",
        "        x = gnn.global_mean_pool(x, batch)\n",
        "\n",
        "        # TODO🚀(optional):\n",
        "        # add dropout or batchnorm of features\n",
        "        # - `x = self.dropout(x)`\n",
        "\n",
        "        # apply linear layer\n",
        "        x = self.linear(x)\n",
        "\n",
        "        return x"
      ]
    },
    {
      "cell_type": "markdown",
      "metadata": {
        "id": "6M2kk0J45kLO"
      },
      "source": [
        "### [RUN] Initial Training and Evaluation without Incorporating Graph Convolutional Neural Network Layer\n",
        "\n",
        "Let's begin our experiment with a simple run. This initial training and evaluation process does not involve any Graph Convolutional Neural Network layers. It allows us to gauge baseline performance and understand the effect of these layers when we introduce them later in the process.\n"
      ]
    },
    {
      "cell_type": "code",
      "execution_count": 6,
      "metadata": {
        "colab": {
          "base_uri": "https://localhost:8080/"
        },
        "id": "vsxGpG_tDuoV",
        "outputId": "25113ec0-6dc4-4a46-a622-0c94e8fc7188"
      },
      "outputs": [
        {
          "output_type": "stream",
          "name": "stderr",
          "text": [
            "Epoch: 100 | Val Acc: 0.658 | Train Acc: 0.666 | Train Loss: 0.639 | : 100%|██████████| 100/100 [00:07<00:00, 13.98it/s]"
          ]
        },
        {
          "output_type": "stream",
          "name": "stdout",
          "text": [
            "Model size: 1186\n",
            "Best Accuracy: 0.6578947305679321\n"
          ]
        },
        {
          "output_type": "stream",
          "name": "stderr",
          "text": [
            "\n"
          ]
        }
      ],
      "source": [
        "model = GraphNetModel(dataset.num_features, dataset.num_classes)\n",
        "model, val_accuracy = train_and_eval(model, dataset)\n",
        "\n",
        "print(\"Model size:\", sum(p.numel() for p in model.parameters()))\n",
        "print(\"Best Accuracy:\", val_accuracy)"
      ]
    },
    {
      "cell_type": "markdown",
      "metadata": {
        "id": "LknFIgBmIckf"
      },
      "source": [
        "### [Task 1] Substructure Counting as Local Graph Parameters\n",
        "\n",
        "In this task, we will explore the concept of substructure counting as a means of incorporating local graph parameters into our model. This approach will allow us to capture more nuanced characteristics of our graph data.\n",
        "\n",
        "You're encouraged to leverage the model and network you constructed in the previous session for this task. This approach draws inspiration from the study \"[Graph Neural Networks with Local Graph Parameters](https://arxiv.org/abs/2106.06707)\", which introduces the idea of incorporating local graph parameters to enhance the expressiveness and interpretability of Graph Neural Networks (GNNs).\n"
      ]
    },
    {
      "cell_type": "code",
      "execution_count": 7,
      "metadata": {
        "id": "ONElh8Ms62Zt"
      },
      "outputs": [],
      "source": [
        "def add_local_counting_features(data):\n",
        "    nx = data.x.shape[0]\n",
        "\n",
        "    # create abstraction of sparse adjacency matrix from edge_index\n",
        "    A = tg.utils.to_torch_coo_tensor(edge_index)\n",
        "\n",
        "    # also sparse identity matrix\n",
        "    I = torch.sparse_coo_tensor(torch.stack([torch.arange(nx), torch.arange(nx)]), torch.ones(nx).float(), size=(nx, nx))\n",
        "\n",
        "    # walks of length 3\n",
        "    W3 = (A @ A @ A)\n",
        "    # walks of length 4\n",
        "    W4 = W3 @ A\n",
        "    # walks of length 5\n",
        "    W5 = W4 @ A\n",
        "    # walks of length 6\n",
        "    W6 = W5 @ A\n",
        "    # walks of length 7\n",
        "    W7 = W6 @ A\n",
        "    # walks of length 8\n",
        "    W8 = W7 @ A\n",
        "    # walks of length 9\n",
        "    W9 = W8 @ A\n",
        "    # walks of length 10\n",
        "    W10 = W9 @ A\n",
        "    # walks of length 20\n",
        "    W20 = W10 @ W10\n",
        "\n",
        "    # closed walks of length 3\n",
        "    C3 = (W3 * I).sum(dim=1)\n",
        "    # closed walks of length 4\n",
        "    C4  = (W4 * I).sum(dim=1)\n",
        "    # closed walks of length 5\n",
        "    C5  = (W5 * I).sum(dim=1)\n",
        "    # closed walks of length 6\n",
        "    C6  = (W6 * I).sum(dim=1)\n",
        "    # closed walks of length 7\n",
        "    C7  = (W7 * I).sum(dim=1)\n",
        "    # closed walks of length 8\n",
        "    C8  = (W8 * I).sum(dim=1)\n",
        "    # closed walks of length 9\n",
        "    C9  = (W9 * I).sum(dim=1)\n",
        "    # closed walks of length 10\n",
        "    C10 = (W10 * I).sum(dim=1)\n",
        "    # closed walks of length 20\n",
        "    C20 = (W20 * I).sum(dim=1)\n",
        "\n",
        "\n",
        "\n",
        "\n",
        "    # add all features to the node features\n",
        "    features = []\n",
        "\n",
        "    # feature index 0 is the original node feature\n",
        "    features.append(data.x)\n",
        "\n",
        "    # feature index 1\n",
        "    features.append(C3)\n",
        "\n",
        "    # feature index 2\n",
        "    features.append(C4)\n",
        "\n",
        "\n",
        "\n",
        "    #TODO🚀(optional):\n",
        "    # - add more features here, however be careful,\n",
        "    #   the features should be equivariant, i.e.,\n",
        "    #   the order of the nodes should not matter\n",
        "    # - `features.append( ... )`\n",
        "\n",
        "\n",
        "\n",
        "    # stack all features together\n",
        "    data.x = torch.cat([\n",
        "        feat.to_dense().view(-1, 1)\n",
        "        for feat in features\n",
        "    ], dim=1)\n",
        "\n",
        "    return data"
      ]
    },
    {
      "cell_type": "markdown",
      "metadata": {
        "id": "SMalBJhs62Zt"
      },
      "source": [
        "**test on our two graph:**"
      ]
    },
    {
      "cell_type": "code",
      "execution_count": 8,
      "metadata": {
        "id": "Ghcge8cy62Zt",
        "outputId": "73fb085d-08a9-49b4-9037-ad9aae1ece4d",
        "colab": {
          "base_uri": "https://localhost:8080/",
          "height": 531,
          "referenced_widgets": [
            "e24757fb9081497c988e2fa9005162c9",
            "e34048f9de874b4abc6ae7cd8ff96ee3",
            "2ff9eb072cdd45ce8ddfff3034a03733",
            "3981233fcda846e6a44e3f715820239f",
            "401e37d8696b4a6cac63f5c1edd753fd",
            "73d426790f4f48e1aa4e3843c1382a57",
            "f418c5093b19463a9cb5290c1ed014f3"
          ]
        }
      },
      "outputs": [
        {
          "output_type": "stream",
          "name": "stderr",
          "text": [
            "<ipython-input-7-6091cbd00bd7>:11: UserWarning: Sparse CSR tensor support is in beta state. If you miss a functionality in the sparse tensor support, please submit a feature request to https://github.com/pytorch/pytorch/issues. (Triggered internally at ../aten/src/ATen/SparseCsrTensorImpl.cpp:54.)\n",
            "  W3 = (A @ A @ A)\n"
          ]
        },
        {
          "output_type": "display_data",
          "data": {
            "text/plain": [
              "interactive(children=(IntSlider(value=0, description='feature_index', max=2), Output()), _dom_classes=('widget…"
            ],
            "application/vnd.jupyter.widget-view+json": {
              "version_major": 2,
              "version_minor": 0,
              "model_id": "e24757fb9081497c988e2fa9005162c9"
            }
          },
          "metadata": {}
        }
      ],
      "source": [
        "graph_G = nx.from_edgelist([(0,1), (1,2), (2,0), (3,4), (4,5), (5,3), (1,4)])\n",
        "graph_H = nx.from_edgelist([(0,1), (1,2), (2,3), (3,4), (4,5), (5,0), (1,4)])\n",
        "\n",
        "def from_networkx(G: nx.Graph) -> tg.data.Data:\n",
        "    \"\"\"Utility function\"\"\"\n",
        "    data = tg.utils.from_networkx(G)\n",
        "    data.x = torch.ones((G.number_of_nodes(), 1), dtype=torch.float)\n",
        "    return data\n",
        "\n",
        "def draw_graph_with_feature_vector(data_list, feature_index):\n",
        "    c = len(data_list)\n",
        "    plt.subplots(1, c, figsize=(c*5,5))\n",
        "    for i, data in enumerate(data_list):\n",
        "        feature_index = max(0, min(feature_index, data.x.shape[1]-1))\n",
        "        plt.subplot(1, c, i+1)\n",
        "        plt.title(f\"feature index: {feature_index}\")\n",
        "        g = to_networkx(data, to_undirected=True)\n",
        "        feat = dict(enumerate(data.x[:, feature_index].long().tolist()))\n",
        "        pos = nx.spring_layout(g, seed=42)\n",
        "        nx.draw_networkx(g, labels=feat, with_labels=True, node_color=\"orange\", pos=pos)\n",
        "        plt.axis('off')\n",
        "    plt.show()\n",
        "\n",
        "\n",
        "# apply our function to the graph data item\n",
        "data_G = add_local_counting_features(from_networkx(graph_G))\n",
        "data_H = add_local_counting_features(from_networkx(graph_H))\n",
        "\n",
        "from ipywidgets import interact, IntSlider\n",
        "\n",
        "@interact(feature_index=IntSlider(max=data_G.x.shape[1]-1))\n",
        "def display_dataset_element(feature_index):\n",
        "    draw_graph_with_feature_vector([data_G, data_H], feature_index)"
      ]
    },
    {
      "cell_type": "markdown",
      "metadata": {
        "id": "R5YZPl7162Zt"
      },
      "source": [
        "**explore some more examples from dataset:**"
      ]
    },
    {
      "cell_type": "code",
      "execution_count": 9,
      "metadata": {
        "id": "DA7g0IoU62Zt",
        "outputId": "9adfd028-c38b-4f43-f880-58f3ca2eb939",
        "colab": {
          "base_uri": "https://localhost:8080/",
          "height": 508,
          "referenced_widgets": [
            "978de1f8c40a4de9b8cf4b8a5c1b7df5",
            "b9c6d502efce4ad8a6d6b8da2ba16ac3",
            "7c3715f3d1ad480683bdeb3c398e88d6",
            "b1a128b5437b4ff4a45b26a51ecaa84a",
            "72bc7a3dba7342b094666dd459d669ee",
            "7fc8c3f0f63241059f1c05f662e3f680",
            "db895fc2b8594990818506b5550af37b",
            "95f8d16a741a4487b8ee8dcbc9a89fed",
            "59ac59b443cb4c44af6439aebbb55ac9",
            "36a89c23789d466d874159e7e42ec4a3"
          ]
        }
      },
      "outputs": [
        {
          "output_type": "display_data",
          "data": {
            "text/plain": [
              "interactive(children=(IntSlider(value=0, description='data_index', max=187), IntSlider(value=0, description='f…"
            ],
            "application/vnd.jupyter.widget-view+json": {
              "version_major": 2,
              "version_minor": 0,
              "model_id": "978de1f8c40a4de9b8cf4b8a5c1b7df5"
            }
          },
          "metadata": {}
        }
      ],
      "source": [
        "# apply our function to the graph data items in the dataset\n",
        "enriched_dataset = TUDataset(root='data/TUDataset', name='MUTAG', pre_transform=reduce_features, transform=add_local_counting_features)\n",
        "\n",
        "@interact(data_index=IntSlider(max=len(dataset)-1), feature_index=IntSlider(max=data_G.x.shape[1]-1))\n",
        "def display_dataset_element2(data_index, feature_index):\n",
        "    draw_graph_with_feature_vector(enriched_dataset[data_index:data_index+1], feature_index)"
      ]
    },
    {
      "cell_type": "markdown",
      "metadata": {
        "id": "ENmzuvhd5kLP"
      },
      "source": [
        "**finally, test during training:**\n",
        "\n",
        "At this point, we are ready to train and evaluate our model using the enriched dataset we've prepared.\n",
        "\n",
        "We will use the [GraphConv](https://pytorch-geometric.readthedocs.io/en/latest/modules/nn.html#torch_geometric.nn.conv.GraphConv) layer as our `conv_layer_cls`. However, feel free to substitute your own implementation or experiment with other layers available in PyTorch Geometric.\n",
        "\n",
        "\n",
        "Before proceeding, it's worth revisiting the cell where we defined `forward` function of `GraphNetModel`. Given the nature of the enriched dataset, which may include large numerical values due to substructure counting, it might be beneficial to incorporate additional transformations such as logarithm function or clipping. This can ensure the network doesn't struggle with large numerical values and maintains numerical stability during training.\n",
        "\n",
        "\n",
        "> `torch.clamp_min()` and `torch.clamp_max()`: These functions allow you to clamp the tensor to a minimum value or a maximum value respectively.\n",
        "As for the logarithm function, PyTorch has `torch.log()`, which calculates the natural logarithm of each element in the input tensor. To avoid taking logarithm of zero or a negative number, you can add a small constant before taking logarithm. This technique is known as log1p, and PyTorch has built-in support for this through `torch.log1p()`, which computes log(1 + x) for each element in the tensor. This function is more accurate for small values of x.\n",
        "\n",
        "So, take a moment to review and adjust your model architecture if needed. Once you're satisfied, proceed with the training and evaluation phase.\n",
        "\n",
        "Remember, the goal here is not just to build a model, but to understand how these transformations and the choice of convolutional layer influence the model's performance. Happy training!\n",
        "\n"
      ]
    },
    {
      "cell_type": "code",
      "execution_count": 10,
      "metadata": {
        "colab": {
          "base_uri": "https://localhost:8080/"
        },
        "id": "BJHNkF2z5kLP",
        "outputId": "16fb1440-5087-483c-ff9a-af0c8f181aed"
      },
      "outputs": [
        {
          "output_type": "stream",
          "name": "stderr",
          "text": [
            "Epoch: 100 | Val Acc: 0.759 | Train Acc: 0.791 | Train Loss: 0.417 | : 100%|██████████| 100/100 [01:01<00:00,  1.63it/s]"
          ]
        },
        {
          "output_type": "stream",
          "name": "stdout",
          "text": [
            "Model size: 2370\n",
            "Best Accuracy: 0.7586842179298401\n"
          ]
        },
        {
          "output_type": "stream",
          "name": "stderr",
          "text": [
            "\n"
          ]
        }
      ],
      "source": [
        "model_our2 = GraphNetModel(\n",
        "    enriched_dataset.num_features,\n",
        "    enriched_dataset.num_classes,\n",
        "    conv_layer_cls=gnn.GraphConv)\n",
        "\n",
        "trained_model_our2, val_accuracy_our2 = train_and_eval(model_our2, enriched_dataset)\n",
        "\n",
        "print(\"Model size:\", sum(p.numel() for p in model_our2.parameters()))\n",
        "print(\"Best Accuracy:\", val_accuracy_our2)"
      ]
    },
    {
      "cell_type": "markdown",
      "metadata": {
        "id": "bGXaizmP5kLP"
      },
      "source": [
        "### [UPDATE] So, are outputs identical if the graphs are clearly not isomorphic?\n",
        "\n",
        "Now, we can test if added features now breaked the symmetry, so that the model can distinguish between the two graphs since we added the substructure count as a feature. We test on our two graphs again:\n"
      ]
    },
    {
      "cell_type": "code",
      "execution_count": 11,
      "metadata": {
        "id": "sPTfBnox5kLP",
        "outputId": "0de8a56e-2681-4484-9579-12974f4f15d0",
        "colab": {
          "base_uri": "https://localhost:8080/"
        }
      },
      "outputs": [
        {
          "output_type": "stream",
          "name": "stdout",
          "text": [
            "Prediction for G:  [[ 0.6673349  -0.99607134]]\n",
            "Prediction for H: [[-0.7387165  0.6704006]]\n"
          ]
        }
      ],
      "source": [
        "model_our2.eval()\n",
        "\n",
        "# only one batch\n",
        "batch = torch.zeros(6).long()\n",
        "\n",
        "logits_G = model_our2(data_G.x, data_G.edge_index, batch)\n",
        "logits_H = model_our2(data_H.x, data_H.edge_index, batch)\n",
        "\n",
        "print(\"Prediction for G: \", logits_G.detach().numpy())\n",
        "print(\"Prediction for H:\", logits_H.detach().numpy())"
      ]
    },
    {
      "cell_type": "markdown",
      "metadata": {
        "id": "OEydIjczTlTA"
      },
      "source": [
        "## [TASK 2] (Optional) Implement a 2-WL Graph Convolutional Neural Network Layer\n",
        "Now, it's time to head back to the `GraphNetModel` and `train_and_eval` functions. Seize this opportunity to devise a more expressive model!.s\n",
        "\n",
        "This step is optional but highly encouraged. By refining and optimizing your model, you not only enhance its performance but also deepen your understanding of the inner workings of Graph Neural Networks. So go ahead, push your boundaries and let's see how much your model can achieve!"
      ]
    },
    {
      "cell_type": "markdown",
      "metadata": {
        "id": "4q6lmapnIckh"
      },
      "source": [
        "[*] Text sections INFO1-INFO5 were mostly adapted from Pytorch Documentation, please visit [PyG Colab Tutorial](https://pytorch-geometric.readthedocs.io/en/latest/get_started/colabs.html) for more information.\n"
      ]
    }
  ],
  "metadata": {
    "colab": {
      "provenance": []
    },
    "kernelspec": {
      "display_name": "Python 3",
      "name": "python3"
    },
    "language_info": {
      "codemirror_mode": {
        "name": "ipython",
        "version": 3
      },
      "file_extension": ".py",
      "mimetype": "text/x-python",
      "name": "python",
      "nbconvert_exporter": "python",
      "pygments_lexer": "ipython3",
      "version": "3.10.11"
    },
    "widgets": {
      "application/vnd.jupyter.widget-state+json": {
        "b180b11fb15543ee91df33d209200f4c": {
          "model_module": "@jupyter-widgets/controls",
          "model_name": "VBoxModel",
          "model_module_version": "1.5.0",
          "state": {
            "_dom_classes": [
              "widget-interact"
            ],
            "_model_module": "@jupyter-widgets/controls",
            "_model_module_version": "1.5.0",
            "_model_name": "VBoxModel",
            "_view_count": null,
            "_view_module": "@jupyter-widgets/controls",
            "_view_module_version": "1.5.0",
            "_view_name": "VBoxView",
            "box_style": "",
            "children": [
              "IPY_MODEL_38fe880d3d9c4c8e85723837ec75bd42",
              "IPY_MODEL_6322eec5d1624831a735818b587852b3"
            ],
            "layout": "IPY_MODEL_b517d1061024449c896e185e2ea4ee4d"
          }
        },
        "38fe880d3d9c4c8e85723837ec75bd42": {
          "model_module": "@jupyter-widgets/controls",
          "model_name": "IntSliderModel",
          "model_module_version": "1.5.0",
          "state": {
            "_dom_classes": [],
            "_model_module": "@jupyter-widgets/controls",
            "_model_module_version": "1.5.0",
            "_model_name": "IntSliderModel",
            "_view_count": null,
            "_view_module": "@jupyter-widgets/controls",
            "_view_module_version": "1.5.0",
            "_view_name": "IntSliderView",
            "continuous_update": true,
            "description": "index",
            "description_tooltip": null,
            "disabled": false,
            "layout": "IPY_MODEL_22f7898df76646448290c0a53ec18fb1",
            "max": 187,
            "min": 0,
            "orientation": "horizontal",
            "readout": true,
            "readout_format": "d",
            "step": 1,
            "style": "IPY_MODEL_a927c4f7a08f4144b3ab9abbd753d64e",
            "value": 0
          }
        },
        "6322eec5d1624831a735818b587852b3": {
          "model_module": "@jupyter-widgets/output",
          "model_name": "OutputModel",
          "model_module_version": "1.0.0",
          "state": {
            "_dom_classes": [],
            "_model_module": "@jupyter-widgets/output",
            "_model_module_version": "1.0.0",
            "_model_name": "OutputModel",
            "_view_count": null,
            "_view_module": "@jupyter-widgets/output",
            "_view_module_version": "1.0.0",
            "_view_name": "OutputView",
            "layout": "IPY_MODEL_1c41394769c8409c8a9af21500967cee",
            "msg_id": "",
            "outputs": [
              {
                "output_type": "display_data",
                "data": {
                  "text/plain": "<Figure size 640x480 with 1 Axes>",
                  "image/png": "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\n"
                },
                "metadata": {}
              }
            ]
          }
        },
        "b517d1061024449c896e185e2ea4ee4d": {
          "model_module": "@jupyter-widgets/base",
          "model_name": "LayoutModel",
          "model_module_version": "1.2.0",
          "state": {
            "_model_module": "@jupyter-widgets/base",
            "_model_module_version": "1.2.0",
            "_model_name": "LayoutModel",
            "_view_count": null,
            "_view_module": "@jupyter-widgets/base",
            "_view_module_version": "1.2.0",
            "_view_name": "LayoutView",
            "align_content": null,
            "align_items": null,
            "align_self": null,
            "border": null,
            "bottom": null,
            "display": null,
            "flex": null,
            "flex_flow": null,
            "grid_area": null,
            "grid_auto_columns": null,
            "grid_auto_flow": null,
            "grid_auto_rows": null,
            "grid_column": null,
            "grid_gap": null,
            "grid_row": null,
            "grid_template_areas": null,
            "grid_template_columns": null,
            "grid_template_rows": null,
            "height": null,
            "justify_content": null,
            "justify_items": null,
            "left": null,
            "margin": null,
            "max_height": null,
            "max_width": null,
            "min_height": null,
            "min_width": null,
            "object_fit": null,
            "object_position": null,
            "order": null,
            "overflow": null,
            "overflow_x": null,
            "overflow_y": null,
            "padding": null,
            "right": null,
            "top": null,
            "visibility": null,
            "width": null
          }
        },
        "22f7898df76646448290c0a53ec18fb1": {
          "model_module": "@jupyter-widgets/base",
          "model_name": "LayoutModel",
          "model_module_version": "1.2.0",
          "state": {
            "_model_module": "@jupyter-widgets/base",
            "_model_module_version": "1.2.0",
            "_model_name": "LayoutModel",
            "_view_count": null,
            "_view_module": "@jupyter-widgets/base",
            "_view_module_version": "1.2.0",
            "_view_name": "LayoutView",
            "align_content": null,
            "align_items": null,
            "align_self": null,
            "border": null,
            "bottom": null,
            "display": null,
            "flex": null,
            "flex_flow": null,
            "grid_area": null,
            "grid_auto_columns": null,
            "grid_auto_flow": null,
            "grid_auto_rows": null,
            "grid_column": null,
            "grid_gap": null,
            "grid_row": null,
            "grid_template_areas": null,
            "grid_template_columns": null,
            "grid_template_rows": null,
            "height": null,
            "justify_content": null,
            "justify_items": null,
            "left": null,
            "margin": null,
            "max_height": null,
            "max_width": null,
            "min_height": null,
            "min_width": null,
            "object_fit": null,
            "object_position": null,
            "order": null,
            "overflow": null,
            "overflow_x": null,
            "overflow_y": null,
            "padding": null,
            "right": null,
            "top": null,
            "visibility": null,
            "width": null
          }
        },
        "a927c4f7a08f4144b3ab9abbd753d64e": {
          "model_module": "@jupyter-widgets/controls",
          "model_name": "SliderStyleModel",
          "model_module_version": "1.5.0",
          "state": {
            "_model_module": "@jupyter-widgets/controls",
            "_model_module_version": "1.5.0",
            "_model_name": "SliderStyleModel",
            "_view_count": null,
            "_view_module": "@jupyter-widgets/base",
            "_view_module_version": "1.2.0",
            "_view_name": "StyleView",
            "description_width": "",
            "handle_color": null
          }
        },
        "1c41394769c8409c8a9af21500967cee": {
          "model_module": "@jupyter-widgets/base",
          "model_name": "LayoutModel",
          "model_module_version": "1.2.0",
          "state": {
            "_model_module": "@jupyter-widgets/base",
            "_model_module_version": "1.2.0",
            "_model_name": "LayoutModel",
            "_view_count": null,
            "_view_module": "@jupyter-widgets/base",
            "_view_module_version": "1.2.0",
            "_view_name": "LayoutView",
            "align_content": null,
            "align_items": null,
            "align_self": null,
            "border": null,
            "bottom": null,
            "display": null,
            "flex": null,
            "flex_flow": null,
            "grid_area": null,
            "grid_auto_columns": null,
            "grid_auto_flow": null,
            "grid_auto_rows": null,
            "grid_column": null,
            "grid_gap": null,
            "grid_row": null,
            "grid_template_areas": null,
            "grid_template_columns": null,
            "grid_template_rows": null,
            "height": null,
            "justify_content": null,
            "justify_items": null,
            "left": null,
            "margin": null,
            "max_height": null,
            "max_width": null,
            "min_height": null,
            "min_width": null,
            "object_fit": null,
            "object_position": null,
            "order": null,
            "overflow": null,
            "overflow_x": null,
            "overflow_y": null,
            "padding": null,
            "right": null,
            "top": null,
            "visibility": null,
            "width": null
          }
        },
        "e24757fb9081497c988e2fa9005162c9": {
          "model_module": "@jupyter-widgets/controls",
          "model_name": "VBoxModel",
          "model_module_version": "1.5.0",
          "state": {
            "_dom_classes": [
              "widget-interact"
            ],
            "_model_module": "@jupyter-widgets/controls",
            "_model_module_version": "1.5.0",
            "_model_name": "VBoxModel",
            "_view_count": null,
            "_view_module": "@jupyter-widgets/controls",
            "_view_module_version": "1.5.0",
            "_view_name": "VBoxView",
            "box_style": "",
            "children": [
              "IPY_MODEL_e34048f9de874b4abc6ae7cd8ff96ee3",
              "IPY_MODEL_2ff9eb072cdd45ce8ddfff3034a03733"
            ],
            "layout": "IPY_MODEL_3981233fcda846e6a44e3f715820239f"
          }
        },
        "e34048f9de874b4abc6ae7cd8ff96ee3": {
          "model_module": "@jupyter-widgets/controls",
          "model_name": "IntSliderModel",
          "model_module_version": "1.5.0",
          "state": {
            "_dom_classes": [],
            "_model_module": "@jupyter-widgets/controls",
            "_model_module_version": "1.5.0",
            "_model_name": "IntSliderModel",
            "_view_count": null,
            "_view_module": "@jupyter-widgets/controls",
            "_view_module_version": "1.5.0",
            "_view_name": "IntSliderView",
            "continuous_update": true,
            "description": "feature_index",
            "description_tooltip": null,
            "disabled": false,
            "layout": "IPY_MODEL_401e37d8696b4a6cac63f5c1edd753fd",
            "max": 2,
            "min": 0,
            "orientation": "horizontal",
            "readout": true,
            "readout_format": "d",
            "step": 1,
            "style": "IPY_MODEL_73d426790f4f48e1aa4e3843c1382a57",
            "value": 0
          }
        },
        "2ff9eb072cdd45ce8ddfff3034a03733": {
          "model_module": "@jupyter-widgets/output",
          "model_name": "OutputModel",
          "model_module_version": "1.0.0",
          "state": {
            "_dom_classes": [],
            "_model_module": "@jupyter-widgets/output",
            "_model_module_version": "1.0.0",
            "_model_name": "OutputModel",
            "_view_count": null,
            "_view_module": "@jupyter-widgets/output",
            "_view_module_version": "1.0.0",
            "_view_name": "OutputView",
            "layout": "IPY_MODEL_f418c5093b19463a9cb5290c1ed014f3",
            "msg_id": "",
            "outputs": [
              {
                "output_type": "display_data",
                "data": {
                  "text/plain": "<Figure size 1000x500 with 2 Axes>",
                  "image/png": "iVBORw0KGgoAAAANSUhEUgAAAxoAAAGrCAYAAABHSeGrAAAAOXRFWHRTb2Z0d2FyZQBNYXRwbG90bGliIHZlcnNpb24zLjcuMSwgaHR0cHM6Ly9tYXRwbG90bGliLm9yZy/bCgiHAAAACXBIWXMAAA9hAAAPYQGoP6dpAAB1S0lEQVR4nO3dd1RU18IF8D0UURm7RtHEAqgRUIy9RLGC3cRYEkUBY0sUSzTG3rHHClZ0sBt7RcVuVBS7AirF8qKIHXREEGbu98conwUQcIYzZf/WeusJw5y7ITqXPefec2SSJEkgIiIiIiLSIjPRAYiIiIiIyPiwaBARERERkdaxaBARERERkdaxaBARERERkdaxaBARERERkdaxaBARERERkdaxaBARERERkdaxaBARERERkdaxaBARERERkdaxaJiIc+fOoV69erC2toZMJsPly5dFR8pRd+7cgUwmQ0BAgF6PSURkSnhu4rmJjBuLhglITk5Gp06d8OzZM8ydOxdr1qxBmTJltH6cmJgYTJgwweROFPrk/v376Ny5MwoWLIj8+fOjffv2uHXrluhYRESf4LnJdPDcZLosRAcg3YuOjsbdu3exfPly9OrVS2fHiYmJwcSJE1G2bFlUrVpVZ8fJjjJlyuD169ewtLQUHUVnlEolGjdujPj4eIwaNQqWlpaYO3cuXFxccPnyZRQpUkR0RCKiVDw38dzEc5PxY9EwAY8ePQIAFCxYUGyQbEpMTESuXLlgZpb9CTiZTIbcuXNrMZX+WbRoESIjIxESEoKaNWsCAFq2bAknJyf8/fffmDp1quCERET/j+cmnpt4bjJ+vHTKyHl6esLFxQUA0KlTJ8hkMjRq1Cj18Rs3bqBjx44oXLgwcufOjRo1amDXrl0fjPHs2TMMGzYMlStXhlwuR/78+dGyZUtcuXIl9WuOHTuW+gLi5eUFmUz2wTWiZcuWhaen5yf5GjVq9EGeY8eOQSaTYePGjRgzZgxKlSqFvHnz4sWLFwCAs2fPokWLFihQoADy5s0LFxcXnDp16rM/h7SuWfX09IRcLsf9+/fxww8/QC6Xo1ixYhg2bBhUKtUHz4+Li4OnpycKFCiAggULwsPDA3FxcWke63M/00ePHqFYsWJo1KgRJElK/XxUVBSsra3RpUuX1M8lJCTgxo0bePLkyWe/xy1btqBmzZqp/x0A4Ntvv0XTpk2xadOmzz6fiCin8NykwXMTz03GjkXDyPXt2xejRo0CAAwcOBBr1qzB6NGjAQBhYWGoU6cOrl+/jhEjRuDvv/+GtbU1fvjhB2zfvj11jFu3bmHHjh1o06YN5syZgz///BPXrl2Di4sLYmJiAACVKlXCpEmTAAB9+vTBmjVrsGbNGjRs2DBbuSdPnoy9e/di2LBhmDp1KnLlyoUjR46gYcOGePHiBcaPH4+pU6ciLi4OTZo0QUhISLaOo1Kp4ObmhiJFimD27NlwcXHB33//jWXLlqV+jSRJaN++PdasWQN3d3dMmTIF9+7dg4eHxyfjZeZn+tVXX2Hx4sU4fvw4Fi5cCABQq9Xw9PREvnz5sGjRotTxQkJCUKlSJfj6+mb4fajValy9ehU1atT45LFatWohOjoaL1++zNbPiIhI23huyhjPTWQ0JDJ6R48elQBImzdv/uDzTZs2lSpXriwlJiamfk6tVkv16tWTypcvn/q5xMRESaVSffDc27dvS1ZWVtKkSZNSP3fu3DkJgKRQKD7JUKZMGcnDw+OTz7u4uEguLi6fZLW1tZUSEhI+yFW+fHnJzc1NUqvVqZ9PSEiQypUrJzVv3jzDn8Ht27c/yebh4SEB+OB7kCRJ+u6776Tq1aunfrxjxw4JgDRz5szUz6WkpEgNGjT4ZMzM/kwlSZJ++eUXKW/evFJERIQ0a9YsCYC0Y8eOD77m3c9j/PjxGX5/jx8/TvN7kSRJ8vPzkwBIN27cyHAMIqKcxHMTz008Nxk/zmiYqGfPnuHIkSPo3LkzXr58iSdPnuDJkyd4+vQp3NzcEBkZifv37wMArKysUq9BValUePr0KeRyOSpWrIiLFy/qJJ+Hhwfy5MmT+vHly5cRGRmJrl274unTp6l5X716haZNm+LEiRNQq9XZOla/fv0++LhBgwYfrIYRGBgICwsL/Pbbb6mfMzc3h7e39wfPy8rPFAB8fX1RoEABdOzYEWPHjkX37t3Rvn37D8Z8N4U9YcKEDL+H169fA9D8t/rYu+t/330NEZG+4rnp//HcRMaAN4ObqKioKEiShLFjx2Ls2LFpfs2jR49QqlQpqNVqzJ8/H4sWLcLt27c/uEZUV6tFlCtX7oOPIyMjASDNKeF34uPjUahQoSwdJ3fu3ChWrNgHnytUqBCeP3+e+vHdu3dhY2MDuVz+wddVrFjxg4+z8jMFgMKFC2PBggXo1KkTihcvjgULFmQp+/venfiSkpI+eSwxMfGDryEi0lc8N2nw3ETGgkXDRL17h2XYsGFwc3NL82vs7e0BAFOnTsXYsWPRs2dPTJ48GYULF4aZmRkGDx6c6XdqZDJZmp9XqVQwNzf/5PMfv/C8O86sWbPSXZ7w4xfbzEjr2NmVlZ/pOwcOHAAAPH/+HPfu3cv26iuFCxeGlZUVHjx48Mlj7z5XsmTJbI1NRJRTeG7S4LmJjAWLhomytbUFAFhaWqJZs2YZfu2WLVvQuHFjrFix4oPPx8XFoWjRoqkfp/eCDWjeiUlrJYy7d++mZsmInZ0dACB//vyfzattZcqUweHDh6FUKj84Ydy8efODr8vKzxQA9u/fD39/fwwfPhzr1q2Dh4cHzp49CwuLrP+zNDMzQ+XKlXH+/PlPHjt79ixsbW2RL1++LI9LRJSTeG7KPJ6byBDwHg0T9dVXX6FRo0ZYunRpmu80PH78OPXP5ubmHyx1BwCbN2/+4JpOALC2tgaANF+07ezscObMGbx58yb1c3v27MF///2XqbzVq1eHnZ0dZs+eDaVSmWFebWvVqhVSUlKwePHi1M+pVKrUVTneycrPNC4uDr169UKtWrUwdepU+Pv74+LFi5+sJ56VJQQ7duyIc+fOffCCfvPmTRw5cgSdOnXK9PdLRCQKz02Zx3MTGQLOaJgwPz8/fP/996hcuTJ69+4NW1tbPHz4EMHBwbh3717qWuRt2rTBpEmT4OXlhXr16uHatWtYt27dJ+/22NnZoWDBgliyZAny5csHa2tr1K5dG+XKlUOvXr2wZcsWtGjRAp07d0Z0dDTWrl2b+m7Q55iZmcHf3x8tW7aEo6MjvLy8UKpUKdy/fx9Hjx5F/vz5sXv3bq3/jACgbdu2qF+/PkaMGIE7d+7AwcEB27ZtQ3x8/Cdfm9mf6aBBg/D06VMcOnQI5ubmaNGiBXr16oUpU6agffv2cHZ2BqBZQrBx48YYP378Z2+6+/3337F8+XK0bt0aw4YNg6WlJebMmYPixYtj6NChWv+5EBHpAs9NmcNzExkEcQteUU5JbwlBSZKk6OhoqUePHlKJEiUkS0tLqVSpUlKbNm2kLVu2pH5NYmKiNHToUMnGxkbKkyePVL9+fSk4OPiT5f8kSZJ27twpOTg4SBYWFp8sr/f3339LpUqVkqysrKT69etL58+fT3cJwbSySpIkXbp0SerQoYNUpEgRycrKSipTpozUuXNn6fDhwxn+DNJbQtDa2vqTrx0/frz08T+Np0+fSt27d5fy588vFShQQOrevbt06dKlNJdM/NzPdOfOnRIA6e+///7geS9evJDKlCkjOTs7S2/evPng5/G5JQTf+e+//6SOHTtK+fPnl+RyudSmTRspMjIyU88lIspJPDfx3ETGTyZJH807EhERERERfSHeo0FERERERFrHokFERERERFrHokFERERERFrHokFERERERFrHokFERERERFrHokFERERERFrHokFERERERFrHokFERERERFrHokFERERERFrHokFERERERFrHokFERERERFrHokFERERERFrHokFERERERFrHokFERERERFrHokFERERERFrHokFERERERFrHokFERERERFrHokFERERERFrHokFERERERFrHokFERERERFrHokFERERERFrHokFERERERFrHokFERERERFrHokFERERERFrHokFERERERFrHokFERERERFrHokFERERERFpnIToAGZhkJaCMAlRJgLkVILcHLOWiUxERERkmnlfJiLFo0OfFhwORS4CYQEB5C4D03oMyQG4LlGwFlO8HFHAQlZKIiMgw8LxKJkImSZL0+S8jk6S8DYT0BWIPAjILQEpJ/2vfPV6iOVBrKSAvl3M5iYiIDAHPq2RiWDQobVH+wAVvQJ2S8Qvhx2QWgJkFUH0hYN9Ld/mIiIgMCc+rZIJ4Mzh9KtQHCOkNqBKz9mIIaL5elah5fqiPbvIREREZEp5XyURxRoM+FOWveTHTltr+gN2v2huPiIjIkPC8SiaMRYP+n/I2sNdB885JWg8nArP2AGejgZBo4PkrQNEH8HTJYEzz3EDrcF5bSkREpofnVTJxvHSK/l9IX821o+l48hKYtB24fh9wLp3JMdUpmnGJiIhMDc+rZOJYNEgjPlyzCkYG147aFAQe+AF3FwCzumZyXClFM278da3EJCIiMgg8rxKxaNBbkUs0K1tkwMoSKFEwG2PLLIDIxdmKRUREZJB4XiVi0aC3YgKzvhJGZkkpQMw+3YxNRESkj3heJWLRIADJL9/uTKpDymggWanbYxAREekDnleJALBoEKB5sYKuFx+TAGWUjo9BRESkB3heJQLAokEAoEoyruMQERGJxPMqEQAWDQIAcyvjOg4REZFIPK8SAWDRIACQ20OCTMcHkQFyex0fg4iISA/I7QGeV4lYNExVSkoKgoODMWHCBNRzcUX0Qx1fSyq3Ayzluj0GERGRPrCUA3Jb3R6D51UyABkv8ExG5e7duzhw4ACCgoJw+PBhxMXFoWDBgmjWrBkSCzeBhOOQQZXhGL5BQNwrICZO8/HuS8C9Z5o/e7sBBfKm8SSZBVCypVa/FyIiIr1WspVmr4vPLHGbnfNqsgo4cFGFFPUOtGrVCrly5dJudiItkUmSpOtlEUgQpVKJY8eOISgoCAcOHEBERATMzMxQp04duLq6ws3NDTVq1ICFhYVmB9O9jp8ds+wg4O6TtB+7PQ8oWyydJ7YOBwpUyvb3QkREZFB0fF7tGOCArQfDUaxYMXTr1g1eXl6oUqVK9vMS6QCLhhFRq9W4fPlyarE4deoUkpOTUaZMGbi5ucHNzQ1NmjRBwYIF0x7giCvw8Kh2NxiSWQDFGwNNgrQ3JhERkSHQ8Xn12rVrUCgUWLt2LR4/foxq1arBy8sLXbt2ReHChbV3TKJsYtEwcLGxsQgKCkJQUBAOHjyIR48ewdraGo0bN4abmxtcXV1Rvnx5yGSZuClNeRvY6wCoErUX0Dy3ZjZDXk57YxIRERmCHDqvJicnIzAwEAqFAnv37oWZmRnatWsHLy8vuLq6aq5cIBKARcPAJCYm4uTJk6mzFlevXgUAVKtWLfVyqHr16mX/es0ofyCkt/YC1/YH7H7V3nhERESGJIfPq48ePcLatWuhUCgQGhoKGxsb9OjRA15eXqhYsaL2chBlAouGnpMkCdevX08tFsePH8fr169RokSJ1BmLZs2a4auvvtLeQUN9gKtjvnwcZx/AcdSXj0NERGTI3p5XJXzhordZOK9KkoSLFy9CoVBg/fr1eP78OerWrQsvLy907twZBQoU+JIkRJnCoqGHnj59isOHD6euEHXv3j1YWVmhQYMGqeWicuXKmbscKrui/IEL3oA6JWvXlsosADMLoIYvZzKIiIjeifLHmzP9IJNUsDTPwvO0cF5NTEzErl27oFAoEBQUBCsrK3To0AFeXl5o3LgxzMy42wHpBouGHkhOTsbZs2dTi8W5c+cgSRIcHBxSi0XDhg2RN29aa8fqkPI2ENIXiD2oeaHLqHC8e7xEc6DWUt6TQURE9J5r167hx+ZVcXCqHcrljhR2Xr1//z5Wr16NgIAAREREoEyZMvDw8ICHhwdsbXW89weZHBYNQW7dupV6OdSRI0fw4sULFC5cGM2bN4erqytcXV3x9ddfi46pER8ORC4BYvYBymgA7/+VkWk2DSrZEij/G5ewJSIi+ogkSWjcuDFiY2Nx9epV5HodJfy8KkkSgoODoVAo8M8//+Dly5dwcXGBl5cXOnbsCGtra50cl0wLi0YOefnyJY4ePZo6axEVFQULCwvUrVs39SbuatWqwdw8K/OpAiQrAWUUBvbvCyvrApi1aBt3JiUiIsrAxo0b8csvv+DAgQNwdXX98MG351WokgBzK0Bun+Pn1VevXmHbtm0ICAjAkSNHIJfL0blzZ3h5eaF+/fq6vVSbjBqLho6o1WpcvHgxtVicPn0aKSkpsLW1Td3TonHjxsifP7/oqNny008/ISEhAfv27RMdhYiISG8plUpUrFgRtWvXxrZt20TH+aw7d+5g1apVCAgIwJ07d2Bvbw9PT0/06NED33zzjeh4ZGD0u2joQcvPivv373+wp8XTp0+RL18+NGnSJPVeCzs7O9ExtcLDwwO3bt3Cv//+KzoKERGR3ho5ciTmzZuH69evo2zZsqLjZJparcbx48ehUCiwZcsWJCYmonnz5vDy8sIPP/yA3Llzi45IBkD/ikbq/QCBgPIWPr1u0RYo2Qoo3w8o4CAqJQDg9evX+Pfff3HgwAEcOHAAYWFhkMlkqFGjRmqxqFOnDiwtLYXm1IX+/fvj9OnTuHTpkugoREREeikiIgJOTk4YPXo0xo8fLzpOtr148QKbN2+GQqHAqVOnULBgQfz888/w8vJCzZo1eWkVpUt/ioYBrHAkSRLCwsJSL4c6ceIEEhMTUapUqdT7LJo2bYqiRYvmSB6R/vrrL2zbtg2RkZGioxAREekdSZLQqlUr3LhxA+Hh4ciTJ4/oSFoRERGBgIAArF69Gvfv34eDgwO8vLzg7u6OEiVKiI5HekY/isaX7tlQfSFg30sn0Z48eYKDBw+mXhIVExOD3Llzw8XFJXXWwsHBweTa/OTJk7Fo0SI8ePBAdBQiIiK9s2vXLrRv3x7bt2/HDz/8IDqO1qlUKhw6dAgKhQI7duxASkoKWrVqBS8vL7Ru3Rq5cuUSHZH0gPiioa1dqKtMAZxGf/Ewb968wZkzZ1Ivh7p48SIkSULlypVTi0WDBg1M/trEuXPnYty4cXj58qXoKERERHrl9evXcHR0RIUKFbBv3z6jfzPy+fPn2LBhAxQKBc6fP4+iRYuiW7du8PLygrOzs+h4JJDYohHlD4T01t54tf2zvGumJEmIjo5OvRzqyJEjUCqVKFq0aOp+Fs2bN0fJkiW1l9MILF++HH379kVKSgp3FCUiInrP5MmTMXnyZFy7dg0VK1YUHSdHhYaGQqFQYO3atXj06BG+++47eHl5oWvXrihSpIjoeJTDxBUN5W1grwOgSvz0oURg1h7gbDQQEg08fwUo+gCeLp8Z0zw30Dr8s/dsxMfH48iRI6kb5t2+fRsWFhaoX79+6tKzVatW5S/QGdiwYQO6du0KpVLJTX2IiIjeunv3Lr799lsMHDgQM2bMEB1HmOTkZOzbtw8KhQJ79uyBTCZDu3bt4OXlBTc3N1hYWIiOSDlA3H/lkL6aezLS8OQlMGk7ULoI4FwaOHY9k2OqUzTjNgn64NMqlQrnz59PLRZnzpyBSqVChQoV0Lp1a7i6uqJRo0bIly/fF35TpkMu1ywzzKJBRET0/4YOHYrChQtjzBgtXBZuwCwtLdGuXTu0a9cOjx49wrp166BQKNCmTRvY2Nige/fu8PLywrfffis6KumQmBmN+HBgr2O6Dycla2YxShQEzt8Cao7N5IzGO63D8d8LeWqxOHToEJ4/f44CBQqgadOmqZdElSuXM6tVGaOjR4+iSZMmiIyMhL29veg4REREwh08eBCurq5Yt24dunbtKjqO3pEkCZcuXYJCocC6devw/Plz1KlTB56envj5559RoEAB0RFJy8QUjfMDgcjFmVphKqtFQyXJsOFcQXSf/xxmZmaoVatW6tKztWrV4lSdlpw/fx41a9bEpUuXULVqVdFxiIiIhHrz5g2cnZ1RrFgxHD9+3OhvAP9SSUlJ2LVrFxQKBQ4cOIBcuXKhQ4cO8PLyQpMmTXj5upEQ81t3TGDWlrHNAnOZhOZOKmzevBlNmjRB4cKFdXIcU/f+pVNERESmbuHChYiIiMA///zDkpEJVlZW6NSpEzp16oT79+9j7dq1UCgUWL9+Pb755ht4eHjA09MTdnZ2oqPSF8j5upj88u2O37pTPO9LdGzfgiVDh1g0iIiINB48eIAJEybg999/R5UqVUTHMTilSpXCX3/9hevXr+P06dNo0aIF5s+fD3t7e7i4uCAgIIC/bxionC8aymgAur5aSwKUUTo+hmlj0SAiItL466+/kDt3bkyaNEl0FIMmk8lQt25dLFu2DLGxsVizZg0sLCzg5eWFEiVKoGfPnvj3338hegs4yrycLxqqJOM6jol6t9IUiwYREZmykydPYs2aNZg2bRoKFSokOo7RyJs3L9zd3XH48GHcuXMHw4cPx7Fjx9CwYUOUL18eU6ZMwX///Sc6Jn1GzhcNcyvjOo6JsrS0hJWVFYsGERGZLJVKBW9vb9SsWRM9e/YUHcdolSlTBuPGjUNUVBSOHj2K+vXrY9q0aShTpgxcXV2xYcMGvH79WnRMSkPOFw25PQBd3yQle3sc0iW5XM6iQUREJmvZsmW4fPkyfH19uUpSDjAzM0OjRo2watUqxMbGwt/fH69fv0bXrl1hY2ODfv364ezZs7y0So/k/L8KSzkgt9XtMeR2muOQTrFoEBGRqXry5AlGjx6Nnj17olatWqLjmJx8+fKl3rMRERGB/v37Y8+ePahTpw4cHR0xa9YsxMbGio5p8sTU75KtAFnGK+v6BgFTtgMrj2s+3n1J8/GU7UB8QgZPlFkAJVtqLyulSy6X4+XLl6JjEBER5bgxY8ZArVZj2rRpoqOYvPLly8PHxwd3797F/v374ezsjLFjx+Lrr79G27ZtsXXrVrx580Z0TJOklzuDA0DZQcDdJ2k/dnseULZYBk9uHQ4UqJTteJQ57941WLFihegoREREOebChQuoWbMm5s2bh4EDB4qOQ2l4/vw5Nm7cCIVCgXPnzqFIkSLo1q0bvLy8uNFwDhJTNADgiCvw8KhWN+6TYA5ZiSZAkyCtjUnpa968OQoXLox//vlHdBQiIqIcoVarUb9+fSiVSly6dAkWFmL2PqbMCwsLQ0BAANasWYOHDx+iatWq8PT0RLdu3VC0aFHR8YyauDuXai0FzLT3j1OSgMQ3KqyNaAC1Wq21cSl9vEeDiIhMzZo1a3DmzBn4+vqyZBiId/ds/Pfff9i1axfKlSuHYcOGoWTJkvjpp5+wZ88epKRo741v+n/iioa8HFB9odaGk8mAzbcbovtv49C8eXPcuXNHa2NT2lg0iIjIlMTHx2P48OH4+eef4eLiIjoOZZGlpSXatm2Lbdu2ISYmBjNnzkRUVBTatm2Lb775BsOHD8f169dFxzQqYtdis+8FVJminbGcfdBj4nEEBQUhMjISlStXxtKlS7nEmQ6xaBARkSmZOHEiXr16hVmzZomOQl+oWLFiGDx4MC5fvoyLFy+iU6dOWLFiBRwcHFC7dm0sWbIEcXFxomMaPPGLPjuNBmotB8xzf3Ylqk/ILDTPq+0POI4CoLlvIDQ0FD///DP69esHV1dX3L17VwfBiUWDiIhMRVhYGBYsWIAxY8bg66+/Fh2HtEQmk+G7777DggULEBMTg82bN6No0aLo378/bGxs0LVrVxw8eBAqlUp0VIMkvmgAmpmN1uFA8caajz9XON49Xryx5nl2v37wcP78+bF8+XLs378fN27cQOXKlbFs2TLObmgZiwYREZkCSZIwcOBA2NraYsiQIaLjkI5YWVmhY8eO2Lt3L+7du4eJEyfi0qVLcHV1Rbly5TBmzBhERUWJjmlQ9KNoAJp7NpoEAa3DgPK/pbOD+Nsdv8v/pikYTYI0z0uHm5sbQkND0blzZ/Tt2xdubm743//+p9Nvw5SwaBARkSnYsmULjhw5gvnz58PKykp0HMoBNjY2GD58OMLDwxEcHIyWLVti4cKFKF++PBo2bAiFQsHfgTJB3PK2mZGsBJRRgCoJMLfSlIxs7vi9b98+9O7dGy9evMCcOXPw66+/Qib7uMhQVixduhS///47UlJS+LMkIiKj9OrVK3z77beoVq0adu7cKToOCZSQkIDt27cjICAAhw8fRt68edGpUyd4enqiYcOGOfu7kBZ/R9Yl/S4aWhYXF4c//vgDCoUCbm5uWL58Ob755hvRsQzWunXr4O7ujlevXiFv3ryi4xAREWndmDFjMHv2bISHh8PW1lZ0HNITd+/exerVqxEQEIBbt27B1tYWnp6e8PDwQOnSpXVz0PhwIHIJEBMIKG8BeP9XeBkgtwVKtgLK9wMKOOgmQxaZVNF4JzAwEL1794ZSqcScOXPQs2dPviOfDTt37sQPP/yAhw8f4quvvhIdh4iISKuioqLg6OiIv/76C5MmTRIdh/SQWq3Gv//+i4CAAGzevBkJCQlo2rQpPD090aFDB+TJk+fLD6K8DYT0BWIPau5Tzmiz63ePl2iu2bMug1sMcoL+3KORg1q1aoXQ0FD8+OOP6NWrF1q1aoV79+6JjmVw8uXLBwC8RpGIiIzSkCFDUKJECYwYMUJ0FNJTZmZmcHFxgUKhwIMHD7BixQokJSXB3d0dJUqUQN++fXHmzJnsL0gU5Q/sdQAeHtV8nFHJeP/xh0c1z4vyz95xtcQkiwYAFCpUCAEBAdizZw+uXLkCJycnKBQKrkyVBXK55lpAFg0iIjI2e/bswZ49ezBnzhxeHkyZki9fPnh5eeHEiROIjIyEt7c3AgMDUbduXTg4OGDmzJl48OBB5gcM9QFCegOqxM8XjI9JKZrnhfTWjCOISV469bHnz59j8ODBWL16NVq1aoVly5ahVKlSomPpvfDwcDg6OuLUqVOoV6+e6DhERERakZiYCCcnJ5QrVw5BQUG8vJqyTaVS4ciRI1AoFNi2bRuSk5PRokULeHl5oW3btumvYhblrykJ2lLb/5PtIHKCyc5ovK9QoUJYtWoVdu3ahYsXL8LR0RGrVq3i7MZncEaDiIiM0Zw5c3D37l0sWLCAJYO+iLm5OZo3b47169cjNjYWfn5+ePLkCTp16oSSJUti4MCBuHTp0odPUt4GLninO6YyERi/BWgxAyjcB5B1AwKOfybI+QGacXMYi8Z72rZti7CwMLRt2xaenp5o27YtYmJiRMfSWywaRERkbP777z/4+Phg0KBBqFSpkug4ZEQKFiyIfv364ezZswgLC0PPnj2xadMmVKtWDVWrVsW8efPw+PFjzY3f6vQvlXryEpi0Hbh+H3DO7AJX6hTNuDmMReMjhQsXxpo1a7Bjxw6cP38ejo6OWLNmDWc30sCiQURExmbYsGHInz8/xo0bJzoKGTEHBwfMmjUL9+7dw+7du2FnZ4fhw4ejWc2SmtWlMrgnw6Yg8MAPuLsAmNU1kweUUjTjxl/XSv7MYtFIR/v27REWFoZWrVqhR48eaN++fdZu4DEBuXLlgqWlJV6+fCk6ChER0Rc7cuQINm3ahJkzZyJ//vyi45AJsLCwQJs2bbB161bExMRg1Zi6SFFn/BwrS6BEwWwcTGYBRC7OTsxsY9HIQJEiRbBu3Tps374dZ8+ehaOjI9auXcvZjffI5XLOaBARkcFLTk6Gt7c36tevD3d3d9FxyAQVLVoUVb+KgYWufjuXUoCYfToaPG0sGpnwww8/IDw8HC1atED37t3x448/IjY2VnQsvcCiQURExsDPzw83btyAr68vbwAnMZJfvt3xW4eU0UByzv3exqKRSUWKFMH69euxdetWnD59Go6Ojli/fr3Jz26waBARkaF7+PAhxo8fj759+6Jq1aqi45CpUkYD0PXvlRKgjNLxMf4fi0YWdejQAeHh4WjevDm6deuGDh064OHDh6JjCZMvXz4WDSIiMmgjRoyApaUlpkyZIjoKmTJVknEdBywa2VK0aFFs3LgRmzdvxqlTp+Do6IiNGzea5OwGZzSIiMiQBQcHIyAgAD4+PihcuLDoOGTKzNPZvM9QjwMWjS/SsWNHhIWFoUmTJvjll1/QsWNHPHr0SHSsHMWiQUREhkqlUmHAgAGoVq0aevXqJToOmTq5PQBd3x8ke3ucnMGi8YWKFSuGTZs2YdOmTThx4gQcHBywadMm0bFyDIsGEREZqhUrVuDixYvw9fWFubm56Dhk6izlgNxWt8eQ22mOk0NYNLSkU6dOCAsLQ6NGjdClSxd06tTJJGY3WDSIiMgQPXv2DKNGjYKHhwfq1q0rOg6RRslWmv0uPsM3CJiyHVh5XPPx7kuaj6dsB+IT0nmSzAIo2VJ7WTNBJpnijQU6JEkSNm3ahP79+0Mmk2HRokXo1KmT6Fg6M3ToUOzduxc3btwQHYWIiCjT+vfvj7Vr1+LmzZsoUaKE6DhEGvHhwF7Hz35Z2UHA3SdpP3Z7HlC2WDpPbB0OFKiU7XhZ9fnKRFkik8nQpUsXNGrUCL///js6d+6Mzp07w9fXF8WKpfdf3XBxRoOIiAzNpUuXsGTJEsyePZslg/RLAQegRHPg4VHNBnvpuDM/i+PKLIDijXO0ZAC8dEpnihcvji1btmDDhg04dOgQHB0dsXXrVtGxtI5Fg4iIDIkkSfD29sa3336LAQMGiI5D9KlaSwEzLc8FmFloxs1hLBo6JJPJ8PPPPyMsLAz169dHx44d8fPPP+PJk3TmugzQu6LBK/CIiMgQrFu3DqdOncLChQthaWkpOg7Rp+TlgOoLtTtmDV/NuDmMRSMHlChRAtu2bcO6desQFBQER0dHbN++XXQsrZDL5VCpVEhKyrnNX4iIiLLjxYsX+PPPP9GpUyc0adJEdByi9Nn3AqpoaQNJZx/A7lftjJVFLBo5RCaToWvXrggPD0fdunXRoUMHdO3aFU+fPhUd7Yvky5cPAHj5FBER6b3JkyfjxYsXmD17tugoRJ/nNBqotRySWW6kqLL4XJkFYJ4bqO0POI7SSbzMYNHIYSVKlMD27duxZs0a7N+/H46OjtixY4foWNkml2vWYmbRICIifXb9+nXMmzcPo0aNQunSpUXHIcoc+17Y8GIMjoS//fhzS9++e7x4Y80KU4JmMt5h0RBAJpPB3d0dYWFhqFWrFn788Ud069bNIGc3WDSIiEjfSZKEgQMHokyZMhg6dKjoOESZlpCQgGET/LD6v25A6zCg/G/p7CD+dsfv8r9pCkaTICH3ZHyMy9sKZGNjg507d2LNmjUYNGgQjhw5gqVLl6Jdu3aio2UaiwYREem77du349ChQ9izZw9y584tOg5Rpi1YsABPnjzB5MmTgQLlgBoLNA8kKwFlFKBKAsytNCUjB3f8zizOaAgmk8nQo0cPhIWFoXr16mjfvj26d++OZ8+eiY6WKe+KxsuXLwUnISIi+lRCQgKGDBmC1q1bo3Xr1qLjEGXas2fPMH36dPTr1w/lyn00O2EpBwpVBYrW1vy/HpYMgEVDb5QsWRK7d++GQqHA7t274eTkhN27d4uO9Vmc0SAiIn02Y8YMxMbGYt68eaKjEGXJ9OnToVKpMGbMGNFRso1FQ4/IZDJ4enoiLCwMVatWRbt27eDh4YHnz5+LjpYuFg0iItJXt27dwowZMzBs2DDY29uLjkOUaffu3cPChQsxdOhQfPXVV6LjZBuLhh4qVaoU9u7di5UrV2LHjh1wcnLC3r17RcdKk5WVFczNzVk0iIhI7wwZMgTFihXDqFHilvckyo4JEyYgX758Br94AYuGnpLJZPDy8kJYWBiqVKmCNm3awMvLC3FxcaKjfUAmk6XuDk5ERKQv9u3bh127dmHOnDmwtrYWHYco065fvw6FQoExY8ak7ldmqFg09NzXX3+NwMBA+Pv7Y9u2bXBycsK+fftEx/oAiwYREemTpKQkDBo0CI0bN0bHjh1FxyHKktGjR6N06dLo27ev6ChfjEXDAMhkMvz6668IDQ2Fo6MjWrVqhZ49eyI+Pl50NACa3cFZNIiISF/MmzcPt27dwsKFCyGTfbzfAJH+OnPmDLZv345JkybByspKdJwvxqJhQL755hvs378fy5cvx5YtW+Dk5IQDBw6IjsUZDSIi0hv37t3D5MmT4e3tDUdHR9FxiDJNkiSMGDEClStXRteuXUXH0QoWDQMjk8nQq1cvhIaG4ttvv0WLFi3Qq1cvobMbLBpERKQv/vzzT1hbW2PChAmioxBlyf79+3H8+HFMmzYN5ubmouNoBYuGgSpdujSCgoKwdOlS/PPPP3ByckJQUJCQLCwaRESkD44fP46NGzdi5syZKFCggOg4RJmmVqsxcuRINGjQAK1atRIdR2tYNAyYTCZDnz59EBoaiooVK8LNzQ19+vTBixcvcjSHXC7nzuBERCRUSkoKvL29UadOHXTv3l10HKIs2bBhA65cuYIZM2YY1X1FLBpGoEyZMjh48CAWL16MDRs2oHLlyjh48GCOHZ8zGkREJNrixYsRGhoKX19fmJnx1xsyHG/evMHYsWPRvn171K1bV3QcreK/RCMhk8nQr18/XLt2Dfb29nB1dUXfvn1zZKaBRYOIiER69OgRxo4di969e6N69eqi4xBlybJly3D37l1MnTpVdBStY9EwMmXLlsXBgwfh5+eHdevWwcnJCYcOHdLpMVk0iIhIpJEjR8LMzAw+Pj6ioxBliVKpxOTJk+Hh4QEHBwfRcbSORcMImZmZ4ffff8e1a9dga2uL5s2b47ffftPZ7AaLBhERiRISEoKVK1fCx8cHRYsWFR2HKEvmzJmD+Ph4TJw4UXQUnWDRMGLlypXD4cOH4evri9WrV6NKlSo4cuSI1o/DokFERCKo1WoMGDAAVatWRZ8+fUTHIcqSx48fY9asWRgwYAC++eYb0XF0gkXDyJmZmaF///64du0aypQpg6ZNm6J///5aLQb58uVDcnIy3rx5o7UxiYiIPkehUODcuXPw9fU1mn0HyHT4+PjAzMwMI0eOFB1FZ1g0TIStrS2OHDmCBQsWICAgAFWqVMGxY8e0MrZcLgcAzmoQEVGOef78OUaMGAF3d3fUr19fdByiLLlz5w4WL16M4cOHo0iRIqLj6AyLhgkxMzODt7c3rl69iq+//hqNGzeGt7c3Xr169UXjsmgQEVFOGzduHBITEzFz5kzRUYiybNy4cShcuDAGDx4sOopOsWiYIDs7Oxw7dgzz58/HihUrUKVKFRw/fjzb4+XPawbnMkBK7Cng+WUgmYWDiIh05+rVq1i0aBEmTJgAGxsb0XGIsuTq1atYu3Ytxo0bB2tra9FxdEomSZIkOgSJExkZiZ49e+LkyZPw9vbGtGnTMveXPj4ciFwCxARCUt6CDO//NZIBclugZCugfD+ggPEt10ZERGJIkgQXFxc8fvwYV65cQa5cuURHIsqSNm3a4ObNmwgPD4elpaXoODrFokFQqVRYuHAhRo0ahZIlS0KhUKBBgwZpf7HyNhDSF4g9CMgsACkl/YHfPV6iOVBrKSAvp5tvgIiITMaGDRvQtWtXBAUFoXnz5qLjEGXJv//+i4YNG2Ljxo3o0qWL6Dg6x6JBqSIjI+Hl5YXTp09j4MCBmDp1KvLmzfv/XxDlD1zwBtQpGReMj8ksADMLoPpCwL6X9oMTEZFJePnyJb799lvUqVMHW7duFR2HKEskSUL9+vWRlJSEc+fOwczM+O9gMP7vkDKtfPnyOH78OGbPno2lS5fC2dkZJ0+e1DwY6gOE9AZUiVkrGYDm61WJmueHctdWIiLKnilTpuDZs2eYM2eO6ChEWbZr1y4EBwdj+vTpJlEyAM5oUDpu3rwJLy8vnDlzBusnN8XP5Q6l+XXKRGDWHuBsNBASDTx/BSj6AJ4uGQxe2x+w+1U3wYmIyCjdvHkTlStXxtixYzF27FjRcYiyRKVSoUqVKrCxscGhQ2n/TmWMWDQoXSqVCisXjIV7oWnIbQnIZJ9+zZ3HQLnBQOkigO1XwLHrmSga5rmB1uG8Z4OIiDJFkiS0bNkSERERCA8PR+7cuUVHIsqSgIAAeHl54dy5c6hRo4boODnGNOZtKFvMzc3R2/k8cucyT7NkAIBNQeCBH3B3ATCrayYHVqdobignIiLKhF27duHAgQOYN28eSwYZnMTERIwbNw6dOnUyqZIBsGhQRuLDgdiDkEGV7pdYWQIlCmZxXClFs2pV/PUvikdERMbv9evXGDx4MFq0aIG2bduKjkOUZYsWLUJMTAymTJkiOkqOY9Gg9EUu0awYpQsyCyBysW7GJiIiozFz5kzcv38f8+fPhyy96XUiPRUfHw8fHx/8+uuvqFChgug4OY5Fg9IXE5j1FaYyS0oBYvbpZmwiIjIKd+7cwfTp0zF06FCT/CWNDN+sWbPw+vVrjB8/XnQUIVg0KG3JLwHlLd0eQxkNJCt1ewwiIjJYf/zxB4oUKYLRo0eLjkKUZQ8ePMDcuXMxaNAglCxZUnQcIXR0XQwZPGU0AF0vSCYByiigUFUdH4eIiAxNUFAQtm/fjg0bNkAul4uOQ5RlkydPhpWVFf766y/RUYThjAalTZVkXMchIiKD8ebNGwwcOBAuLi7o0qWL6DhEWRYVFYXly5dj5MiRKFiwoOg4wnBGg9JmbmVcxyEiIoOxYMECREVFYdOmTbwBnAzSmDFjUKJECQwYMEB0FKFYNChtcnsAMuj28inZ2+MQERFpxMTEYOLEifj9999RpUoV0XGIsuzChQv4559/4O/vjzx58oiOIxR3Bqf07bJ/e69GxnyDgLhXQEwcsPgQ0KEm8F0ZzWPebkCBvOk8UW4PtIvUWlwiIjJ87u7uCAoKQkREhElfckKGy9XVFf/99x+uXbsGCwvTfk/ftL97yljJVpq9Lj6zxO3svcDdJ///8bZzmv8BgPv36RQNmQVQsqX2shIRkcH7999/sW7dOqxYsYIlgwzS4cOHcfDgQWzbts3kSwbAGQ3KSHw4sNdRd+O3DgcKVNLd+EREZDBUKhWqV68OKysrBAcHw8yM69WQYZEkCbVq1YKFhQVOnz7N+4vAGQ3KSAEHoERz4OFR7W7cJ7MAijdmySAiolRLly7F1atXcfbsWZYMMkhbt27F+fPncezYMZaMtzijQRlT3gb2OgCqRO2NaZ5bM5shL6e9MYmIyGA9fvwYFSpUwE8//QR/f3/RcYiyLCUlBY6OjrC1tcW+fftEx9EbfMuAMiYvB1RfqN0xa/iyZBARUap3O39PmzZNcBKi7Fm5ciUiIiL4d/gjnNGgzAn1Aa6OyfbTJWgWy4WzD+A4SlupiIjIwJ0/fx61atXCggULTH7PATJMCQkJsLe3R+PGjbFu3TrRcfQKiwZlXpQ/cMEbUKdk6Z6NFLUMKSoJUvWFyOPEkwgREWmo1WrUq1cPCQkJuHjxIlfpIYM0ffp0jBs3Djdu3ICtra3oOHqFl05R5tn30txbUbyx5mPZZ04Ibx9PLvQ9aozPiz/8wnQckIiIDMnq1atx9uxZ+Pr6smSQQXr27BmmT5+Ovn37smSkgTMalD3x4UDkEiBm39tN/d7/ayQD5HaafTLK/wYUqAQ/Pz8MGDAAR48eRaNGjQSFJiIifREXF4eKFSuiadOmWL9+veg4RNkyfPhwLFq0CNHR0ShevLjoOHqHRYO+XLISUEYBqiTA3Eqz47el/IMvUavVaNSoEWJiYnD16lXkzZveduFERGQKBg8eDH9/f9y8eROlSpUSHYcoy+7du4fy5ctj+PDhmDhxoug4eolFg3JMREQEnJ2d0b9/f8yePVt0HCIiEiQ0NBRVq1bF1KlTMXz4cNFxiLKlV69e2LlzJ6Kjo5E/f37RcfQSiwblqJkzZ2LkyJEIDg5GrVq1RMchIqIcJkkSmjRpgpiYGFy7dg25cuUSHYkoy65fvw4nJyfMmTMHgwYNEh1Hb7FoUI5KSUlBnTp1kJiYiAsXLsDKykp0JCIiykGbNm1Cly5dsH//fri5uYmOQ5QtHTp0wKVLl3Djxg3+LpMBrjpFOcrCwgIrV67EzZs3MXXqVNFxiIgoBymVSgwdOhTt27dnySCDdebMGWzfvh2TJk1iyfgMzmiQEOPHj8fUqVNx4cIFVKlSRXQcIiLKAaNGjcKcOXNw/fp1lCtXTnQcoiyTJAmNGzfG06dPcfnyZZibm4uOpNdYNEiIN2/eoFq1asidOzfOnDnD9dOJiAzdZ1YgjIyMhJOTE0aOHIkJEyaIy0n0Bfbv34+WLVti9+7daNOmjeg4eo9Fg4QJCQlB3bp1MW3aNK46QkRkiFL3VAoElLfw6Z5KtkDJVkD5fmjd9U+EhYXh+vXryJMnj6jERNmmVqtRrVo15MuXDydOnIBMJhMdSe+xaJBQQ4cOxaJFi3DlyhVUqFBBdBwiIsoM5W0gpC8QexCQWQBSSvpf+/bxoKuAVHMx3H7ql3M5ibRo/fr16NatG06dOoV69eqJjmMQWDRIqISEBFSpUgU2NjY4fvw4zMy4PgERkV6L8gcueAPqlIwLxkdS1DKYW1pBVn0hYN9LhwGJtO/NmzeoVKkSnJycsHPnTtFxDAZ/qyOh8ubNC39/f5w8eRKLFy8WHYeIiDIS6gOE9AZUiVkqGQBgYSZBpkrUPD/UR0cBiXRj2bJluHPnDlfMzCLOaJBe6NevH9atW4fQ0FCUKVNGdBwiIvpYlL+mJKRBmQjM2gOcjQZCooHnrwBFH8DTJYPxavsDdr/qJiuRFimVStjZ2aFVq1ZQKBSi4xgUzmiQXpg5cyYKFiyIvn37gt2XiEjPKG9rLpdKx5OXwKTtwPX7gHPpTI55foBmXCI9N2fOHMTHx2PixImioxgcFg3SC/nz58fSpUtx4MABrF69WnQcIiJ6X0hfzT0Z6bApCDzwA+4uAGZ1zeSY6hTNuER67PHjx5g1axb69++P0qUz26LpHRYN0hutWrWCu7s7hgwZgtjYWNFxiIgI0CxhG3sww3syrCyBEgWzOK6Uohk3/voXxSPSJR8fH5iZmWHUqFGioxgkFg3SK/PmzYOlpSX69+8vOgoREQGafTJkOtpUVWYBRHIhENJPd+7cweLFizF8+HAUKVJEdByDxKJBeqVIkSLw9fXFtm3bsGXLFtFxiIgoJjDLK0xlmpQCxOzTzdhEX2jcuHEoVKgQBg8eLDqKwWLRIL3TsWNH/Pjjj+jfvz+ePn0qOg4RkelKfvl2x28dUkYDyUrdHoMoi65du4a1a9di3LhxsLa2Fh3HYLFokN6RyWTw8/PDmzdvMGTIENFxiIhMlzIagK5XApQAZZSOj0GUNaNGjYKtrS169057SWfKHBYN0ks2NjaYO3cu1qxZg8DAQNFxiIhMkyrJuI5DlAknT57Enj17MGXKFFhaWoqOY9BYNEhveXh4wM3NDX379sWLFy9ExyEiMj3mVsZ1HKLPkCQJf/31F7777jt07txZdByDx6JBeksmk2Hp0qWIi4vDX3/9JToOEZHpkdsDkOn4ILK3xyESb/fu3Th9+jSmT58OMzP+mvylZBK3YSY95+fnhwEDBuDo0aNo1KiR6DhERKZll/3bezUy5hsExL0CYuKAxYeADjWB78poHvN2AwrkTft5T5IK4Wm9YFSsWFF7mYmyQaVSwdnZGcWLF8ehQ4cgk+m6ZBs/Fg3Se2q1Go0aNUJMTAyuXr2KvHnTOVsREZH2nR+o2eviM0vclh0E3H2S9mO35wFli336eZUkg/9xS/Rb/gZ169aFp6cnunTpggIFCnx5bqIsCggIgJeXF0JCQlCzZk3RcYwCiwYZhIiICDg7O6N///6YPXu26DhERKYjPhzY66iz4ZOaXcLOYxEICAjAgQMHkCtXLvz444/w8vJCkyZNYG5urrNjE72TmJiIChUqoHbt2ti8ebPoOEaDF5+RQahQoQImTpyIuXPnIiQkRHQcIiLTUcABKNFc+7uDyyyAEs1h9VVVdO7cGYGBgfjvv/8wceJEXLp0Ca6urihbtixGjx6NiIgI7R6b6COLFi1CTEwMfHx8REcxKpzRIIORkpKCOnXqIDExERcuXICVFVcpISLKEcrbwF4HQJWovTHNcwOtwwF5uU8ekiQJISEhCAgIwIYNGxAfH4969erB09MTnTt35qVVpFXx8fGwtbVFx44dsXTpUtFxjApnNMhgWFhYYMWKFbh58yamTp0qOg4RkemQlwOqL9TumDV80ywZgGbVwdq1a2Px4sWIjY3Fxo0bkT9/fvTr1w82NjZwd3fHoUOHoFartZuJTNKsWbOQkJCAcePGiY5idDijQQZn3LhxmDZtGi5cuIAqVaqIjkNEZDpCfYCrY758HGcfwHFUlp92//59rFmzBgEBAbh58ya++eYbeHh4wMPDA/b2XCKXsu7Bgwewt7eHt7c3pk+fLjqO0WHRIIOTlJSEatWqIW/evAgODoaFhZavGyYiovRF+UN9bgBUKUmwzMp92jILwMxCM5Nh9+sXRZAkCWfPnoVCocDGjRvx4sULfP/99/D09ESnTp2QP3/+LxqfTMfvv/+ODRs24NatWyhUqJDoOEaHl06RwbGyssLKlStx8eJFzJ07V3QcIiLTYt8Lw462xKmoXJqPP3eT+LvHizfW3JPxhSUD0FxaVadOHSxduhSxsbFYv3498ubNi969e6NEiRLo3r07jhw5wkurKENRUVFYvnw5Ro4cyZKhI5zRIIM1dOhQLFq0CFeuXEGFChVExyEiMglXr15F1apV4efnh9+6ugCRS4CYfW839Xv/VwoZILcDSrYEyv8GFKik82z37t3DmjVroFAoEBkZidKlS6deWmVnZ6fz45Nh+eWXX/Dvv/8iMjISefLkER3HKLFokMFKSEhAlSpVULJkSRw7dgxmZpygIyLStdatWyMiIgLh4eGwtLT8/weSlYAyClAlAeZWgNwesJQLyShJEoKDgxEQEICNGzfi5cuXaNiwITw9PdGxY0fky5dPSC7SHxcvXkT16tWxfPly9OrVS3Qco8WiQQbt2LFjaNy4Mfz8/PD777+LjkNEZNROnDgBFxcXbNy4EV26dBEdJ1MSEhKwY8cOBAQE4NChQ8iTJw86duwIT09PuLi48E0qE+Xm5ob//e9/uHbtGu/11CEWDTJ4/fr1w7p16xAaGooyZcqIjkNEZJQkSUK9evXw5s0bnDt3ziB/Qf/f//6XumpVVFQUypYtCw8PD/To0QO2trai41EOOXLkCJo2bYqtW7eiQ4cOouMYNRYNMngvXryAo6MjHB0dsW/fPshkMtGRiIiMzo4dO/Djjz8iKCgIzZs3Fx3ni0iShNOnT0OhUGDTpk14+fIlXFxcUi+tksvFXPJFuidJEmrXrg0zMzMEBwfzdwYdY9EgoxAYGIjWrVsjICAAHh4eouMQERmVlJSU1HviDh06JDqOVr169Qrbt29HQEAADh8+DGtra3Tq1Amenp5o0KCBQc7cUPq2bNmCTp064ejRo2jUqJHoOEaPRYOMRvfu3bF3716Eh4ejRIkSouMQERmNlStX4tdff8W5c+dQo0YN0XF05u7du1i9ejUCAgJw69YtlCtXLvXSqnLl0t7FnAxHSkoKHB0dYWtri3379omOYxJYNMhoPH36FA4ODvj++++xdetW0XGIiIzC69evUaFCBdStWxebNm0SHSdHSJKEkydPIiAgAJs2bYJSqUTjxo3h6emJn376CdbW1qIjUjYsW7YMffv2xcWLF/Hdd9+JjmMSWDTIqGzevBmdO3fG5s2b0bFjR9FxiIgM3uzZszFixAiEh4eb5J5Fr169wtatWxEQEICjR49CLpd/cGkVr/E3DAkJCbC3t0ejRo2wfv160XFMBosGGRVJkvDTTz/h1KlTCA8PR5EiRURHIiIyWHFxcbC1tUXnzp2xZMkS0XGEu3PnTuqlVbdv34atrS08PT3Ro0cPrnqo56ZPn46xY8fixo0b3LwxB7FokNF58OABHBwc0LZtW6xevVp0HCIigzVq1CjMmzcPUVFRKFmypOg4ekOtVuPff/9FQEAANm/ejFevXqFJkybw9PREhw4deGmVnnn27BlsbW3h7u4OX19f0XFMCpdSIKNjY2ODuXPnYs2aNQgMDBQdh4jIIMXExGDevHkYPHgwS8ZHzMzM4OLiAoVCgdjYWAQEBECtVqNHjx6wsbFBr169cPLkSfC9XP0wY8YMpKSkYOzYsaKjmBzOaJBRkiQJLVq0wPXr1xEaGor8+fOLjkREZFD69euHTZs24datWyhYsKDoOAbh1q1bWL16NVatWoU7d+7A3t4+ddWq0qVLi45nku7du4fy5cvjzz//xKRJk0THMTksGmS07ty5AycnJ/To0QOLFi0SHYeIyGBERETAwcEB06dPx7Bhw0THMThqtRonTpyAQqHAli1b8Pr1azRt2hSenp748ccfkTdvXtERTUbv3r2xY8cOREdH801HAVg0yKj5+vrC29sbx44dg4uLi+g4REQGoXPnzggODkZkZCRy584tOo5Be/nyJbZs2YKAgACcOHEC+fLlQ5cuXeDp6Yl69epx1SodunHjBhwdHfH3339j8ODBouOYJBYNMmpqtRouLi6IjY3FlStX+C4SEdFnnD9/HjVr1sSKFSvQs2dP0XGMSnR0dOqlVXfv3kX58uXh6emJ7t2745tvvhEdz+j89NNPuHDhAm7evAkrKyvRcUwSiwYZvZs3b8LZ2Rne3t6YNWuW6DhERHqtWbNmiImJwdWrV2FhYSE6jlFSq9U4duwYAgICsGXLFiQmJqJZs2bw8vLCDz/8gDx58oiOaPDOnj2LOnXqYNWqVejRo4foOCaLRYNMwowZMzBq1CicOXMGNWvWFB2HiEgvHTx4EK6urti+fTt++OEH0XFMwosXL7BlyxYoFAqcPHkS+fPnx88//wxPT0/UqVOHl1ZlgyRJaNKkCZ48eYLLly/D3NxcdCSTxaJBJiElJQV16tRBUlISLly4gFy5comORESkV9RqNWrWrAkrKyucOnWKv+AKEBUVhVWrVmHVqlX477//UKFChdQNAUuVKiU6nsHYv38/WrZsiV27dqFt27ai45g0Fg0yGVeuXEGNGjUwevRoTJgwQXQcIiK98s8//+Dnn3/G8ePH0bBhQ9FxTJparcbRo0ehUCiwbds2JCUloXnz5vD09ET79u15aVUG1Go1qlWrBrlcjn///ZeFWTAWDTIp48aNw7Rp03Dx4kVUrlxZdBwiIr2QnJwMBwcHVKhQAXv37hUdh94THx+PzZs3IyAgAKdOnUKBAgXwyy+/wNPTE7Vq1eIv0h9Zv349unXrhpMnT6J+/fqi45g8Fg0yKUlJSahWrRry5s2L4OBg3uhIRARg8eLF6N+/Py5fvowqVaqIjkPpiIiIwKpVq7B69Wrcu3cP3377beqqVdy9HXjz5g0qVaoER0dH7Nq1S3QcAosGmaCzZ8+iXr16mD59Ov7880/RcYiIhHr16hXs7e3RrFkzrFmzRnQcygSVSoUjR44gICAA27Ztw5s3b+Dq6govLy+0a9fOZPc+8fX1xcCBA3H16lU4OTmJjkNg0SATNXToUCxatAhXrlxBhQoVRMchIhLGx8cHEydOxM2bN1GuXDnRcSiL4uPjsWnTJigUCgQHB6NgwYKpl1bVrFnTZC6tUiqVsLOzQ8uWLREQECA6Dr3FokEmKSEhAVWqVEHJkiVx7NgxmJmZiY5ERJTjnj59CltbW3h6emL+/Pmi49AXunnzZuqlVffv34eDgwM8PT3h7u4OGxsb0fF0avLkyZgyZQoiIiJQpkwZ0XHoLRYNMlnHjh1D48aN4efnh99//110HCKiHDd06FAsX74c0dHRKFasmOg4pCUqlQqHDh1CQEAAtm/fjuTkZLRo0QKenp5o166d0e2S/fjxY9jZ2aFXr16YM2eO6Dj0HhYNMmn9+vXDunXrEBoayndAiMik/O9//0P58uUxevRojBs3TnQc0pG4uDj8888/CAgIwJkzZ1CoUCF07doVnp6eqF69ulFcWjVkyBCsXLkS0dHRKFq0qOg49B4WDTJpL168gKOjI5ycnBAYGGgUL7hERJnh5eWFwMBAREdHQy6Xi45DOeDGjRsICAjA6tWr8eDBAzg6OqZeWlWiRAnR8bLl7t27qFChAsaOHYsxY8aIjkMfYdEgkxcYGIjWrVtj1apV6NGjh+g4REQ6FxYWhipVqmD+/PkYMGCA6DiUw1JSUlIvrdqxYwdSUlLQsmVLeHp6ok2bNgZ1aZWHhwcOHDiAqKgoFmY9xKJBBKB79+7Yu3cvwsPDDfZdHSKizGrfvj1CQ0Nx/fp15MqVS3QcEuj58+fYuHEjAgICEBISgsKFC6Nr167w8vLCd999p9cz/deuXYOzszMWLlyI/v37i45DaWDRIALw5MkTODg4oGHDhtiyZYvoOEREOnPy5Ek0aNAA69atQ9euXUXHIT0SHh6eumpVbGwsKleuDE9PT3Tr1g3FixcXHe8Tbdu2RXh4OAuzHmPRIHpr06ZN6NKlC7Zs2YKffvpJdBwiIq2TJAkNGjTAq1evcOHCBS7tTWlKSUlBUFAQAgICsHPnTqhUKrRq1QpeXl5o3bp1zv1Sn6wElFGAKgkwtwLk9oCl5vKod4V5/fr1+OWXX3ImD2UZiwbRW5IkoUOHDggODkZ4eDgKFy4sOhIRkVbt3r0b7dq1w759+9CiRQvRccgAPHv2DBs3boRCocD58+dRpEgRdOvWDZ6envjuu++0f8D4cCByCRATCChvAXj/11QZILeFVLIl3CecxPUYGc6fP8/CrMdYNIje8+DBAzg4OKBdu3ZYtWqV6DhERFqjUqng7OyMYsWK4ciRI3p97T3pp9DQUKxatQpr1qzBw4cP4ezsDE9PT3Tt2hVfffXVlw2uvA2E9AViDwIyC0BKSfdL1TCDGdR4YlkNRVtuAeTc0V5fsWgQfUShUKBnz54IDAxEy5YtRcchItKKVatWwdPTE2fOnEHt2rVFxyEDlpKSggMHDqReWiVJElq3bg1PT0+0atUq65dWRfkDF7wBdUqGBeNjkswCMjMLoPpCwL5XFr8LygksGkQfkSQJLVq0wPXr1xEaGor8+fOLjkRE9EUSExNRsWJF1KhRA1u3bhUdh4zI06dPsWHDBgQEBODChQsoWrQo3N3d4enpCWdn588PEOoDXNXC/hdVpgBOo798HNIqFg2iNNy5cwdOTk7o0aMHFi1aJDoOEdEXmTt3LoYNG4awsDB8++23ouOQkbp27RoCAgKwdu1aPHr0CFWrVk29tKpYsWKfPiHKHwjpneZYykRg1h7gbDQQEg08fwUo+gCeLhkEqO0P2P2qnW+GtIJFgygdvr6+8Pb2xrFjx+DiktErGxGR/oqPj4ednR1+/PFHLF++XHQcMgHJycnYv38/AgICsHv3bgBAmzZt4OnpiZYtW8LS0lJzT8ZeB0CVmOYYdx4D5QYDpYsAtl8Bx65nomiY5wZah/OeDT3CokGUDrVaDRcXF8TGxuLKlSvImzev6EhERFk2duxYzJ49G1FRUShVqpToOGRinjx5gg0bNkChUODSpUsoVqwY3N3dMdElGPkSzqd7T0ZSsmYWo0RB4PwtoObYTBQNmQVQvDHQJEgn3wtlHdcDI0qHmZkZ/P398d9//2H8+PGi4xARZVlsbCzmzJmDgQMHsmSQEEWLFoW3tzcuXryIy5cvw93dHSEHA5Dv1ZkMb/y2stSUjCyRUjSrVsVf/6LMpD0sGkQZqFixIiZOnIg5c+bg3LlzouMQEWXJ5MmTkStXLowYMUJ0FCI4Oztjzpw5OL6iK9S6+hVUZgFELtbN2JRlLBpEnzF06FB899136NmzJ968eSM6DhFRpkRFRWHZsmUYMWIEChUqJDoOUSrz2P0wg1o3g0spQMw+3YxNWcaiQfQZFhYWWLFiBW7cuIGpU6eKjkNElCljx47FV199BW9vb9FRiP5f8su3O37rkDIaSFbq9hiUKSwaRJng7OyMkSNHYurUqbh27ZroOEREGbp48SI2btyICRMmcCEL0i/KaAC6XodIApRROj4GZQaLBlEmjR49GuXLl8evv/6KlJTM71xKRJTTRo4ciYoVK8LLy0t0FKIPqZKM6ziUIRYNokyysrLCypUrceHCBcybN090HCKiNB05cgRBQUHw8fGBhYWF6DhEHzK3Mq7jUIZYNIiyoHbt2hg8eDDGjh2LyMhI0XGIiD4gSRJGjBiBWrVqoUOHDqLjEH1Kbg9ApuODyN4eh0Tjhn1EWZSQkIDKlSvj66+/xtGjR2Fmxr5ORPphy5Yt6NSpE44cOYLGjRuLjkOUtl32b+/VyJhvEBD3CoiJAxYfAjrUBL4ro3nM2w0okN7tR3J7oB3fDNQHLBpE2XD06FE0adIEixYtwm+//SY6DhERUlJS4OjoiHLlymH//v2i4xCl7/xAzV4XGWzYBwBlBwF3n6T92O15QNliaTwgswDK/wbUWPDFMenLsWgQZVPfvn2xfv16hIWFoXTp0qLjEJGJW7ZsGfr27YuLFy/iu+++Ex2HKH3x4cBeR92N3zocKFBJd+NTprFoEGVTfHw8HB0dUblyZQQGBkIm0/U1p0REaUtISIC9vT0aNWqE9evXi45D9HlHXIGHRz87q5ElMgugeGOgSZD2xqQvwovLibKpQIECWLp0Kfbv3481a9aIjkNEJmzBggV4/PgxJk+eLDoKUebUWgqYaXlVNDMLzbikNzijQfSF3N3dERgYiPDwcJQoUUJ0HCIyMc+ePYOtrS3c3d3h6+srOg5R5kX5AyG9tTdebX/A7lftjUdfjDMaRF9o3rx5sLCwwIABA0RHISITNH36dKSkpGDs2LGioxBljX0voMoUAMAXv+3t7MOSoYdYNIi+UNGiReHr64utW7di69atouMQkQm5d+8eFi5ciD/++APFixcXHYco65xG42bBYUhMBtRSFn8tlVkA5rk1MxmOo3STj74IL50i0gJJktChQwcEBwcjPDwchQsXFh2JiExAr169sHPnTkRHRyN//vyi4xBlWXJyMqpVqwZ7G3Ns++sryB4e1BSIjG4Sf/d4ieaaezLk5XIuMGUJZzSItEAmk2HRokVISkrCkCFDRMchIhNw/fp1KBQKjB49miWDDJafnx/CwsIwZtoKyJoGAa3DNPtgpLmD+Nsdv8v/plnCtkkQS4ae44wGkRYpFAr07NkTgYGBaNmypeg4RGTEOnTogIsXL+LmzZuwsrISHYcoy2JjY1GxYkV07doVixcv/vQLkpWAMgpQJQHmVpqSYSnP+aCUbSwaRFokSRJatGiB69evIywsDPny5RMdiYiM0JkzZ1C3bl2sWrUKPXr0EB2HKFt69OiBwMBARERE8JJjI8WiQaRld+7cgZOTEzw8PODn5yc6DhEZGUmS0LhxYzx9+hSXL1+Gubm56EhEWXby5Ek0aNAAy5YtQ+/eWlzilvQKiwaRDvj6+sLb2xvHjx9Hw4YNRcchIiOyb98+tGrVCrt370abNm1ExyHKspSUFFSvXh1WVlY4c+YMzMx4y7CxYtEg0gG1Wg0XFxc8fPgQV65cQZ48eURHIiIjoFarUa1aNeTLlw8nTpyATPbxzbJE+m/hwoUYNGgQzp49i5o1a4qOQzrECkmkA2ZmZvD398f//vc/jB8/Pu0vSlYCzy8DT85q/j9ZmZMRicgAbdiwAVeuXMGMGTNYMsggPXz4EGPHjkWvXr1YMkwAZzSIdGjGjBkYNWoUzpw5o3lBjQ8HIpcAMYGA8haA9//5yQC5LVCyFVC+H1DAQVRsItJDb968wbfffovKlStj586douMQZYuXlxd27dqFmzdvomjRoqLjkI6xaBDpUEpKCmrXro2v8r7C3vFfw+zRYW5ERETZsnDhQgwePBhXr16Fo6Oj6DhEWRYcHIx69eph8eLF6Nevn+g4lANYNIh07L9j41H0ziTksjSDuUyd+SfKLAAzC6D6QsC+l+4CEpHee/nyJezs7NC6dWsoFArRcYiyTKVSoWbNmpDJZAgJCeFqaSbCQnQAIqMW6oNvYiZBsgRkWSkZgGZWQ5UChPQGEh8CTqN1k5GI9N6cOXPw4sULTJw4UXQUomxZunQpLl26hODgYJYME8IZDSJdifLXlARtqe0P2P2qvfGIyCA8evQIdnZ26NOnD/7++2/RcYiy7PHjx6hQoQI6dOiAFStWiI5DOYhFg0gXlLeBvQ6AKjHthxOBWXuAs9FASDTw/BWg6AN4umQwpnluoHU479kgMjGDBg1CQEAAbt26hSJFioiOQ5RlvXr1wtatWxEREYFixYqJjkM5iMvbEulCSF9Anf4N309eApO2A9fvA86lMzmmOkUzLhGZjNu3b2Px4sUYPnw4SwYZpLNnz2LFihWYMmUKS4YJ4owGkbbFhwN7M14RJilZM4tRoiBw/hZQc2wmZjTeaR0OFKiklahEpN+6d++OQ4cOISoqCtbW1qLjEGWJSqVC7dq1oVKpcP78ed6bYYJ4MziRtkUu+ewStlaWmpKRZTILIHIxUGNBtuMRkWG4evUq1q1bBz8/P5YMMkj+/v64cOECTp06xZJhonjpFJG2xQRmvE/Gl5BSgJh9uhmbiPTKyJEjYWdnh169uLw1GZ6nT59i1KhR8PDwQL169UTHIUE4o0GkTckv3+74rUPKaCBZCVjKdXscIhLmxIkTCAwMxMaNG2FpaSk6DlGWjR49GiqVCjNmzBAdhQTijAaRNimjAej6ticJUEbp+BhEJIokSfjrr79QvXp1dOrUSXQcoiw7f/48li1bhkmTJqF48eKi45BAnNEg0iZVknEdh4hy3M6dO3HmzBkcPHgQZmZ8P5AMi1qtxoABA1C5cmX8/vvvouOQYCwaRNpkbmVcxyGiHJWSkoJRo0ahWbNmaNasmeg4RFmmUChw9uxZnDhxAhYW/DXT1PFvAJE2ye0ByKDby6dkb49DRMZm9erVuH79OtasWSM6ClGWPXv2DCNGjIC7uzsaNGggOg7pAc7JEmmTpRyQ2+r2GHI73ghOZIRev36N8ePHo3PnzqhevbroOERZNnbsWCQlJWHmzJmio5Ce4IwGkbaVbKXZ6+IzS9z6BgFxr4CYOM3Huy8B955p/uztBhTIm8aTZBZAyZZajUtE+sHX1xexsbGYMmWK6ChEWXbp0iUsWbIEs2fPho2Njeg4pCe4MziRtmViZ3AAKDsIuPsk7cduzwPKFkvnidwZnMjoxMXFwdbWFl26dMHixYtFxyHKErVaje+//x4vXrzApUuXuCQzpeKMBpG2FXAASjQHHh7NcFbjzvysDauSZMBXTWDOkkFkdGbMmIGkpCSMGzdOdBSiLFu9ejWCg4Nx9OhRlgz6AO/RINKFWksBM+31eEkC3iRLcB17C2fOnNHauEQkXkxMDObPn4/BgwfzkhMyOHFxcRg+fDh+/vlnNGrUSHQc0jMsGkS6IC8HVF+oteFkMuC53SQopWKoX78+/vzzT7x+/Vpr4xOROBMnTkSePHkwfPhw0VGIsmzcuHF4/fo1Zs+eLToK6SEWDSJdse8FVNHSTZ3OPijZYCxOnTqFqVOnYsGCBfjuu+84u0Fk4G7evIkVK1Zg1KhRKFCggOg4RFly5coV+Pn5Ydy4cShVqpToOKSHeDM4ka5F+QMXvAF1ymdXovqAzEJz+VUNX8Du1w8eCg8Ph5eXF86fP48//vgDkyZNQp48ebQcnIh0rVOnTjh79iwiIiKQO3du0XGIMk2SJDRs2BBPnjzBlStXkCtXLtGRSA9xRoNI1+x7aVaKKt5Y87HsM/duvHu8eGPN8z4qGQDg4ODA2Q0iA3fu3Dls2bIFEydOZMkgg7N27VqcPHkSvr6+LBmULs5oEOWk+HAgcgkQsw9QRuPDHcRlms34SrYEyv+W6SVsw8PD4enpiQsXLmDo0KGYNGkSf2kh0nOSJKFZs2aIjY3F1atXYW5uLjoSUabFx8ejYsWKaNiwITZt2iQ6DukxFg0iUZKVUMXfRL06NTBy9Hj84D4s2zt+p6Sk4O+//8a4ceNga2sLhUKBOnXqaDkwEWlLUFAQ3NzcsGPHDrRv3150HKIsGTJkCJYtW4YbN27gm2++ER2H9BgvnSISxVIO86LVcfV+bvynLJLtkgEAFhYW+Ouvv3Dp0iXky5cP9evXx/Dhw5GYmKjFwESkDWq1GiNGjEC9evXQrl070XGIsuTatWtYuHAhxo4dy5JBn8WiQSSYtbU1lEqlVsZycHDA6dOnMXXqVMyfP5/3bhDpoU2bNuHSpUuYPn06ZDKZ6DhEmSZJEgYMGAA7Ozv88ccfouOQAWDRIBJMLpfj1atXWhuPsxtE+uvNmzcYM2YMWrdujQYNGoiOQ5QlGzZswIkTJ7Bw4ULeAE6ZwqJBJJg2ZzTe9252w8fHh7MbRHrC398ft27dwrRp00RHIcqSFy9eYNiwYejQoQNcXV1FxyEDwaJBJJi2ZzTeZ2FhgREjRuDixYuc3SASTKlUYtKkSXB3d0flypVFxyHKkkmTJiEuLg5z584VHYUMCIsGkWC6mtF4n6Oj4yezG2fPntXpMYnoQ/PmzcPz588xadIk0VGIsiQ8PBzz58/H6NGjUbp0adFxyICwaBAJpssZjfd9PLtRr149/PXXX5zdIMoBT548wcyZM/Hbb7+hbNmyouMQZdq7G8DLli2LYcOGiY5DBoZFg0iwnJjReN/7sxvz5s3j7AZRDpg6dSoAYPTo0YKTEGXNpk2bcPToUSxYsABWVlai45CBYdEgEiynZjTex9kNopxz9+5d+Pn5YdiwYShWrJjoOESZplQqMXToULRv3x4tW7YUHYcMEIsGkWA5PaPxPs5uEOne+PHjUbBgQe47QAZnypQpePr0KebNmyc6ChkoFg0iwUTMaLzv/dkNuVzO2Q0iLQoNDcXq1asxduxYyOVy0XGIMu3mzZuYM2cORo4cyfuKKNtYNIgEk8vlwmY03ufo6Ijg4GBMmTKFsxtEWjJq1CiUK1cOffr0ER2FKNMkSYK3tze++eYbDB8+XHQcMmAsGkSCWVtbC53ReJ+FhQVGjhzJ2Q0iLTh58iR2796NyZMncxdlMijbtm3DwYMHMX/+fOTOnVt0HDJgMkmSJNEhiEyZQqFAz549kZKSAnNzc9FxUqWkpGDWrFmYMGEC7OzsoFAoULt2bdGxiAyCJElo0KABXr16hQsXLsDMjO/rkWF49eoVKlWqBGdnZ+zevVt0HDJwfOUjEsza2hoA9GZW4533Zzesra05u0GUBXv27MGpU6cwbdo0lgwyKFOnTsWjR48wf/580VHICPDVj0iwdzeI6sN9Gmn5+N6NatWq8d4NogyoVCqMHDkSjRo1gpubm+g4RJkWGRmJ2bNn46+//oKtra3oOGQEWDSIBNPXGY33cXaDKPPWrl2LsLAwTJ8+HTKZTHQcokyRJAkDBw5EyZIlMWLECNFxyEiwaBAJpu8zGu/j7AZRxhITEzFu3Dh06NCB9zSRQdm5cyf279+PuXPnIk+ePKLjkJFg0SASzBBmNN73bnbjwoULnN0g+sjixYtx7949+Pj4iI5ClGkJCQkYPHgwWrRogfbt24uOQ0aERYNIMEOa0Xifk5PTJ7MbISEhomMR6VayEnh+GXhyVvP/yf//7zY+Ph4+Pj7o2bMnvv32W2ERibJq+vTpePDgARYsWMDL/UirLEQHIDJ1hjaj8b53sxtt27aFl5cX6tatiz///BMTJkzg2utkPOLDgcglQEwgoLwF4P1V4WWA3BYo2Qqr9r3Bq1evMGHCBEFBibIuOjoaM2fOxLBhw1C+fHnRccjIcB8NIsHevHkDKysrBAQEwMPDQ3ScbPt4342AgADUqlVLdCyi7FPeBkL6ArEHAZkFIKWk+6USzCGDChEvyqKC+xFAXi4HgxJlX5s2bXD16lVcv3499Y0vIm3hpVNEguXKlQuWlpYGOaPxvo/v3ahbty5GjBjBezfIMEX5A3sdgIdHNR9nUDIAQAYVAKB8gf80z4vy13VCoi+2e/du7N27F3PnzmXJIJ1g0SDSA3K53ODu0UjP+/duzJ07l/dukOEJ9QFCegOqxM8WjI/JJJXmeSG9NeMQ6anXr19j0KBBaN68OTp06CA6DhkpFg0iPWBtbW3wMxrve392I2/evJzdIMMR5Q9cHZPmQ8pEYPwWoMUMoHAfQNYNCDiewVhXxwDRK3STk+gLzZw5E/fu3cPChQt5AzjpDIsGkR4wphmN9zk5OeHMmTOYPHky5syZw9kN0m/K28AF73QffvISmLQduH4fcC6dyTHPD9CMS6RHbt++jenTp+OPP/5AxYoVRcchI8aiQaQHjG1G430WFhYYNWoULl68yNkN0m8hfQF1+pdK2RQEHvgBdxcAs7pmckx1imZcIj0yePBgFC1aFGPGpD17R6QtLBpEesBYZzTe9/HsRvXq1Tm7QfojPlyzulQG92RYWQIlCmZxXClFM2789S+KR6QtgYGB2LVrF/7+++/UfZyIdIVFg0gPWFtbG33RAD6c3ciTJw/q1q2LkSNHcnaDxItcolnCVhdkFkDkYt2MTZQFiYmJGDhwIJo0aYJOnTqJjkMmgEWDSA/I5XKjvXQqLe/Pbvz999+c3SDxYgKzvMJUpkkpQMw+3YxNlAWzZ8/G3bt34evryxvAKUewaBDpAVOZ0XgfZzdIbyS/fLvjtw4po4Fk0/o3Tvrl7t27mDp1KgYPHoxKlSqJjkMmgkWDSA+Y2ozG+97tuzFp0iTObpAYymgAko4PIgHKKB0fgyh9Q4YMQaFChTBu3DjRUciEsGgQ6QFTnNF4n6WlJUaPHs3ZDRJDlWRcxyH6yIEDB7B9+3bMnj0b+fLlEx2HTAiLBpEeMOUZjfdxdoOEMLcyruMQvScpKQne3t5wcXHBzz//LDoOmRgWDSI9YOozGu9Lb3YjKYnvBpOOyO0B6PrGWNnb4xDlrDlz5uDWrVu8AZyE0NFafkSUFXK5HAkJCVCr1TAzY/8H/n92Y+bMmZg4cSJ27dqFgIAA1KxZU3Q0MjaWckBu+/ZejYz5BgFxr4CYOM3Huy8B955p/uztBhTIm/bz4lRFISmTUaiQdiITZcb//vc/TJkyBQMHDoSTk5PoOGSC+BsNkR6wtrYGACQkJAhOol8+nt2oU6cOZzdIN0q2ytQ+GrP3AmO3AIsPaT7edk7z8dgtwPN0rn5UqWVYc/gJbGxs8PPPPyMoKAgqlUqL4YnSNmzYMOTPnx8TJkwQHYVMlEySJF0vtUFEn7F79260a9cOsbGxKF68uOg4eik5OTl1dqN8+fKc3SDtig8H9jrqbPjHtY9j1fYQKBQKhIeH4+uvv4anpyc8PT1hZ2ens+OS6Tp06BCaN2+ONWvWwN3dXXQcMlGc0SDSA3K5HAB4n0YG3s1uXLhwAblz5+bsBmlXAQegRHPt7w4uswBKNEcxu4YYNmwYQkNDcebMGbRu3RoLFiyAvb09GjVqhNWrV3NBCNKaN2/ewNvbGw0aNEC3bt1ExyETxqJBpAfeXTrFXzQ+r3Llyjhz5kzqylTVqlXDuXPnRMciY1BrKWCm5aJhZqEZ9y2ZTIbatWtjyZIlePDgAdauXQtzc3N4eHjAxsYGvXv3xunTp8GLDehLzJ8/H5GRkbwBnIRj0SDSA5zRyBrObpBOyMsB1Rdqd8wavppx05A3b15069YNhw8fxq1bt/DHH3/g4MGDqF+/PipVqoQZM2bgwYMH2s1DRu/+/fuYOHEi+vfvjypVqoiOQyaORYNID3BGI3s4u0FaZ98LqDJFO2M5+wB2v2bqS8uVK4cJEybg1q1bOHToEGrUqIEJEybgm2++QZs2bbBt2za8efNGO7nIqA0bNgzW1taYOHGi6ChELBpE+oAzGtn38exG3bp1MWrUKM5uUPY5jQZqLQfMc2f9ng2ZheZ5tf0Bx1FZPrSZmRmaNm2KtWvX4sGDB/Dz88Pjx4/x008/oVSpUhgyZAiuXr2a5XHJNBw9ehQbN27EzJkzUbBgQdFxiLjqFJE+SExMRJ48ebg6yBfiylSkVcrbQEhfIPagpkBIKel/7bvHSzTX3JORzuVS2RUWFgaFQoE1a9bg0aNHqF69Ory8vNC1a1cU4uYcBM3rX9WqVVGgQAGcPHmSezKRXuDfQiI9YGVlBXNzc85ofCGdzW4kK4Hnl4EnZzX/n8z/TiZBXg5oEgS0DgPK/5bODuJvd/wu/xvQOlzz9VouGQDg6OiI2bNn4969e9ixYwdKlSqFQYMGcW8OSrVw4ULcuHEDfn5+LBmkNzijQaQnChQogHHjxmHo0KGioxiF5ORkzJgxA5MmTcre7EZ8OBC5BIgJBJS3ALz/UinT7CRdshVQvp9maVQyDclKQBkFqJIAcytNybCUC4kSGxuLtWvXcm8OwoMHD1CxYkV0794dfn5+ouMQpWLRINITpUqVQp8+fTB+/HjRUYzK1atX4eXlhStXrmD48OEYP348rKys0n+CHl0uQ5QZkiQhJESzGeCGDRvw4sULuLi4oGfPnvjpp59SF5sg4+Xu7o4DBw4gIiKCl9KRXuHcGpGesLa25qpTOlClShWcOXMGEyZMwOzZszNemSrKH9jrADw8qvk4o5Lx/uMPj2qeF+WvveBEmcS9OUzbiRMnsG7dOkyfPp0lg/QOZzSI9ES1atVQp04dLFq0SHQUo5Xh7EaoD3B1zJcfpMoUzapFRILdvn0bq1atQkBAAO7evYuKFSvCy8sLPXr0gI2Njeh4pAUpKSmoVq0a8ubNi9OnT/PeDNI7/BtJpCc4o6F76c5uRPlrp2QAmnGiV2hnLKIvwL05jJ+fnx9CQ0Ph6+vLkkF6iTMaRHqiZcuWyJs3L7Zu3So6ikl4N7sRf/8yrs82g4VZyifrCSkTgVl7gLPRQEg08PwVoOgDeLp8ZnDz3JoViHjPBumZuLg4/PPPP1i5ciVCQkJQtGhRuLu7w8vLi7tIG5jY2FhUrFgRv/zyC5YsWSI6DlGaWH+J9ARnNHLWu9mNA1PKAdKnJQMAnrwEJm0Hrt8HnEtnYXB1iuaGciI9U7BgQfTt2xdnz55FaGgoPDw8sH79ejg7O6NGjRrw8/PD8+fPRcekTPjrr79gYWEBHx8f0VGI0sWiQaQn5HI599HIYZYJkbDLGw1L87QftykIPPAD7i4AZnXNwsBSimbVqvjr2ohJpBMf783x9ddfc28OA3Hq1CmsXr0a06ZNQ5EiRUTHIUoXiwaRnuCMhgCRSzRL1KbDyhIoUTCbY8ssgMjF2XwyUc6xtLRE+/btsWPHDty/fx8+Pj64du0a3NzcULZsWYwdOxbR0dGiY9JbKSkp6N+/P2rUqIFff/1VdByiDLFoEOkJzmgIEBP4+SVss0tKAWL26WZsIh0pXrw4hg4ditDQUJw9exatW7fGggULYG9vj0aNGmH16tV8Q0SwJUuW4OrVq/Dz84O5eTrTsUR6gkWDSE9YW1uzaOSk5Jdvd/zWIWW0ZidpIgMjk8lQq1atD/bmsLCw4N4cgj169AhjxozBr7/+ilq1aomOQ/RZLBpEekIul/OdwpykjAag61+SJEAZpeNjEOlW3rx50a1bNxw6dAi3b9/G0KFDcfDgQdSvXx+VKlXCjBkz8ODBA9ExTcKIESNgZmaGadOmiY5ClCksGkR64t2MBt8hzCGqJOM6DlEOKFu2LMaPH49bt27h8OHD3JsjBwUHB0OhUMDHxwdFixYVHYcoU1g0iPSEXC6HJElITEwUHcU0mFsZ13GIcpCZmRmaNGmCtWvX4sGDB/Dz88Pjx4/x008/oVSpUhgyZAiuXr0qOqbRUKlUGDBgAKpVq4Y+ffqIjkOUaSwaRHrC2toaAHifRg6RrO0gpbl7hjbJALm9jo9BJBb35tC9ZcuW4eLFi/D19eUN4GRQWDSI9IRcLgcA3qehQ48ePcK6devQo0cPlCxTAdEPdXyZmtwOsJTr9hhEeoR7c2jfkydPMHr0aHh5eaFu3bqi4xBlSfoLyBNRjuKMhvYlJSXh9OnTOHDgAIKCgnDp0iUAQNWqVeHh4QGrchGQXu+CTEr/Fx/fICDuFRATp/l49yXg3jPNn73dgAJ503mizAIo2VJ73wyRAXm3N0f79u3x8OFDrF27FitXroSbmxu+/vpreHp6wtPTE3Z2dqKj6r2RI0dCkiRMnz5ddBSiLJNJvPOUSC9cu3YNVapUwZkzZ1C7dm3RcQySJEmIiIhILRbHjh3Dq1evULx4cbi6usLV1RXNmzdH8eLFNU+IDwf2OmY4ZtlBwN0naT92ex5QtlgGT24dDhSolK3vhcjYSJKEc+fOYeXKldiwYQNevHgBFxcX9OzZEz/99FPqmy30/0JCQlCnTh0sWLAAAwYMEB2HKMtYNIj0xK1bt2BnZ4dDhw6hadOmouMYjOfPn+Pw4cMICgpCUFAQ7t69i1y5cuH777+Hm5sb3NzcULlyZZiZpXOl6BFX4OFR7W7cJ7MAijcGmgRpb0wiI5KQkIDt27dDoVDg8OHDyJcvH7p06ZJ6eZBMpuv7p/SfWq1GnTp18ObNG5w/fx4WFrwIhQwPiwaRnnj06BGKFy+OnTt3ol27dqLj6K2UlBSEhIQgKCgIBw4cQEhICNRqNb799lu4ubnB1dUVLi4umX93VHkb2OsAqLS42pd5bs1shryc9sYkMlJ37tzBqlWroFAocPfuXVSsWBFeXl7o0aMHbGxsRMcTZvny5ejTpw9OnjyJ+vXri45DlC0sGkR6IiEhAdbW1li3bh26du0qOo5euXv3burlUIcPH0ZcXBwKFSqEZs2apV4SVbp06ewfIMofCOmtvcC1/QG7X7U3HpEJUKvVOHbsGFauXImtW7ciOTkZLVq0QM+ePdGmTRvkypVLdMQc8+zZM1SoUAGtW7fGqlWrRMchyjYWDSI9IUkSzM3NsXTpUvTurcVfeg2QUqnEsWPHUmctIiIiYG5ujjp16sDV1RVubm6oUaOGdpd5DPUBro758nGcfQDHUV8+DpEJi4uLwz///IOVK1ciJCQERYsWhbu7O7y8vFClShXR8XTut99+w/r16xEREfH/95QRGSAWDSI9ki9fPkyaNAlDhgwRHSVHqdVqXL58ObVYnDp1CsnJyShbtmzqfRaNGzdGwYIFdRskyh+44A2oU7J2z4bMAjCzAGr4ciaDSMvCwsKgUCiwZs0aPHr0CNWrV4eXlxe6du2KQoUKiY6ndRcuXEDNmjUxd+5cDBo0SHQcoi/CokGkR0qUKIEBAwZgzBgtvLOu5x48eICDBw/iwIEDOHjwIB4/fgxra2s0adIkddbC3t4+528KVd4GQvoCsQc1BSKjwvHu8RLNgVpLeU8GkQ4lJycjMDAQCoUCe/bsgYWFBX744Qf07NkTTZs2NYqN7NRqNerVq4eEhARcvHiRN4CTwePfYCI9IpfLjXYfjcTERJw8eTL1XourV68CAKpXr45evXrBzc0NdevWFX8dtrycZrWo+HAgcgkQsw9QRgN4/z0ZmWYzvpItgfK/cQlbohxgCntzBAQE4OzZszh+/DhLBhkFzmgQ6RFnZ2c0bNgQCxcuFB3li0mShOvXr6cWi+PHj+P169ewsbFJnbFo1qwZihXLaCMKPZGsBJRRgCoJMLcC5Pbc8ZtID6S3N4eXlxc6duxoUHtzPH/+HBUqVICrqyvWrVsnOg6RVrBoEOmR+vXro0KFClAoFKKjZMvTp09x+PDh1HJx7949WFlZoWHDhqlLzzo5OXGNfCLSuo/35pDL5ejSpQt69uxpEHtzDBgwAKtWrcLNmzdRsmRJ0XGItIJFg0iPuLq6omDBgti0aZPoKJmSnJyMs2fPphaLc+fOQZIkODo6phaLhg0bIk+ePKKjEpEJSW9vju7du+vlL/GXL19G9erVMXPmTAwdOlR0HCKtYdEg0iNdO7VD4VzP4Dv/b729ROfWrVupxeLIkSN48eIFChcujObNm8PNzQ3NmzfH119/LTomEdEne3O8efMGLVu2hJeXF9q2bZtz94RlcPmlWq1GgwYNEBcXh8uXL8PS0jJnMhHlABYNItFSbzoOhPQyGh/O7ssAuS1QshVQvh9QwCHH47148QJHjx5NXXo2OjoaFhYWqFu3buqsRbVq1YxixRciMl5p7c3RrVs39OzZUzd7c7z32g7lLXy6oITmtX1HWAn86DkaR44cQePGjbWfg0ggFg0iUfR0GVWVSoWLFy+mFovg4GCkpKTAzs4utVg0btwY+fPn11kGIiJd+nhvjmrVqqFnz5745ZdfULhw4S8bPAuv7ZLMHDJJhSuPisO5VzCXyCajw6JBJMKXbgxXfSFg30trce7fv59aLA4dOoSnT58iX758aNq0KVxdXeHq6mrQS0YSEaVF63tzZPO1XYI5ZOaWWn9tJxKNRYMop4X6AFe1sCFflSmA0+hsPfX169c4ceJE6r0WYWFhkMlkqFmzZurSs7Vr1+a1wkRkMt7fmyM8PDzre3PowWs7kb5h0SDKSVH+QEjvTz6tTARm7QHORgMh0cDzV4CiD+Dp8pnxavsDdr9+9rCSJCE0NDS1WJw4cQJJSUkoVapU6uVQzZo1Q5EiRbL5jRERGYds7c0h6LWdSN+xaBDlFOVtYK8DoEr85KE7j4Fyg4HSRQDbr4Bj1zN5MjLPDbQOT/O63sePH+PgwYMICgpCUFAQHjx4gDx58sDFxSV11qJSpUp6v7Y8EZEomdqbI4df24kMCYsGUU454go8PJrmdbtJyZp3ukoUBM7fAmqOzeTJSGYBFG8MNAnCmzdvEBwcnDprcfHiRUiShCpVqqQWi++//x65c+fWybdHRGTM0tubY1CVQOSOO62z13YiQ8aiQZQT4sOBvY6Z+tIsnYze+m2vC9bsPI9Xr16hWLFiH+xpYWNj8wXBiYjofe/vzRF2ejMuTXmTqedl57UdrcOBApWyH5ZIMAvRAYhMQuSSzy9hm03JKqB5mSiUGTMGrq6uqFq1KszMzLR+HCIiAszMzNCkSRM0adIESaesob7jDzOZWvsHklkAkYuBGgu0PzZRDmHRIMoJMYE6KRkAYGkOdKiTB2g3QifjExFR2qyeHgZ0UTIAzTkjZp9uxibKIXzbk0jXkl++3RVWh5TRQLJSt8cgIqL/x9d2os9i0SDSNWU0AF3fCiUByigdH4OIiFLxtZ3os1g0iHRNlWRcxyEiIr62E2UCiwaRrplbGddxiIiIr+1EmcCiQaRrcnsAut4UT/b2OERElCP42k70WVx1ikjXLOWA3Pbt9bzp8w0C4l4BMXGaj3dfAu490/zZ2w0okDeDJ8vtNMchIqKcwdd2os/ihn1EOeH8QM166BkscVt2EHD3SdqP3Z4HlC2WzhNlFkD537jWOhFRTuNrO1GGWDSIckIWdgbPFu4eS0SU8/jaTpQh3qNBlBMKOAAlmmveodImmYVmXJ6IiIhyHl/biTLEokGUU2otBcy0fDIys9CMS0REYvC1nShdLBpEOUVeDqi+ULtj1vDVjEtERGLwtZ0oXSwaRDnJvhdQZYp2xnL2Aex+1c5YRESUfXxtJ0oTbwYnEiHKH7jgDahTMlyt5BMyC82Ueg1fnoiIiPQNX9uJPsCiQSSK8jYQ0heIPag5yWR0Unr3eInmmut2OaVORKSf+NpOlIpFg0i0+HAgcgkQs+/txk/v/5OUaTZsKtlSs546VyAhIjIMfG0nYtEg0ivJSkAZBaiSAHMrQG7PXWGJiAwdX9vJRLFoEBERERGR1nHVKSIiIiIi0joWDSIiIiIi0joWDSIiIiIi0joWDSIiIiIi0joWDSIiIiIi0joWDSIiIiIi0joWDSIiIiIi0joWDSIiIiIi0joWDSIiIiIi0joWDSIiIiIi0joWDSIiIiIi0joWDSIiIiIi0joWDSIiIiIi0joWDSIiIiIi0joWDSIiIiIi0joWDSIiIiIi0joWDSIiIiIi0joWDSIiIiIi0joWDSIiIiIi0joWDSIiIiIi0joWDSIiIiIi0joWDSIiIiIi0joWDSIiIiIi0joWDSIiIiIi0joWDSIiIiIi0joWDSIiIiIi0joWDSIiIiIi0joWDSIiIiIi0rr/A1VyfXTOLBM8AAAAAElFTkSuQmCC\n"
                },
                "metadata": {}
              }
            ]
          }
        },
        "3981233fcda846e6a44e3f715820239f": {
          "model_module": "@jupyter-widgets/base",
          "model_name": "LayoutModel",
          "model_module_version": "1.2.0",
          "state": {
            "_model_module": "@jupyter-widgets/base",
            "_model_module_version": "1.2.0",
            "_model_name": "LayoutModel",
            "_view_count": null,
            "_view_module": "@jupyter-widgets/base",
            "_view_module_version": "1.2.0",
            "_view_name": "LayoutView",
            "align_content": null,
            "align_items": null,
            "align_self": null,
            "border": null,
            "bottom": null,
            "display": null,
            "flex": null,
            "flex_flow": null,
            "grid_area": null,
            "grid_auto_columns": null,
            "grid_auto_flow": null,
            "grid_auto_rows": null,
            "grid_column": null,
            "grid_gap": null,
            "grid_row": null,
            "grid_template_areas": null,
            "grid_template_columns": null,
            "grid_template_rows": null,
            "height": null,
            "justify_content": null,
            "justify_items": null,
            "left": null,
            "margin": null,
            "max_height": null,
            "max_width": null,
            "min_height": null,
            "min_width": null,
            "object_fit": null,
            "object_position": null,
            "order": null,
            "overflow": null,
            "overflow_x": null,
            "overflow_y": null,
            "padding": null,
            "right": null,
            "top": null,
            "visibility": null,
            "width": null
          }
        },
        "401e37d8696b4a6cac63f5c1edd753fd": {
          "model_module": "@jupyter-widgets/base",
          "model_name": "LayoutModel",
          "model_module_version": "1.2.0",
          "state": {
            "_model_module": "@jupyter-widgets/base",
            "_model_module_version": "1.2.0",
            "_model_name": "LayoutModel",
            "_view_count": null,
            "_view_module": "@jupyter-widgets/base",
            "_view_module_version": "1.2.0",
            "_view_name": "LayoutView",
            "align_content": null,
            "align_items": null,
            "align_self": null,
            "border": null,
            "bottom": null,
            "display": null,
            "flex": null,
            "flex_flow": null,
            "grid_area": null,
            "grid_auto_columns": null,
            "grid_auto_flow": null,
            "grid_auto_rows": null,
            "grid_column": null,
            "grid_gap": null,
            "grid_row": null,
            "grid_template_areas": null,
            "grid_template_columns": null,
            "grid_template_rows": null,
            "height": null,
            "justify_content": null,
            "justify_items": null,
            "left": null,
            "margin": null,
            "max_height": null,
            "max_width": null,
            "min_height": null,
            "min_width": null,
            "object_fit": null,
            "object_position": null,
            "order": null,
            "overflow": null,
            "overflow_x": null,
            "overflow_y": null,
            "padding": null,
            "right": null,
            "top": null,
            "visibility": null,
            "width": null
          }
        },
        "73d426790f4f48e1aa4e3843c1382a57": {
          "model_module": "@jupyter-widgets/controls",
          "model_name": "SliderStyleModel",
          "model_module_version": "1.5.0",
          "state": {
            "_model_module": "@jupyter-widgets/controls",
            "_model_module_version": "1.5.0",
            "_model_name": "SliderStyleModel",
            "_view_count": null,
            "_view_module": "@jupyter-widgets/base",
            "_view_module_version": "1.2.0",
            "_view_name": "StyleView",
            "description_width": "",
            "handle_color": null
          }
        },
        "f418c5093b19463a9cb5290c1ed014f3": {
          "model_module": "@jupyter-widgets/base",
          "model_name": "LayoutModel",
          "model_module_version": "1.2.0",
          "state": {
            "_model_module": "@jupyter-widgets/base",
            "_model_module_version": "1.2.0",
            "_model_name": "LayoutModel",
            "_view_count": null,
            "_view_module": "@jupyter-widgets/base",
            "_view_module_version": "1.2.0",
            "_view_name": "LayoutView",
            "align_content": null,
            "align_items": null,
            "align_self": null,
            "border": null,
            "bottom": null,
            "display": null,
            "flex": null,
            "flex_flow": null,
            "grid_area": null,
            "grid_auto_columns": null,
            "grid_auto_flow": null,
            "grid_auto_rows": null,
            "grid_column": null,
            "grid_gap": null,
            "grid_row": null,
            "grid_template_areas": null,
            "grid_template_columns": null,
            "grid_template_rows": null,
            "height": null,
            "justify_content": null,
            "justify_items": null,
            "left": null,
            "margin": null,
            "max_height": null,
            "max_width": null,
            "min_height": null,
            "min_width": null,
            "object_fit": null,
            "object_position": null,
            "order": null,
            "overflow": null,
            "overflow_x": null,
            "overflow_y": null,
            "padding": null,
            "right": null,
            "top": null,
            "visibility": null,
            "width": null
          }
        },
        "978de1f8c40a4de9b8cf4b8a5c1b7df5": {
          "model_module": "@jupyter-widgets/controls",
          "model_name": "VBoxModel",
          "model_module_version": "1.5.0",
          "state": {
            "_dom_classes": [
              "widget-interact"
            ],
            "_model_module": "@jupyter-widgets/controls",
            "_model_module_version": "1.5.0",
            "_model_name": "VBoxModel",
            "_view_count": null,
            "_view_module": "@jupyter-widgets/controls",
            "_view_module_version": "1.5.0",
            "_view_name": "VBoxView",
            "box_style": "",
            "children": [
              "IPY_MODEL_b9c6d502efce4ad8a6d6b8da2ba16ac3",
              "IPY_MODEL_7c3715f3d1ad480683bdeb3c398e88d6",
              "IPY_MODEL_b1a128b5437b4ff4a45b26a51ecaa84a"
            ],
            "layout": "IPY_MODEL_72bc7a3dba7342b094666dd459d669ee"
          }
        },
        "b9c6d502efce4ad8a6d6b8da2ba16ac3": {
          "model_module": "@jupyter-widgets/controls",
          "model_name": "IntSliderModel",
          "model_module_version": "1.5.0",
          "state": {
            "_dom_classes": [],
            "_model_module": "@jupyter-widgets/controls",
            "_model_module_version": "1.5.0",
            "_model_name": "IntSliderModel",
            "_view_count": null,
            "_view_module": "@jupyter-widgets/controls",
            "_view_module_version": "1.5.0",
            "_view_name": "IntSliderView",
            "continuous_update": true,
            "description": "data_index",
            "description_tooltip": null,
            "disabled": false,
            "layout": "IPY_MODEL_7fc8c3f0f63241059f1c05f662e3f680",
            "max": 187,
            "min": 0,
            "orientation": "horizontal",
            "readout": true,
            "readout_format": "d",
            "step": 1,
            "style": "IPY_MODEL_db895fc2b8594990818506b5550af37b",
            "value": 97
          }
        },
        "7c3715f3d1ad480683bdeb3c398e88d6": {
          "model_module": "@jupyter-widgets/controls",
          "model_name": "IntSliderModel",
          "model_module_version": "1.5.0",
          "state": {
            "_dom_classes": [],
            "_model_module": "@jupyter-widgets/controls",
            "_model_module_version": "1.5.0",
            "_model_name": "IntSliderModel",
            "_view_count": null,
            "_view_module": "@jupyter-widgets/controls",
            "_view_module_version": "1.5.0",
            "_view_name": "IntSliderView",
            "continuous_update": true,
            "description": "feature_index",
            "description_tooltip": null,
            "disabled": false,
            "layout": "IPY_MODEL_95f8d16a741a4487b8ee8dcbc9a89fed",
            "max": 2,
            "min": 0,
            "orientation": "horizontal",
            "readout": true,
            "readout_format": "d",
            "step": 1,
            "style": "IPY_MODEL_59ac59b443cb4c44af6439aebbb55ac9",
            "value": 2
          }
        },
        "b1a128b5437b4ff4a45b26a51ecaa84a": {
          "model_module": "@jupyter-widgets/output",
          "model_name": "OutputModel",
          "model_module_version": "1.0.0",
          "state": {
            "_dom_classes": [],
            "_model_module": "@jupyter-widgets/output",
            "_model_module_version": "1.0.0",
            "_model_name": "OutputModel",
            "_view_count": null,
            "_view_module": "@jupyter-widgets/output",
            "_view_module_version": "1.0.0",
            "_view_name": "OutputView",
            "layout": "IPY_MODEL_36a89c23789d466d874159e7e42ec4a3",
            "msg_id": "",
            "outputs": [
              {
                "output_type": "display_data",
                "data": {
                  "text/plain": "<Figure size 500x500 with 1 Axes>",
                  "image/png": "iVBORw0KGgoAAAANSUhEUgAAAZcAAAGrCAYAAAAM3trbAAAAOXRFWHRTb2Z0d2FyZQBNYXRwbG90bGliIHZlcnNpb24zLjcuMSwgaHR0cHM6Ly9tYXRwbG90bGliLm9yZy/bCgiHAAAACXBIWXMAAA9hAAAPYQGoP6dpAABOHElEQVR4nO3dd3hUZdrH8e+kUCO9Ca7USEsEqYorRaQJgg1QkKZUX3BViiAgipRlBV0pAhIERVCEVSwEQQVUFEQEaQFJAoJIDSUQIaSd94+TRELqJGdyZjK/z3XlGueU59wTNfc83WEYhoGIiIiFfOwOQERECh4lFxERsZySi4iIWE7JRURELKfkIiIillNyERERyym5iIiI5ZRcRETEckouIiJiOSUXccrPP/9MixYtKF68OA6Hg19//dXukPLV77//jsPhYOnSpW5dpojdlFwkx+Lj4+nevTvnz5/njTfeYNmyZVStWtXy55w4cYKXX37Z6xKXu/j444/p2bMnNWrUoFixYtSuXZuRI0dy8eJFu0MTD+JndwDiOSIjIzl69CiLFi1i4MCBLnvOiRMneOWVV6hWrRoNGzZ02XNyo2rVqly9ehV/f3+7Q3GZwYMHU7lyZZ544gluvfVW9u7dy9y5cwkNDWXnzp0ULVrU7hDFAyi5SI6dOXMGgFKlStkbSC7FxsZSqFAhfHxyX2F3OBwUKVLEwqjcz+rVq2ndunWaY40bN6Zfv34sX77cpV8spOBQs5jkSP/+/WnVqhUA3bt3x+FwpPkDdPDgQR599FHKlClDkSJFaNKkCZ999lmaMs6fP8+oUaMIDg4mICCAEiVK0KlTJ3bv3p16zebNm2natCkAAwYMwOFwpOmPqFatGv37908XX+vWrdPEs3nzZhwOBx9++CETJkygSpUqFCtWjEuXLgHw008/0bFjR0qWLEmxYsVo1aoVP/zwQ7a/h4z6R/r3709AQAB//vknDz74IAEBAZQvX55Ro0aRmJiY5v6LFy/Sv39/SpYsSalSpejXr1+mzU3Z/U7PnDlD+fLlad26Ndcvbh4REUHx4sXp2bNn6rErV65w8OBBoqKisv2MNyYWgIceegiAAwcOZHu/CCi5SA4NGTKEF198EYBnnnmGZcuWMX78eAD279/PnXfeyYEDBxg7diyzZs2iePHiPPjgg3zyySepZRw+fJg1a9bQpUsXXn/9dUaPHs3evXtp1aoVJ06cAKBu3bpMnjwZMJtnli1bxrJly2jZsmWu4n711VdZu3Yto0aNYtq0aRQqVIiNGzfSsmVLLl26xKRJk5g2bRoXL17k3nvvZfv27bl6TmJiIh06dKBs2bLMnDmTVq1aMWvWLN5+++3UawzDoFu3bixbtownnniCKVOmcPz4cfr165euvJz8TitUqMD8+fP59ttvmTNnDgBJSUn079+fm266ibfeeiu1vO3bt1O3bl3mzp2bq8936tQpAMqVK5er+8ULGSI5tGnTJgMwVq1aleZ427ZtjeDgYCM2Njb1WFJSktGiRQsjMDAw9VhsbKyRmJiY5t4jR44YhQsXNiZPnpx67OeffzYAY8mSJeliqFq1qtGvX790x1u1amW0atUqXaw1atQwrly5kiauwMBAo0OHDkZSUlLq8StXrhjVq1c32rVrl+Xv4MiRI+li69evnwGk+QyGYRh33HGH0bhx49T3a9asMQDjP//5T+qxhIQE45577klXZk5/p4ZhGI8//rhRrFgx49ChQ8Zrr71mAMaaNWvSXJPy+5g0aVKWny8zTz31lOHr62scOnQoV/eL91HNRfLk/PnzbNy4kR49enD58mWioqKIiori3LlzdOjQgfDwcP78808AChcunNrfkZiYyLlz5wgICKB27drs3LnTJfH169cvTQf0r7/+Snh4OL169eLcuXOp8f7111+0bduW7777jqSkpFw9a+jQoWne33PPPRw+fDj1fWhoKH5+fgwbNiz1mK+vLyNGjEhznzO/U4C5c+dSsmRJHn30USZOnEifPn3o1q1bmjJTms5efvllpz/XihUrWLx4MSNHjiQwMNDp+8U7qUNf8iQiIgLDMJg4cSITJ07M8JozZ85QpUoVkpKSePPNN3nrrbc4cuRImv6IsmXLuiS+6tWrp3kfHh4OkGFTVIro6GhKly7t1HOKFClC+fLl0xwrXbo0Fy5cSH1/9OhRbr75ZgICAtJcV7t27TTvnfmdApQpU4bZs2fTvXt3KlasyOzZs52KPSvff/89Tz31FB06dGDq1KmWlSsFn5KL5EnKt/xRo0bRoUOHDK+pVasWANOmTWPixIk8+eSTvPrqq5QpUwYfHx+effbZHNcWHA5HhscTExPx9fVNd/zGYbMpz3nttdcyHeZ84x//nMjo2bnlzO80xfr16wG4cOECx48ft2RE3+7du+natStBQUGsXr0aPz/9uZCc038tkic1atQAwN/fn/vuuy/La1evXk2bNm1YvHhxmuMXL15M01GcWQIBszaQ0eiqo0ePpsaSlZo1awJQokSJbOO1WtWqVfnmm2+IiYlJk8B+++23NNc58zsF+PLLLwkJCWHMmDEsX76cfv368dNPP+UpGURGRtKxY0cqVKhAaGhorhKueDf1uUieVKhQgdatW7Nw4UJOnjyZ7vzZs2dT/9nX1zfNkFmAVatWpek/AChevDhAhkmkZs2abNu2jbi4uNRjX3zxBX/88UeO4m3cuDE1a9Zk5syZxMTEZBmv1e6//34SEhKYP39+6rHExMTUkV4pnPmdXrx4kYEDB9KsWTOmTZtGSEgIO3fuZNq0aWnucWYo8qlTp2jfvj0+Pj6sX78+XXOfSE6o5iJ5Nm/ePP75z38SHBzMoEGDqFGjBqdPn2br1q0cP348dR5Lly5dmDx5MgMGDKBFixbs3buX5cuXp6tx1KxZk1KlSrFgwQJuuukmihcvTvPmzalevToDBw5k9erVdOzYkR49ehAZGcn777+fWiPJjo+PDyEhIXTq1In69eszYMAAqlSpwp9//smmTZsoUaIEn3/+ueW/I4AHHniAu+++m7Fjx/L7779Tr149Pv74Y6Kjo9Ndm9Pf6b/+9S/OnTvH119/ja+vLx07dmTgwIFMmTKFbt260aBBA8AcitymTRsmTZqUbad+x44dOXz4MGPGjGHLli1s2bIl9VzFihVp166ddb8UKbjsHawmniSzociGYRiRkZFG3759jUqVKhn+/v5GlSpVjC5duhirV69OvSY2NtYYOXKkcfPNNxtFixY17r77bmPr1q3phhEbhmF8+umnRr169Qw/P790w3RnzZplVKlSxShcuLBx9913Gzt27Mh0KHJGsRqGYezatct4+OGHjbJlyxqFCxc2qlatavTo0cP45ptvsvwdZDYUuXjx4umunTRpknHj/2Lnzp0z+vTpY5QoUcIoWbKk0adPH2PXrl0ZDr3O7nf66aefGoAxa9asNPddunTJqFq1qtGgQQMjLi4uze8jJ0ORgUx/bvz3JJIZh2Hc0E4hIiKSR+pzERERyym5iIiI5ZRcRETEckouIiJiOSUXERGxnJKLiIhYTslFREQsp+QiIiKWU3IRERHLKbmIiIjllFxERMRySi4iImI5JRcREbGckouIiFhOyUVERCyn5CIiIpZTchEREcspuYiIiOWUXERExHJKLiIiYjklFxERsZySi4iIWE7JRURELKfkIiIillNyERERyym5iIiI5ZRcRETEcn52ByAuFB8DMRGQeA18C0NALfAPsDsqEfECSi4FTXQYhC+AE6EQcxgwrjvpgIAaUPl+CBwKJevZFaWIFHAOwzCM7C8TtxdzBLYPgVNfgcMPjITMr005X6kdNFsIAdXzL04R8QpKLgVBRAj8MgKSErJOKjdy+IGPHzSeA7UGui4+EfE66tD3dPumwvZBkBjrXGIB8/rEWPP+fVNdE5+IeCXVXDxZRIiZGKzSPARqPmVdeSLitQpOcvG2kVExR2BtPbPmcYP+C+Dd7zO/9fgcqFImgxO+RaBzmPpgRCTPPDu5ePPIqI3t4fSmDJvCtoZD5Om0xwwDhi6BauVg/38yKdPhBxXbwL0brI9XRLyKZyYXbx8ZFR0Ga+s7dcuW3+CeyTC1B7zYLZuLO4dBybq5j09EvJ7ndehHhJjNQac3me+z68ROOX96k3lfRIhr48sP4QvMpOmEFT+CwwG9WmRzocMPwufnPjYRETwtuWhklOlEqFOfPz4BPtoGLQKhWvlsLjYS4MS6vMUnIl7Pc5JLRAjsmZDhqZ1HoOssKDMYig2AoBdg9pdZlLVnAkQudk2crhZ/Obl/KefW74FzMdD77hzeEBNpDpAQEcklz1j+JeaIOUkwAxv2wAOz4I6qMPEhCCgMkWfg+PlsytwxHCre63l9MDGRpB24kL0VP4K/L/RontM7DHPkXemGTgYnImLyjOSyfYg5+/wGl65A3wXQuSGs/hf4OFMPS0owy/WAkVHXrl3j3LlznD17lriTW2jqxL0xsfDpTuhwO5S9yYkbE685G6aISCr3Ty7RYeaosAys+BFOR5sjoHx84K9YKFooh0nGSDDLjT6QryOjDMMgOjqas2fPEhUVlaPXy5cvp97foCr8Oi3nz1uzA65cc6JJLIVvYSdvEBH5m/snl5SRURl0YH+9D0oUhT8vwINvwKGTULww9PknvPEEFCmUTdkpI6OazM51eNeuXSMqKirHieLcuXMkJKT/LKVLl6ZcuXKUL1+ecuXKERwcnOZ96mvpohg/N8CRw6ax5T9AQBHo2siZT+UwJ6GKiOSS+yeXLEZGhZ+GhCTo9jo81Qqm94TNYTBnA1y8Ah8Mz6bsG0ZGJSUlER0dneNEERUVlaZWkaJQoUKUL18+NSHcfPPNmSeL8uUpU6YM/v7+Of+dHKiR3PeStbOX4Ov98PhdUMyZikhAzYK9uoGIuJx7J5dsRkbFxJpNPkPbwux+5rGHm0JcAizcCJMfhcBKWT8i6XIEze+oyx8nLxAVFUViYmK6a3Jcq0h+DQgIwOFw5OWTZ63y/WaNK5vhyCu3QUKik01iDj+o3Clv8YmI13Pv5JLNyKiiyc1ej9+V9nivFmZy2RqefXLxccCjHRoSV7xehonC6VpFfggcCofmZHvZ8h+gQgm4L8iJso0ECByW+9hERHD35JLNiKXKpWD/cahYMu3xCsnvL/yVs8e8MOpZKJfjcbr2K1nPXM4mk7XFUmx9xbliExLh2998+fnYpzz7bHWKFCmSx0BFxFu59yTKbEYsNU6eovLnhbTHTyS/L5/TobeeODKq2UJzoy8L+foX4Ye4PkycOJG6deuyevVqPHHpORGxn3snl4BaQOZ9Fz3uNF8Xb057PGQT+PlC6xwthOyhI6MCqps7SFrI0XQuL/1nCfv27SMoKIju3bvTqlUrfvnlF0ufIyIFn3snF/8Ac9n8TNxRDZ5sZc536Tkb3voKesyGD7bC6M5QuXQOnuHJI6NqDYTbp1hTVoOpqRuF1a5dm88//5z169dz/vx5mjZtyoABAzhx4oQ1zxKRAs+9kwuYI6OyWAF4wZPw8sPwUyQ8uwx2/W7OcZnWMwdlF4SRUUHjodkic6MvJ1dKxuFn3tc8BOq/mO50+/bt+fXXX3nrrbf44osvuO2225gyZQpXr161KHgRKajcfz+XXOxd4pSCsneJi/e4uXjxIlOmTGH27NlUqlSJGTNm8Nhjj7l2yLWIeCz3Ty6Q5a6LuVZQd11M3Z1zXQZDuR1mM2DlTuZw41wk1YiICEaPHs2aNWu46667eOONN2je3ING2olIvvCM5JLFfvG55g37xcfHmKsbJ14zR8QF1LKsf2nTpk0899xz7N69myeeeILp06dzyy23WFK2iHg+z0guYO7nsn2QdeU1D0ntwJbcSUxMZMmSJYwfP57Lly8zZswYRo8eTfHixe0OTazmwi8qUjB5TnIBcwfJTDYMc0qDqRl2YEvuXLp0iWnTpvHGG29Qvnx5pk+fTu/evfFxag8EcTupTayhycsw3djEWsMccBM41JzYK3Idz0ouYNZgfhlh7sfiTB+Mw8+cdNhkrmosLnL48GFeeOEFVq9eTdOmTfnvf/9LixYt7A5LnOXiwSHiHTzvq2WtgWZfScU25vvsht+mnK/YxrxPicVlatSowapVq/j2229JTEzk7rvv5rHHHuPo0aN2hyY5FRFi9m+e3mS+z+4LXMr505vM+yJCXBufeAzPq7lcL7nafviHeVQvl0TaUbF5HxkluZeUlMR7773Hiy++yPnz5xk5ciRjx47lppuc2Q5T8pVVzc63TzHnX4lX8+zkgjn/onTp0qxasYRHOzZUh6ObiYmJYcaMGcycOZNSpUoxbdo0+vXrp/4Yd5PJgJn+C+Dd7zO/7fgcqFImgxMaMOP1PD657Nixg6ZNm/Lzzz/TpEkTu8ORTBw7doyxY8fywQcf0KhRI9544w1atmxpd1gCWQ713xoOkafTHjMMGLoEqpWD/f/JpExvGOovWfL4r4/h4eEABAYG2hyJZOXWW29lxYoV/PDDD/j5+dGqVSseffRRDh/OfDM4ySfbh5gDZDJwVyA88c+0P9UrmJv0ZbkJXVKCWa54rQKRXMqXL0/JkiWzv1hs16JFC7Zu3cr777/Ptm3bqFu3Li+88AKXLl2yOzTvFB1mjgpzYuTlih/B4TA35cuUkWCWG30g7zGKRyoQyUW1Fs/i4+ND7969+e2333jxxReZM2cOgYGBLFq0KMNtpsWFwhc4teBpfAJ8tA1aBEK18tlc7PAzt+MWr+TxySUiIoJatTxwPxahePHiTJo0iUOHDtGhQwcGDx5Mo0aN2Lhxo92heY8ToU7VWtbvgXMx2TSJpTASzDXuxCt5fHJRzcXz3XLLLbz33nv89NNPFC9enLZt2/Lggw+m9qeJi8RfTp55n3MrfgR/X+iR07VKYyLNpWPE63h0crlw4QLnzp1TcikgmjVrxg8//MCHH37Irl27qF+/PiNHjuTixYt2h1YwpVs1O5vLY+HTndDhdiib4+lKhrkmmXgdj04uERHmf7RqFis4HA4HPXv25ODBg0yaNImFCxcSGBjI/PnzSUiwcMuF+Bi48CtE/WS+euO368RrTl2+ZkcORolZ8BwpGDw6uWgYcsFVtGhRxo8fT3h4OA888AD/93//R8OGDdmwIQ/770SHwY5n4LNasKoErLsDNtxpvq4qYR7f8Yx5XQFlGAZ//PEHoaGhLF32gVP3Lv8BAopA10ZOPtS3sJM3SEHg0ZMoX3nlFd566y1Onz6d/cXi0Xbu3Mlzzz3Hd999R+fOnZk5cyZ16tTJ2c1euhDj+fPn2bdvH3v37k3zGh0dDUClcgH8+d8YfHKwmejZS1B5ODx+F7w3zJkoHND9klbL8EJObrruXtSZ7z0aNWrE5s2b+fjjjxk9ejTBwcE8/fTTTJo0iTJlMlp/JNn1q2iD8wsxNp5jLpbqxq5evUpYWFi6RHLixAkA/P39qVOnDsHBwXTu3Jng4GCCgoKoWrUqjs8Dk/tesrZyGyQk5qJJLKCmEouX8uiay5133kmdOnVYunSp3aFIPoqNjWX27NlMmTIFPz8/Xn75ZYYNG4a/v3/aCwvYQowJCQlERkamq4lERESQlJQEmCtTBwUFpSaQ4OBgbrvttvS/mxQ7njHnomSTdO+aBIfPwIl54JvTxnSHn7lobJPZTnxKKSg8OrmULVuW559/nvHj7f8fX/Lf6dOnmThxIiEhIdx22228/vrrdOrUCYfD4dE7lxqGwZ9//pmaQFKSSFhYGNeumZ3jFSpUSJNAgoODqVevHgEBTtYSosNgbX0XfIpkncO0IrmX8tjkcv78ecqWLcvKlSvp0aOH3eGIjXbv3s1zzz3Hpk2b6NChA7OnPcdt4Q8S81csr30BP0XC9ki48BcsGQz9W6W9f9FGeP8HOHgCLl6ByqWhdV2Y9PB1s9BdtBDjhQsX2LdvX7pEkjL8unjx4ulqIkFBQVSoUMG6IDa2N5sBndl8LxvxibD9aHGSWq3jnnvusaxc8Rwe2+eiYciSokGDBnzzzTd89tlnjBo1it9XdaRmfQdRl2HyJ3BrWWhwK2zOZJmrXUehenlzFFTp4nDkLCzaBF/sgt3TzWSTuhDjvbkbrRYbG8uBAwfSJJC9e/fy559/AuDn50edOnUICgqiU6dOafpFXL49QbOFyasiW5dcfP0KM/O7WqyZ2JKBAwcyY8aMrPvGpMDx2JrL8uXLeeKJJ7h06ZI2oJJUcVG7KbShIQDX4s3aSqVSsOMwNJ2Ycc0lI78cgSYTYHpPGNv1uhPZNPMkJiYSGRmZriYSHh6e2i9SrVq1dE1at912G4UKFcr9B88rFzQjJlUfwNtvv83YsWMpVKgQr7/+Or179zabLaXA89iaS3h4OBUrVlRikTQK/b44dThxYX8zseRGtXLm68Ur1x1MWYixyWwMw+DkyZPpaiJhYWHExpr7opQrV47g4GA6dOjAqFGjCAoKon79+u7532ytgRB72poBEA2mQs2n8AGGDh1Kt27deO655+jTpw9Lly5l/vz5GuXpBTw6ueg/UEnHyYUYr3fuMiQmwbFzZnMaQNvr+7qNBM7sfo/uI3ezd+9eLly4AECxYsUICgqiYcOG9OnTJ7VWUrFixTx+mHwWNB6KVPx76LYzv0eHH/j4QZO56QY+3HzzzXz44Yf069ePp59+muDgYCZMmMDo0aMpXFgTLAsqj00uERER1KtXz+4wxJ3kYiHG61UZYTalAZQNgNl9oV1w2mvKFYmm2i3laN9+ZGqzVrVq1QrOts21BkKlts5POq3YJttJp506dWL//v1MnjyZV155hRUrVrBgwQLtSFpAeWxyCQ8Pp1u3bnaHIe7EyYUYb7RuNMTGw4ET5uixvzJYEsvHAe/OnQilG+b6OW4voLo5cCE6zNzv5cS6DH63DnOCZOVO5lyWHA43LlasGP/+97/p3bs3Q4YMoVWrVjz55JP85z//oWzZsi75OGIPj0wu586d48KFC2oWk7TyuEBim+QmsE4NoVtjCHrBXEtreHtrn+MxStb7ewJkfIy5unHiNXOtsIBaeZp5HxwczJYtW1i0aBEvvPACn332GbNmzaJPnz7q8C8gPLIur2HIkiELF0isWRHuqGYu1ujK53gM/wCztlauuflqwZIuPj4+DBkyhIMHD9KuXTv69evHfffdx6FDh/JcttjPI5NLymrISi6SRkAtwLpvvVfjIPrKjUcdyc8Rq1SqVIkVK1bw5ZdfcuTIEYKDg5k8eXLqagTimTw2uVSqVMk9h3SKffwDIKCGU7ckJJpzYW60PRL2/gFNbixOCzG6TIcOHdi3bx8jR47k1VdfpUGDBnz77bd2hyW55JF9LhqGLJmqfH+ahRjnboCLf8GJi+bpz3fB8fPmP4/oAIYB/xgBPe+E+rdA8cJmUlnyHZQsBhMfuq5sh5/ZgS0uU6xYMaZNm0avXr0YMmQIrVu3pn///rz22muUK1fO7vDECR45Q79Zs2YEBQXxzjvv2B2KuJsbFmKs9i84GpXxpUf+ay7tMuYD2BQGv581m8Iql4b7gmDCg9etLZZCCzHmm6SkJBYvXsyYMWPw9fVl1qxZ9O3bVx3+HsLjkothGJQpU4YxY8Ywbtw4u8MRd+SChRhx+JlzOXK5tpjk3unTp3n++edZsWIFrVu3ZsGCBdSuXdvusCQbHtfncu7cOS5evKhmMclcs4XmbHEr+fiZ5Uq+q1ixIsuXL2fDhg388ccf3H777bz88supy+yIe/Kc5BIfAxd+5dS+T2lQFWrXqGJ3ROKuAqqbO0haqclcj97yuCBo164de/fuZfTo0UybNo0GDRqwadMmu8OSTLh3s1jqDOHQ5GU9/g7VwIEjoIbZgRs41JzwJXI9q3aibDAV6r+Y93LEMvv372fo0KFs2bKFvn37MnPmTMqXv7GDTOzknskl5ojzaxtVapft2kbihSJCLF+IUdxDUlISS5YsYfTo0TgcDmbOnEn//v3z1uFv8UoE3sz9kkte/xg0nmMuvieSQl9WCrQzZ84wcuRI3n//fVq2bMmCBQuoW9eJEX1ZtJCYk2bVQpIb7pVcrGrGuH2KuXy4yPWuW4jRuBxB2i+4uVuIUdzH119/zbBhwzh69Chjx47lxRdfpEiRIpnfoC8dLuU+ycUFO+GpOUMys2j+G7w9aww/b9ui5o8C5OrVq0ybNo0ZM2ZQrVo15s+fT9u2bdNfqBYSl3OP0WIxR8x/0VnYeQS6zoIyg6HYAHPF2tlfZnHDjuFmuSIZuBLnQ9jJQpYuxCj2K1q0KK+++iq7d++mUqVK3HffffTt25ezZ8/+fdG+qeYX2cRY5+dCGQnmfdsHmeVIptwjuWwfYn6DyMSGPXDXy3Am2lyO480+0OWOv5fxyFBSglmuSAbi4+Pt3bNeXKpu3bps3ryZxYsXs3btWmrXrs3ixYtJCn87y6Z3p77E7pkAkYtd8wEKAPvXFosOM9s8M3HpCvRdAJ0bwup/QY43/DMSzHKjD6j9XNKJi4vD39/f7jDEhXx8fHjyySd54IEHGDVqFFPGDeSJmT4U8st47ewNe+CBWXBHVfNLbEBhiDyTzZfYHcOh4r3qg8mA/cklfEGWnWkrfoTT0TC1h5lY/oqFooVymGQcfuYihikbHokkU83Fe5QvX553332Xc6v343v1lwwTS66/xKa0kGhZoHTsbxY7EZplu+fX+6BEUfjzAtQeBQFPQYmBMOwdiI3LpmwjwdyiVeQGqrl4megwysb9gp9vxqcz+hKblJSDcq9vIZE07E0u8ZeTx5VnLvw0JCRBt9ehQzD871l4shUs+AYGvJ2DZ8REmhOjRK4TFxenmos3SWkhyUSevsSmtJBIGvY2i8VEknbCUgaXxMKVazC0LczuZx57uCnEJcDCjTD5UQislFUJhjnjtnRDi4KWgiA+Pl41F2+STQvJ9V9in2oF03vC5jCYswEuXoEPhmdRtlpIMmRvzSUx+21MiyZ/uXz8rrTHe7UwX7eGW/Mc8S6quXiRHLSQpHyJ7ftP80vsw03N1yH3wodbIfxUNs9QC0k69iYX38LZXlK5lPlasWTa4xWS32e0RW1uniPeRTUXL5KDFpK8f4lNbiGRVPYml4BaZDwo8G+Nk0f4/Xkh7fETye/L35TdQxzJzxH5m2ouXiQHLReWfIlVC0ka9iYX/wBzUbgs9LjTfF28Oe3xkE3g5wuts1tHLqCmZl9LOqq5eJEctFzk/Utszp7jTewfilz5/ixHcdxRzRwdtuJH6Dkb3voKesyGD7bC6M7mfueZcviZCxGK3EA1Fy+SgxaSPH+JVQtJOvZPogwcCoey3jVwwZNwa1lY8h18sgOqloM3noBns8sbRoK5wq3IDVRz8SIpLSQxkZlekvIl9p1vISERWtWFzQdg1U8wrms2X2JBLSQZsD+5lKxnLmN9elOmQwX9/WDSI+ZPThn44qh0r5Z+kQzFxcVRrFgxu8OQ/FL5fnMuShbDkXP9JVYtJBmyv1kMzP0RfKzLc4YBsXGJLA9vibvsKCDuRTUXLxM4NNsVkFO+xP7+JsS9B+Gv5yCxgFpIMuEeySWgurk/gkUcDlh1pCVPDJ1I+/btOXr0qGVlS8GgPhcvk9JCkkX/bq44/Mxy1UKSjnskFzA33rl9ijVlNZhK31e+Zf369fz2228EBwezaNEi1WIklWouXsjiFhLALK/ZQmvLLCDcJ7mAuTVxs0XgW8T5bxgOP/O+5iFQ/0UA2rdvz969e+nRoweDBw+mU6dO/PHHHy4IXDyNai5eyOIWEgCazNVy+5lwr+QCZg2mcxhUbGO+zy7JpJyv2Ma874atjUuWLElISAihoaHs27ePoKAglixZolqMl1PNxUtZ3EKirdQz537JBcxvAvdugM77zY6yDMepJ48rDxxmJpV7N2T5DaJTp07s27ePhx9+mCeffJIuXbrw559/uvRjiPtSzcWLWdxCIhlzGJ7yFT4+xly7J/GaORM2oFaux5V/8cUXDB48mCtXrjB79mz69OmDw5H1JCspWGrWrEmPHj2YPn263aGIXWKOmBt9nfoqyw0Lgb/PV2pn9rGoKSxb7llzyYh/gLlsfrnm5mseJix16dKFffv28cADD9CvXz+6devGyZMnLQtV3J9qLnJjC0lS8Zokpfuq7VwLifzNc5KLxcqUKcOyZctYs2YN27dvp379+ixfvlx9MV5CfS6SqmQ9aDKbE403U+Ip+D5gNrTfBp12QfdL0DXc3Cpdw42d4rXJJUW3bt3Yv38/HTt25IknnuDhhx/m9OnTdoclLqaai9woKiqKv65BkZvvtKSFxNt5fXIBKFu2LCtWrOB///sfP/zwA/Xr12flypWqxRRgcXFxqrlIGlFRUQCUK1fO5kgKBiWX6zz88MPs37+ftm3b8thjj9G9e3fOnDljd1jiAvHx8aq5SBpnz54FoHz58jZHUjAoudygfPnyrFy5kpUrV7J582bq16/P6tWr7Q5LLGQYhmoukk5UVBSFCxemePHidodSICi5ZKJHjx7s37+fli1b0r17dx577LHUarN4tsTERADVXCSNs2fPUq5cOU1LsIiSSxYqVqzI6tWr+eCDD/jqq6+oX78+n3zyid1hSR7FxcUBqOYiaURFRalJzEJKLtlwOBw89thj7N+/nzvvvJOHH36Y3r17c+7cObtDk1yKj48HVHORtKKiotSZbyEllxyqVKkSa9asYdmyZYSGhhIUFMRnn31md1iSC6q5SEZSmsXEGkouTnA4HDzxxBPs37+fxo0b061bN/r27cuFCxfsDk2coJqLZETNYtZScsmFypUr8/nnn7NkyRI+++wzgoKCWLt2rd1hSQ6l1FyUXOR6ahazlpJLLjkcDvr378++ffu4/fbb6dKlC08++SQXL160OzTJRkrNRc1iksIwDCUXiym55NEtt9xCaGgoISEhrF69mqCgIL788ku7w5IsqOYiN4qOjiYhIUHNYhZScrGAw+HgqaeeYt++fdSrV49OnToxaNAgLl26lPtC42Pgwq8Q9ZP5Gh9jVbheTzUXuZGWfrGexRtKe7dbb72V9evXs2jRIkaOHMn69etZvHgx7dq1y1kB0WEQvgBOhELMYeD6tc0cEFADKt8PgUPNlVwlV1RzkRtp6RfrqeZiMYfDweDBg9m7dy+BgYG0b9+eoUOHcvny5cxvijkCG9vD2voQPh9iIkmbWDDfx0Sa59fWN6+POeLKj1JgqeYiN1LNxXpKLi5SrVo1vvrqK+bNm8f7779PcHAwGzduTH9hRAisrQenN5nvs9oN7/rzpzeZ90WEWBu4F1DNRW6UklzKli1rcyQFh5KLC/n4+PD000+zZ88eqlWrRtu2bRk+fDgxMcn9J/umwvZBkBibfVK5kZFg3rd9kFmO5JhqLnKjs2fPUqpUKf03YSH1ueSDGjVqsHHjRubNm8cLL7xAaGgo6+Y+Qu2LM9Nd238BvPt95mUdnwNVytxwcM8EKFoJaj5lbeAFlGouciMNQ7aekks+8fHxYcSIEXTq1IkXn3mcW8/MxPCHGxdgHdIW7gtKe8wwYOgSqFYug8SSYsdwqHiv9vfOAS3/IjdScrGekks+q1WrFitHlsI45YPDkZTu/F2B5s/1tvwGV65B77uzKDgpAbYPgXs3WBtwAaTlX+RGZ8+e1Ugxi6nPJb9Fh+E4/TU+GSSWzKz40azh9GqRxUVGApz6CqIP5D3GAk41F7mRai7WU3LJb+ELwJHzCmN8Any0DVoEQrXsvlg5/MyhypIldejLjZRcrKfkkt9OhDo1Mmz9HjgXk02TWAojAU6sy31sXiIuLg4fHx98fX3tDkXchJrFrKfkkp/iLyfPvM+5FT+Cvy/0aJ7DG2IitVRMNuLj49XfIqni4+OJjo5WzcViSi75KcOZ91lcHguf7oQOt0PZm3J6lwExEbmJzmvExcWpSUxSpewqq5qLtZRc8lPiNacuX7MjB6PELHiOt1HNRa6Xsq6Yai7W0lDk/ORb2KnLl/8AAUWgayPnHjPi2VEUuflO6tatm/pTqlQp5wopqOJjKM1RmtU0zNWmA2qBf4DdUYmNtK6Yayi55KeAWoCDnDSNnb0EX++Hx++CYk7kJMOAE5eLsevH//H7779jGOazKlWqRL169dIknLp161KpUiUcN87kLGhuWG16yK0GQ/4FrLsDrTYtWhHZNZRc8pN/gPmHLCYy20tXboOEROebxBw31eJ/n64H4MqVKxw6dIgDBw6k/mzatIm33347dThuyZIl0yWcunXrUq1aNc8fTRVzxJxYeuorc5h2hqP0rltt+tAcqNQOmi3USgdeJCoqCj8/P0qUKGF3KAWKkkt+q3y/+Ycsm+HIy3+ACiXSLwWTJYcfVO6U+rZYsWI0bNiQhg0bprksPj6ew4cPp0k6e/fu5aOPPuKvv/4CoEiRItSuXTtd0gkMDKRwYeea92wREQK/jDBXLgDnV5tuPAdqDXRtjOIWUua4FPgafD5zGCntJpI/osPM/VhcpXMYlKybq1sNw+D48eMcOHCAsLCwNMknpV3a19eXGjVqpGtiq1OnDjfdlOMhba61b6q5mGde3T4FgsbnvRxxayNGjODbb79lz549dodSoCi52GFje/MbsrPL7GfF4QcV27hsbbGoqKg0ySbl59ixY6nX3HLLLelqOvXq1cvftuyIEGK+G8RrX8BPkbA9Ei78BUsGQ/9Wmd8WnwANxsGBE/BaLxjVOflE8xCtNl3APf7445w+fTrj/ZYk19QsZodmC82ml0QLk4uPn1mui5QrV4577rmHe+65J83xmJgYDh48mCbhrF+/nnnz5pGYmAiYGzBl1K/zj3/8Ax8fC0fDxxyBX0YQdRkmfwK3loUGt8LmHCy3NmcDHDuXwQmtNl3gaekX11BysUNAdbNNf/sg68psMteWP4ABAQE0adKEJk2apDkeFxdHREREmia2n3/+mffff5+rV68CZp9QnTp1Ums4KUmnZs2auZvkuH0IJCVwcyk4OQ8qlYIdh6HpxKxvOxNtJqMXHoCXVt9wUqtNF3hnz57ltttuszuMAkfJxS61BkLsaWv6BhpMdbumm0KFClGvXj3q1avHI488kno8KSmJo0ePpmteCw0N5cKFCwD4+fkRGBiYrqZTp04dihUrlvEDo8PMUWFAYX8zseTU2JVQ+2Z44u4Mksv1q03nsi9L3JtqLq6h5GKnoPFQpOLfo5qc6YNx+JlNYU3mul1iyYqPjw/Vq1enevXq3H///anHDcPg9OnT6ZLOkiVLOHHiBAAOh4OqVatm2MRW5vCCLIYbZ257JLz7HWyZlH7jtlQpq003mZ3bjy3uKD4G43I41UucoW6la+aafJpQaxl16LuDHM3HSJZy3ovmY0RHR6f261w/iu3IkSMkJZn74hx+05fq5RLT3ZvSLJZRh75hwJ2ToGYFWDEcfj8L1Z+9oUM/RUAt6Brumg8o+eeGCbVpJzRrQq2VVHNxBwHVzTb91P/w12WwyKUDAmqa81gCh3lVE03JkiVp3rw5zZunXRo6NjaWQ4cOER62k2qJA5wud+l3sPcPWP2vHFycstq0vtl6Jk2ozXdKLu6kZL2/m17iY8zVjROvmWuSaQ2sdIoUKcLtt9/O7f9IAie3sbl0BcathNGd4R9lc3JH8mrTpRvmIlKxlSbU2kLJxV35B+gPWU7lYhXomaEQlwA97zSbwwCOnzdfL/xlHqtcGgpd/3+IVpv2PHmZUGskmNMFtg8yB99oQq1TlFzE8zm52jTAsSgzidR/If25aZ+aP7umQsNqeXuO2CgiJMPE0n8BvPt95rcdnwNVytxwcM8EKFrJowbP2E3JRTyfE6tNp3imAzyYdmoOZy7BkMXQvyV0awzVK1x/1pH8HPEIyRNqMzKkbfo1+wwDhi6BauUySCwpNKHWKUou4vkyWG167ga4+BecuGi+/3zX381eIzpAo+rmz/VSmsfq35I+8RBQU31eniR5Qm1G7go0f6635bccbMynCbVOUXKRguGG1aZnroWjUX+f/vhn8wfgiX9CyUzmYmbohtWmxc1dN6E2p1b8aM5z6tUii4s0odYpmuciBYMbrzYt+WzHMzna1iJFfALc/H9Qp7I5mTZLDj9zKoAm1GbLwlUDRWxUsp45L8FhbWXcwNcsV4nFc5wIdWqlhvV74FxMDjfmMxLMeWiSLSUXKTiaLTSXxLGIYUBsXCJLw+5CFXwPEX85eeZ9zq34Efx9oUfz7K8F/p5QK1lScpGCI2W1aYs4HPDpn/cxYMRkevbsyaVLlywrW1wk3coW2VweC5/uhA63Q9kc73WXPKFWsqTkIgVLrYHmDpJWaDCVx8Z/xerVq1m/fj1NmjTRboXuzsmJrmt25GCUmAXP8UZKLlLwBI2HZovAt4jzfTAOP/O+5iFQ/0UAHnnkEXbs2EHRokVp3rw5S5YscUHQYgknJ7ou/wECikDXRq59jjdScpGCqdZAc4RXxTbm++ySTMr5im3M+26YiR0YGMi2bdvo3bs3Tz75JE8++SRXrlxxQeCSJ6kTarN39hJ8vR8eagLFnMoVmlCbE0ouUnClrDbdeb85fDTDPzzJfygCh5lJ5d4Nmc7ALlq0KCEhISxdupQPP/yQO++8k0OHDrn8Y4gTUibU5sDKbZCQmIsmMU2ozRHNcxHvYtFq03v37uXRRx/l5MmTLF68mO7du7sgWMmVHM5zuWsSHD4DJ+aBb06/ZmueS44puYjk0qVLlxg0aBAfffQRzzzzDK+99hqFChWyOyzRhFq3oGYxkVwqUaIEH374IXPmzGH+/Pm0bNmSY8eO2R2WuGhCLQ4/Tah1gpKLSB44HA6GDx/Oli1bOHnyJHfccQfr1mkGt+2aLSQRHyxtl/HxMyfqSo4ouYhYoFmzZuzcuZM777yT+++/nwkTJpCYmGh3WF7r21+O8cy75kRYyzSZq+X2naDkImKRsmXL8vnnnzNt2jSmT59Ou3btOHXqlN1heZ1vvvmGTp06cSixJXF1s1uJMocaTNVGYU5Sh76IC2zevJnHHnsMh8PBhx9+SKtWrewOySts2LCBbt260bp1az7++GOKFi1q7kj5ywhzPxYnFrTE4Wc2hTWZq8SSC6q5iLhA69at2bVrF7Vr1+bee+9lxowZJCUl2R1WgRYaGkrXrl1p27Ytn3zyiZlYwPIJtZIzqrmIuFBCQgIvvfQS06dPp0uXLrz77ruUKZPZPrqSW59//jmPPvoonTp14qOPPsp8SHh0GIQvMJfNT7fIpcOcIFm5kzmXRaPC8kTJRSQfrF27lj59+lCiRAlWrVpF06ZN7Q6pwPjkk0/o0aMH3bp144MPPsDf3z9nN1o0oVYypmYxkXzQuXNndu3aRYUKFfjnP//JvHnztEeMBVatWkX37t155JFHnEssYCaS0g2hXHPzVYnFUkouIvmkatWqfP/99wwePJjhw4fTq1cvLl++bHdYHuuDDz7g8ccf57HHHuP99993LrGIy6lZTMQGK1euZODAgVSpUoXVq1cTFBRkd0geZdmyZfTv358+ffqwePFifH197Q5JbqCai4gNevbsyY4dO/D396dZs2a89957dofkMd555x369evHgAEDeOedd5RY3JSSi4hNateuzU8//USPHj3o168fgwcPJjY21u6w3Nrbb7/NU089xZAhQ3j77bfx8dGfMHelZjERmxmGwTvvvMPw4cOpU6cOq1evpmbNmnaH5XbmzZvH8OHDGT58OLNnz8Zh6douYjWlfRGbORwOnnrqKbZt20ZMTAyNGjXi448/tjsst/Lmm28yfPhwnnvuOSUWD6HkIuImGjRowI4dO2jXrh2PPPIII0eOJD4+3u6wbDdz5kyeffZZxowZw6xZs5RYPISaxUTcjGEYvPnmm4wePZpmzZqxcuVKbrnlFrvDssX06dN58cUXGT9+PK+++qoSiwdRchFxU1u3bqVHjx7ExsayfPly2rdvb3dI+erVV1/lpZde4uWXX+all15SYvEwahYTcVN33XUXu3btonHjxnTs2JFJkyZ5xR4xhmEwadIkXnrpJaZMmcKkSZOUWDyQai4ibi4pKYmpU6cyadIk2rZty/Lly6lQoYLdYbmEYRiMHz+e6dOnM2PGDMaMGWN3SJJLSi4iHuKbb76hV69e+Pn5sXLlSv75z3/aHZKlDMNgzJgxzJw5k9dff53nnnvO7pAkD9QsJuIh2rZty65du6hZsyatW7dm5syZBWbxS8MweO6555g5cyazZ89WYikAlFxEPEjlypXZuHEjI0eOZPTo0Tz88MNcvHjR7rDyJCkpiREjRvDmm28yf/58RowYYXdIYgE1i4l4qM8++4x+/fpRpkwZVq1aRaNGjewOyWlJSUkMGzaMRYsW8fbbbzNw4EC7QxKLqOYi4qG6du3Kzp07KV26NC1atGDhwoUe1UyWmJjIoEGDWLRoEUuWLFFiKWCUXEQ8WPXq1dmyZQtPPvkkQ4cOpU+fPsTExNgdVrYSExMZMGAAS5cuZdmyZfTr18/ukMRiahYTKSBWrFjB4MGDufXWW/nf//5H3bruuQd8QkICffv25aOPPmL58uX07NnT7pDEBVRzESkgevXqxc8//4zD4aBp06asWLHC7pDSiY+Pp1evXqxatYoPP/xQiaUAU3IRKUDq1q3L9u3beeihh+jduzfDhg1zmz1i4uLi6NmzJ2vWrGHVqlU8+uijdockLqRmMZECyDAMFi1axIgRIwgKCmL16tVUr17dtniuXbtG9+7dWb9+Pf/73//o0qWLbbFI/lDNRaQAcjgcDB48mK1bt3LhwgUaNWrEZ599ZksssbGxPPzww2zYsIFPP/1UicVLKLmIFGCNGjVi586dtG7dmm7dujFmzJh83SPm6tWrdOvWjY0bN/L555/TsWPHfHu22EvNYiJewDAMXn/9dV544QXuuusuVq5cSeXKlZ0rJD4GYiIg8Rr4FoaAWuAfkOnlV65coWvXrmzdupUvvviCNm3a5PFTiCdRchHxIlu2bKFnz54kJCSwYsUK2rZtm/UN0WEQvgBOhELMYeD6PxcOCKgBle+HwKFQsl7qmZiYGLp06cKOHTsIDQ2lZcuWLvk84r6UXES8zJkzZ+jduzfffPMNr7zyCuPHj8fH54YW8pgjsH0InPoKHH5gJGReYMr5Su2g2UIuG+W4//772b17N19++SUtWrRw7QcSt6TkIuKFEhMTefXVV5k8eTLt27fn/fffp1y5cubJiBD4ZQQkJWSdVG7k8MNw+DH9q8r853/nWL9+Pc2bN3fNBxC3p+Qi4sU2bNhA7969KVKkCB999BF33bQR9kzIdXmGAQ4H/Fl2GFU6vGVhpOJplFxEvNzx48fp2bMnQUW3MatXEq99AT9FwvZIuPAXLBkM/Vtlfn98AjQYBwdOwGu9YFTn5BPNQ6DmU/nyGcT9aCiyiJe75ZZb2Lx2CXP7Ozh7CSZ/Agf+hAa35uz+ORvg2LkMTuwYbvbdiFdSchER/HcOx9/XQeXScHIeHJ1t1kKycybaTEYvPJDByaQEc1CAeCUlFxFvFx1mjgozEijsD5VK5fzWsSuh9s3wxN0ZnDQSzHKjD1gVqXgQJRcRbxe+wBxO7KTtkfDud/DfPmYnfoYcfhA+P2/xiUdSchHxdidCnRtyjDkqbMS70PNOuCswqwsT4MS6vMUnHknJRcSbxV9OnnnvnKXfwd4/YMbjObg4JtJcOka8ipKLiDeLiSTtki7Zu3QFxq2E0Z3hH2VzcodhrkkmXsX5hlYRKTgSrzl9y8xQiEswm8R+P2seO37efL3wl3mscmkodP1fl1w8RzybkouIN/Mt7PQtx6LMJFL/hfTnpn1q/uyaCg2r5e054tmUXES8WUAtwIEzTWPPdIAHm6Q9duYSDFkM/VtCt8ZQvcL1Zx3JzxFvouQi4s38A8xl82MiUw/N3QAX/4ITF833n+/6u9lrRAdoVN38uV5K81j9W9InHgJqZrnvixRMSi4i3q7y/eZclOThyDPXwtGov09//LP5A/DEP6FkMSfKdvhB5U7WxSoeQwtXini76DBYW9915XcOg5J1XVe+uCUNRRbxdiXrmRt95WKWfpYcfma5SixeSclFRKDZQvCxOLn4+JnlildSchERCKgOjedYW2aTuWa54pWUXETEVGsg3D7FmrIaTNVGYV5OHfoiklZECPwywtyPxZkFLR1+ZlNYk7lKLKLkIiIZiDlibvR16iszaWSRZJIMH3wcScSWbkmRe5aqKUwANYuJSEYCqsO9G6Dzfggcdt1M/uuZM+/jqw+i2eQAJnzTVIlFUqnmIiI5Ex9jrm6ceM1cKyygVurM+/Hjx/Pmm29y7NgxypQpY3Og4g6UXEQkz86cOUPVqlUZN24cL730kt3hiBtQchERSwwfPpwPP/yQo0ePUrx4cbvDEZupz0VELDFq1CguXrxISEiI3aGIG1DNRUQs07dvXzZt2kRkZCSFChWyOxyxkWouImKZF154gePHj7N8+XK7QxGbqeYiIpZ68MEHOXjwIPv378fX19fucMQmqrmIiKXGjh3Lb7/9xpo1a+wORWykmouIWK5NmzZcvnyZn3/+GYfjxsmX4g1UcxERy40bN45ffvmFb775xu5QxCaquYiI5QzDoEmTJpQqVUoJxkup5iIilnM4HIwbN46NGzeyfft2u8MRG6jmIiIukZiYSL169ahXrx6ffPKJ3eFIPlPNRURcwtfXlzFjxrBmzRrCwsLsDkfymWouIuIycXFx1KhRg/vuu4+lS5faHY7kI9VcRMRlChUqxMiRI1m+fDnHjh2zOxzJR0ouIuJSgwYNokSJEsycOdPuUCQfKbmIiEsFBATwzDPPEBISwtmzZ+0OR/KJkouIuNzw4cPx8fHhzTfftDsUySdKLiLicmXLlmXw4MHMnTuXS5cu2R2O5AMlFxHJF88//zxXrlxh4cKFdoci+UBDkUUk3wwcOJC1a9dy5MgRihQpYnc44kKquYhIvhkzZgynT5/m3XfftTsUcTHVXEQkX/Xo0YNffvmF3377DT8/P7vDERdRzUVE8tXYsWM5fPgwq1atsjsUcSHVXEQk33Xo0IFTp07x66+/ajOxAko1FxHJd+PGjWPPnj2sW7fO7lDERVRzEZF8ZxgGLVq0wM/Pj++//97ucMQFVHMRkXyXspnYli1b2LJli93hiAuo5iIitkhKSiI4OJhq1aqxdu1au8MRi6nmIiK28PHxYezYsYSGhrJ79267wxGLqeYiIraJj48nMDCQFi1asGLFCrvDEQup5iIitvH392f06NGsXLmSyMhIu8MRC6nmIiK2unr1KtWqVeOhhx5iwYIFdocjFlHNRURsVbRoUZ599lmWLFnCyZMn7Q5HLKLkIiK2GzZsGIULF+aNN96wOxSxiJKLiNiuVKlSPP3008yfP58LFy7YHY5YQMlFRNzCs88+S3x8PG+99ZbdoYgF1KEvIm7j6aefZtWqVRw9epRixYrZHY7kgWouIuI2Ro8ezYULF1i8eLHdoUgeqeYiIm6ld+/ebNmyhYiICPz9/e0OR3JJNRcRcStjx47l2LFjmrHv4VRzERG388ADDxAZGcm+ffvw8dF3YE+kf2si4nbGjRvHgQMH+Oyzz+wORXJJNRcRcUutWrUiNjaWbdu2aStkD6Sai4i4pbFjx7J9+3Y2bdpkdyiSC6q5iIhbMgyDRo0aUa5cOb766iu7wxEnqeYiIm7J4XAwduxYvv76a3bs2GF3OOIk1VxExG0lJiZSp04dGjRowOrVq+0OR5ygmouIuC1fX1/GjBnDxx9/zMGDB+0OR5ygmouIuLVr165RvXp1OnbsyDvvvGN3OJJDqrmIiFsrXLgwzz//PMuWLeOPP/6wOxzJISUXEXF7Q4YM4aabbmLWrFl2hyI5pOQiIm7vpptuYvjw4SxatIioqCi7w5EcUHIREY/wzDPPADBnzhybI5GcUHIREY9Qrlw5Bg0axJw5c7h8+bLd4Ug2lFxExGM8//zzXL58mbfffvvvg/ExcOFXiPrJfI2PsSs8uY6GIouIRxkwYABHfl3L1wu643d6PcQcBq7/M+aAgBpQ+X4IHAol69kVqldTchERzxFzhJhNTxBw+UeSDB98HEmZX+vwAyMBKrWDZgshoHr+xSlKLiLiISJC4JcRkJRgJo2ccviBjx80ngO1BrouPklDfS4i4v72TYXtgyAx1rnEAub1ibHm/fumuiY+SUc1FxFxbxEhsH0QMbHw2hfwUyRsj4QLf8GSwdC/VdrLt0fC0u/gpwjY8wckJIKx/LoLmodAzafy9SN4I9VcRMR9xRwxm8KAqMsw+RM48Cc0uDXzW0J/hZBN4HBAjQoZXLBjuFmuuJSSi4i4r+1DzD4W4OZScHIeHJ0Nr/XK/JZh90F0COyYAu2CMrggKcEsV1xKyUVE3FN0GJz6KrWPpbA/VCqV/W0VS0LRQllcYCSY5UYfsCRMyZiSi4i4p/AF5kgvV3D4Qfh815QtgJKLiLirE6HOjwzLKSMBTqxzTdkCKLmIiDuKv5w8896FYiK1VIwLKbmIiPuJiSTtki6uYEBMhIuf4b2UXETE/SReK1jP8UJKLiLifnwLF6zneCElFxFxPwG1AIeLH+JIfo64govG+YmI5IF/gLlsfkxkmsNzN8DFv+DERfP957vg+Hnzn0d0gJLF4OhZWLbFPLYjeUzAlE/M16rloM89yYUF1DSfIy6htcVExD3teMaci3LdcORq/4KjURlffuS/UK08bA6DNpmsT9mqLmyegDnPJXAYNJltedhiUnIREfcUHQZr67uu/M5hULKu68r3cupzERH3VLKeudGXxbP04xNhz9lKXEiqZGm5kpaSi4i4r2YLzY2+LGIADh9/+sz+i6CgIL788kvLypa0lFxExH0FVDd3kLSIA/C7cz5rvw0jODiYTp06MWTIEC5fvmzZM8Sk5CIi7q3WQLh9ijVlNZgKNZ/illtuYd26dSxYsIDly5fToEEDvvvuO2ueIYCSi4h4gqDx0GwR+BZxvg/G4Wfe1zwE6r/492GHgyFDhrB7926qVKlC69atef7557l69arFwXsnjRYTEc8Rc8Tc6OvUV2bSyGrV5JTzldqZfTcB1TO9NDExkf/+97+MHz+e6tWr895779G0aVMXfADvoeQiIp4nOgzCF3Dt9zX4X/sDnzST+R3mBMnKncy5LE4MNw4LC6Nv3778+uuvvPjii0yYMIFChbLaeUwyo+QiIh7r448/pm+vRzi2/xvKlCxurhUWUCtPM+/j4+OZPn06r776KsHBwbz77rsEBwdbGLV3UJ+LiHisQ4cO4VekJKVrtIFyzaF0wzwv6eLv789LL73Etm3biIuLo0mTJsyYMYPExERrgvYSSi4i4rHCw8MJDAzE4bB+kcvGjRuzY8cOnn32WcaNG8c999xDeHi45c8pqJRcRMRjHTp0iNtuu81l5RcpUoQZM2bw/fffc+bMGRo2bMi8efNISkpy2TMLCiUXEfFYKTUXV7v77rvZvXs3/fv3Z/jw4XTo0IFjx465/LmeTMlFRDzSpUuXOH36tEtrLtcrXrw48+bNY8OGDRw8eJDg4GCWLl2KxkRlTMlFRDxSSv9HftRcrteuXTv27t3LQw89xIABA3jwwQc5depUvsbgCZRcRMQj2ZVcAEqVKsXSpUv55JNP2LZtG0FBQaxevTrf43BnSi4i4pEOHTpE+fLlKVWqlG0xPPjgg+zbt4/WrVvTvXt3evXqxfnz522Lx50ouYiIR8qvzvzslC9fnlWrVrF8+XLWrVtHUFAQoaGhdodlOyUXEfFI4eHh+daZnx2Hw0GvXr3Yt28fDRo0oHPnzgwaNMirl/JXchERj3To0CG3qLlcr0qVKoSGhrJw4UI++OADbr/9djZv3mx3WLZQchERj3Pu3DkuXLjgNjWX6zkcDgYPHsyePXu49dZbadOmDc8991zelvKPj4ELv0LUT+ZrfIxV4bqMFq4UEY+zdetWWrRowa+//kqDBg3sDidTSUlJvPnmm4wbN45q1arx3nvv0axZs5zdnLzyMydCIeYw5ibNKRwQUAMq3w+BQ6FkPVeEnyequYiIx0kZhlyrVi2bI8maj48Pzz33HLt27eKmm27irrvuYsKECcTFxWV+U8wR2Nge1taH8PkQE0naxIL5PibSPL+2vnl9zBFXfhSnKbmIiMc5dOgQVapUoXjx4naHkiN169Zl69atvPzyy8yYMYNmzZqxZ8+e9BdGhMDaenB6k/k+q83Qrj9/epN5X0SItYHngZKLiHgcdxmG7Aw/Pz8mTpzI9u3bSUxMpEmTJvz73/8mISE5QeybCtsHQWJs9knlRkaCed/2QWY5bkDJRUQ8jjsNQ3bWHXfcwY4dO3j++ecZP34899xzD6d+mAp7JqS7dv9x6P4m1HgWig2AckOg5WT4fGcWD9gzASIXuyz+nFJyERGPYhiGWw5DdkbhwoX597//zffff0+RhJOUDJ9ARkOrjkbB5Vjodw+82QcmPmQe7zoL3t6YxQN2DLe9D0ajxUTEo5w8eZLKlSvz6aef0rVrV7vDybOEr9riOLMJX0fO/hQnJkHj8RAbDwdnZnKRww8qtoF7N1gXqJNUcxERj3Lo0CHAngUrLRcdht/ZjTlOLAC+PvCPsnDxShYXGQlw6iuIPpD3GHNJyUVEPEp4eDg+Pj7UqFHD7lDyLnyBWcvIxl+xEHUZIk/DG+tg3W5oWz+bmxx+5lBlm2T/qURE3MihQ4eoWrUqhQsXtjuUvDsRmqORYSOXw8LkPhYfBzzcFOb2z+YmIwFOrMtziLml5CIiHsUThyFnKP5y8sz77D3bCR5tDicuwEfbzH6XuJyMVo6JNJeK8Q/IW6y5oGYxEfEonjwMOY0MZ95nrE5luC8I+t4DX4yGmFh4YCYZjjBLy4CYiLxGmitKLiLiMZKSkoiIiCgYNZfEa7m+9dHm8PNhOHTStc/JCyUXEfEYf/zxB9euXSsYNRff3PcZXU1emiw6Jwst5+E5eaHkIiIeo0ANQw6oBTiyvORMdPpj8Qnw3vdQtBDUq5LdQxzJz8l/6tAXEY8RHh6Ov78/VatWtTuUvPMPMJfNj4nM9JIh78Clq9CyNlQpA6cuwvIf4eAJmNUbAopk84yAmrZ05oOSi4h4kPDwcGrUqIGfXwH501X5fnMuSibDkXveCYs3w/xv4FwM3FQEGleHGY9B18bZlO3wg8qdLA85p7T8i4h4jM6dO+Pr68tnn31mdyjWiA4z92Nxlc5hULKu68rPgvpcRMRjFJg5LilK1oNK7XI0S98pDj+zXJsSCyi5iIiHiI+P5/DhwwUruQA0Wwg+FicXHz+zXBspuYiIR/j9999JTEwsGMOQrxdQHRrPsbbMJnPNcm2k5CIiHqFADUO+Ua2BcPsUa8pqMBVqPmVNWXlQQIZciEiBFB9jLl+SeI2LRzZTrlQRqlTJdnKHZwoaD0Uqwi8jICnBua2OHX5mU1iTuW6RWECjxUTE3USHmUvRnwhNXtjx7z9RSQb43FTTHMIbONTsEC9oYo7A9iHmfiwOv6yTTMr5Su3MPhabm8Kup+QiIu6hgPxRtUxqkl2XwSKXDnOCZOVOEDjM1lFhmVFyERH7RYTkrTmo8Ryz36Kguq55EN/C5pIuNs28zyklFxGx176psGdC3su5fYrZbyFuQclFROwTEQLbB6U7vP84vPw/+OUInIqGYsmLNI7uAg80yqK85iFu06Ht7TQUWUTsEXPEbArLwNEouBwL/e6BN/vAxIfM411nwdsbsyhzx3CzXLGdai4iYo+N7eH0phz3sSQmQePxEBsPB2dmcpHDDyq2gXs3WBen5IpqLiKS/6LDzFFhTnTe+/rAP8rCxStZXGQkmOVGH8h7jJInSi4ikv/CF+Rosca/YiHqMkSehjfWwbrd0Da7RYQdfuYy9mIrzdAXkfx3IjRHtZaRy2Fhch+LjwMebgpz+2dzk5Fgzg0RWym5iEj+ir+cPPM+e892gkebw4kL8NE2s98lLictaTGR5twQN58LUpCpQ19E8teFX2HdHbm6tf10s8/lp8ngyHr7eei0C0o3zNVzJO/U5yIi+SvxWq5vfbQ5/HwYDp107XMk75RcRCR/+RbO9a1X48zX6KuufY7knZKLiOSvgFpA1m1aZ6LTH4tPgPe+h6LJs/Wz5kh+jthFHfoikr/8AyCgRvJKvxkb8g5cugota0OVMnDqIiz/EQ6egFm9IaBINs8IqKnOfJspuYhI/qt8vzkXJZPhyD3vhMWbYf43cC4GbioCjavDjMega+Nsynb4mUvRi600WkxE8l90GKzNbjZkHnQOc8s9TryJ+lxEJP+VrGdu9JWDWfpOcfiZ5Sqx2E7JRUTs0WyhudGXlXz8zHLFdkouImKPgOrmDpJWajK3YG557IGUXETEPrUGmjtIWqHBVG0U5kbUoS8i9osIMTcOS0pwahl+HH5mU1iTuUosbkbJRUTcQ8wR2D7E3I/F4Zd1kkk5X6md2ceipjC3o+QiIu4lOszc7+XEuuSJltf/iXKYEyQrd4LAYRoV5saUXETEfcXHQEyEuQilb2FzSRfNvPcISi4iImI5jRYTERHLKbmIiIjllFxERMRySi4iImI5JRcREbGckouIiFhOyUVERCyn5CIiIpZTchEREcspuYiIiOWUXERExHJKLiIiYjklFxERsZySi4iIWE7JRURELKfkIiIillNyERERyym5iIiI5ZRcRETEckouIiJiOSUXERGxnJKLiIhYTslFREQsp+QiIiKWU3IRERHLKbmIiIjllFxERMRySi4iImK5/wdUPJcX3YnWAAAAAABJRU5ErkJggg==\n"
                },
                "metadata": {}
              }
            ]
          }
        },
        "72bc7a3dba7342b094666dd459d669ee": {
          "model_module": "@jupyter-widgets/base",
          "model_name": "LayoutModel",
          "model_module_version": "1.2.0",
          "state": {
            "_model_module": "@jupyter-widgets/base",
            "_model_module_version": "1.2.0",
            "_model_name": "LayoutModel",
            "_view_count": null,
            "_view_module": "@jupyter-widgets/base",
            "_view_module_version": "1.2.0",
            "_view_name": "LayoutView",
            "align_content": null,
            "align_items": null,
            "align_self": null,
            "border": null,
            "bottom": null,
            "display": null,
            "flex": null,
            "flex_flow": null,
            "grid_area": null,
            "grid_auto_columns": null,
            "grid_auto_flow": null,
            "grid_auto_rows": null,
            "grid_column": null,
            "grid_gap": null,
            "grid_row": null,
            "grid_template_areas": null,
            "grid_template_columns": null,
            "grid_template_rows": null,
            "height": null,
            "justify_content": null,
            "justify_items": null,
            "left": null,
            "margin": null,
            "max_height": null,
            "max_width": null,
            "min_height": null,
            "min_width": null,
            "object_fit": null,
            "object_position": null,
            "order": null,
            "overflow": null,
            "overflow_x": null,
            "overflow_y": null,
            "padding": null,
            "right": null,
            "top": null,
            "visibility": null,
            "width": null
          }
        },
        "7fc8c3f0f63241059f1c05f662e3f680": {
          "model_module": "@jupyter-widgets/base",
          "model_name": "LayoutModel",
          "model_module_version": "1.2.0",
          "state": {
            "_model_module": "@jupyter-widgets/base",
            "_model_module_version": "1.2.0",
            "_model_name": "LayoutModel",
            "_view_count": null,
            "_view_module": "@jupyter-widgets/base",
            "_view_module_version": "1.2.0",
            "_view_name": "LayoutView",
            "align_content": null,
            "align_items": null,
            "align_self": null,
            "border": null,
            "bottom": null,
            "display": null,
            "flex": null,
            "flex_flow": null,
            "grid_area": null,
            "grid_auto_columns": null,
            "grid_auto_flow": null,
            "grid_auto_rows": null,
            "grid_column": null,
            "grid_gap": null,
            "grid_row": null,
            "grid_template_areas": null,
            "grid_template_columns": null,
            "grid_template_rows": null,
            "height": null,
            "justify_content": null,
            "justify_items": null,
            "left": null,
            "margin": null,
            "max_height": null,
            "max_width": null,
            "min_height": null,
            "min_width": null,
            "object_fit": null,
            "object_position": null,
            "order": null,
            "overflow": null,
            "overflow_x": null,
            "overflow_y": null,
            "padding": null,
            "right": null,
            "top": null,
            "visibility": null,
            "width": null
          }
        },
        "db895fc2b8594990818506b5550af37b": {
          "model_module": "@jupyter-widgets/controls",
          "model_name": "SliderStyleModel",
          "model_module_version": "1.5.0",
          "state": {
            "_model_module": "@jupyter-widgets/controls",
            "_model_module_version": "1.5.0",
            "_model_name": "SliderStyleModel",
            "_view_count": null,
            "_view_module": "@jupyter-widgets/base",
            "_view_module_version": "1.2.0",
            "_view_name": "StyleView",
            "description_width": "",
            "handle_color": null
          }
        },
        "95f8d16a741a4487b8ee8dcbc9a89fed": {
          "model_module": "@jupyter-widgets/base",
          "model_name": "LayoutModel",
          "model_module_version": "1.2.0",
          "state": {
            "_model_module": "@jupyter-widgets/base",
            "_model_module_version": "1.2.0",
            "_model_name": "LayoutModel",
            "_view_count": null,
            "_view_module": "@jupyter-widgets/base",
            "_view_module_version": "1.2.0",
            "_view_name": "LayoutView",
            "align_content": null,
            "align_items": null,
            "align_self": null,
            "border": null,
            "bottom": null,
            "display": null,
            "flex": null,
            "flex_flow": null,
            "grid_area": null,
            "grid_auto_columns": null,
            "grid_auto_flow": null,
            "grid_auto_rows": null,
            "grid_column": null,
            "grid_gap": null,
            "grid_row": null,
            "grid_template_areas": null,
            "grid_template_columns": null,
            "grid_template_rows": null,
            "height": null,
            "justify_content": null,
            "justify_items": null,
            "left": null,
            "margin": null,
            "max_height": null,
            "max_width": null,
            "min_height": null,
            "min_width": null,
            "object_fit": null,
            "object_position": null,
            "order": null,
            "overflow": null,
            "overflow_x": null,
            "overflow_y": null,
            "padding": null,
            "right": null,
            "top": null,
            "visibility": null,
            "width": null
          }
        },
        "59ac59b443cb4c44af6439aebbb55ac9": {
          "model_module": "@jupyter-widgets/controls",
          "model_name": "SliderStyleModel",
          "model_module_version": "1.5.0",
          "state": {
            "_model_module": "@jupyter-widgets/controls",
            "_model_module_version": "1.5.0",
            "_model_name": "SliderStyleModel",
            "_view_count": null,
            "_view_module": "@jupyter-widgets/base",
            "_view_module_version": "1.2.0",
            "_view_name": "StyleView",
            "description_width": "",
            "handle_color": null
          }
        },
        "36a89c23789d466d874159e7e42ec4a3": {
          "model_module": "@jupyter-widgets/base",
          "model_name": "LayoutModel",
          "model_module_version": "1.2.0",
          "state": {
            "_model_module": "@jupyter-widgets/base",
            "_model_module_version": "1.2.0",
            "_model_name": "LayoutModel",
            "_view_count": null,
            "_view_module": "@jupyter-widgets/base",
            "_view_module_version": "1.2.0",
            "_view_name": "LayoutView",
            "align_content": null,
            "align_items": null,
            "align_self": null,
            "border": null,
            "bottom": null,
            "display": null,
            "flex": null,
            "flex_flow": null,
            "grid_area": null,
            "grid_auto_columns": null,
            "grid_auto_flow": null,
            "grid_auto_rows": null,
            "grid_column": null,
            "grid_gap": null,
            "grid_row": null,
            "grid_template_areas": null,
            "grid_template_columns": null,
            "grid_template_rows": null,
            "height": null,
            "justify_content": null,
            "justify_items": null,
            "left": null,
            "margin": null,
            "max_height": null,
            "max_width": null,
            "min_height": null,
            "min_width": null,
            "object_fit": null,
            "object_position": null,
            "order": null,
            "overflow": null,
            "overflow_x": null,
            "overflow_y": null,
            "padding": null,
            "right": null,
            "top": null,
            "visibility": null,
            "width": null
          }
        }
      }
    }
  },
  "nbformat": 4,
  "nbformat_minor": 0
}